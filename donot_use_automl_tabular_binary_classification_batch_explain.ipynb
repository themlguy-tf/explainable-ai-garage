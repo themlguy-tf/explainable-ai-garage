{
 "cells": [
  {
   "cell_type": "code",
   "execution_count": null,
   "metadata": {
    "id": "copyright"
   },
   "outputs": [],
   "source": [
    "# Copyright 2021 Google LLC\n",
    "#\n",
    "# Licensed under the Apache License, Version 2.0 (the \"License\");\n",
    "# you may not use this file except in compliance with the License.\n",
    "# You may obtain a copy of the License at\n",
    "#\n",
    "#     https://www.apache.org/licenses/LICENSE-2.0\n",
    "#\n",
    "# Unless required by applicable law or agreed to in writing, software\n",
    "# distributed under the License is distributed on an \"AS IS\" BASIS,\n",
    "# WITHOUT WARRANTIES OR CONDITIONS OF ANY KIND, either express or implied.\n",
    "# See the License for the specific language governing permissions and\n",
    "# limitations under the License."
   ]
  },
  {
   "cell_type": "markdown",
   "metadata": {
    "id": "title"
   },
   "source": [
    "# Vertex AI SDK: AutoML training tabular binary classification model for batch explanation\n",
    "\n",
    "<table align=\"left\">\n",
    "  <td>\n",
    "    <a href=\"https://colab.research.google.com/github/GoogleCloudPlatform/vertex-ai-samples/blob/main/notebooks/official/explainable_ai/sdk_automl_tabular_binary_classification_batch_explain.ipynb\">\n",
    "      <img src=\"https://cloud.google.com/ml-engine/images/colab-logo-32px.png\" alt=\"Colab logo\"> Run in Colab\n",
    "    </a>\n",
    "  </td>\n",
    "  <td>\n",
    "    <a href=\"https://github.com/GoogleCloudPlatform/vertex-ai-samples/blob/main/notebooks/official/explainable_ai/sdk_automl_tabular_binary_classification_batch_explain.ipynb\">\n",
    "      <img src=\"https://cloud.google.com/ml-engine/images/github-logo-32px.png\" alt=\"GitHub logo\">\n",
    "      View on GitHub\n",
    "    </a>\n",
    "  </td>\n",
    "  <td>\n",
    "    <a href=\"https://console.cloud.google.com/vertex-ai/workbench/deploy-notebook?download_url=https://raw.githubusercontent.com/GoogleCloudPlatform/vertex-ai-samples/tree/main/notebooks/official/explainable_ai/sdk_automl_tabular_binary_classification_batch_explain.ipynb\">\n",
    "      <img src=\"https://lh3.googleusercontent.com/UiNooY4LUgW_oTvpsNhPpQzsstV5W8F7rYgxgGBD85cWJoLmrOzhVs_ksK_vgx40SHs7jCqkTkCk=e14-rj-sc0xffffff-h130-w32\" alt=\"Vertex AI logo\">\n",
    "      Open in Vertex AI Workbench\n",
    "    </a>\n",
    "  </td>\n",
    "</table>\n",
    "<br/><br/><br/>"
   ]
  },
  {
   "cell_type": "markdown",
   "metadata": {
    "id": "overview:automl,xai"
   },
   "source": [
    "## Overview\n",
    "\n",
    "\n",
    "This tutorial demonstrates how to use the Vertex AI SDK to create tabular binary classification models and do batch prediction with explanation using a Google Cloud [AutoML](https://cloud.google.com/vertex-ai/docs/start/automl-users) model."
   ]
  },
  {
   "cell_type": "markdown",
   "metadata": {
    "id": "objective:automl,training,batch_prediction,xai"
   },
   "source": [
    "### Objective\n",
    "\n",
    "In this tutorial, you learn to use `AutoML` to create a tabular binary classification model from a Python script, and then learn to use `Vertex AI Batch Prediction` to make predictions with explanations. You can alternatively create and deploy models using the `gcloud` command-line tool or online using the Cloud Console.\n",
    "\n",
    "This tutorial uses the following Google Cloud ML services:\n",
    "\n",
    "- `Vertex AI AutoML`\n",
    "- `Vertex AI Batch Prediction`\n",
    "- `Vertex Explainable AI`\n",
    "- `Vertex AI Model` resource\n",
    "\n",
    "\n",
    "The steps performed include:\n",
    "\n",
    "- Create a `Vertex Dataset` resource.\n",
    "- Train an `AutoML` tabular binary classification model.\n",
    "- View the model evaluation metrics for the trained model.\n",
    "- Make a batch prediction request with explainability.\n",
    "\n",
    "There is one key difference between using batch prediction and using online prediction:\n",
    "\n",
    "* Prediction Service: Does an on-demand prediction for the entire set of instances (i.e., one or more data items) and returns the results in real-time.\n",
    "\n",
    "* Batch Prediction Service: Does a queued (batch) prediction for the entire set of instances in the background and stores the results in a Cloud Storage bucket when ready."
   ]
  },
  {
   "cell_type": "markdown",
   "metadata": {
    "id": "7a4881cf39a4"
   },
   "source": [
    "### Dataset\n",
    "\n",
    "The dataset used for this tutorial is the Bank Marketing. This dataset does not require any feature engineering. The version of the dataset you use in this tutorial is stored in a public Cloud Storage bucket."
   ]
  },
  {
   "cell_type": "markdown",
   "metadata": {
    "id": "costs"
   },
   "source": [
    "### Costs\n",
    "\n",
    "This tutorial uses billable components of Google Cloud:\n",
    "\n",
    "* Vertex AI\n",
    "* Cloud Storage\n",
    "\n",
    "Learn about [Vertex AI\n",
    "pricing](https://cloud.google.com/vertex-ai/pricing) and [Cloud Storage\n",
    "pricing](https://cloud.google.com/storage/pricing), and use the [Pricing\n",
    "Calculator](https://cloud.google.com/products/calculator/)\n",
    "to generate a cost estimate based on your projected usage."
   ]
  },
  {
   "cell_type": "markdown",
   "metadata": {
    "id": "setup_local"
   },
   "source": [
    "### Set up your local development environment\n",
    "\n",
    "If you are using Colab or Vertex AI Workbench Notebook, your environment already meets all the requirements to run this notebook. You can skip this step.\n",
    "\n",
    "Otherwise, make sure your environment meets this notebook's requirements. You need the following:\n",
    "\n",
    "- The Cloud Storage SDK\n",
    "- Git\n",
    "- Python 3\n",
    "- virtualenv\n",
    "- Jupyter notebook running in a virtual environment with Python 3\n",
    "\n",
    "The Cloud Storage guide to [Setting up a Python development environment](https://cloud.google.com/python/setup) and the [Jupyter installation guide](https://jupyter.org/install) provide detailed instructions for meeting these requirements. The following steps provide a condensed set of instructions:\n",
    "\n",
    "1. [Install and initialize the SDK](https://cloud.google.com/sdk/docs/).\n",
    "\n",
    "2. [Install Python 3](https://cloud.google.com/python/setup#installing_python).\n",
    "\n",
    "3. [Install virtualenv](https://cloud.google.com/python/setup#installing_and_using_virtualenv) and create a virtual environment that uses Python 3.\n",
    "\n",
    "4. Activate that environment and run `pip3 install Jupyter` in a terminal shell to install Jupyter.\n",
    "\n",
    "5. Run `jupyter notebook` on the command line in a terminal shell to launch Jupyter.\n",
    "\n",
    "6. Open this notebook in the Jupyter Notebook Dashboard.\n"
   ]
  },
  {
   "cell_type": "markdown",
   "metadata": {
    "id": "install_aip:mbsdk"
   },
   "source": [
    "## Installation\n",
    "\n",
    "Install the packages required for executing this notebook."
   ]
  },
  {
   "cell_type": "code",
   "execution_count": null,
   "metadata": {
    "id": "xn_rKORwxsM9"
   },
   "outputs": [],
   "source": [
    "import os\n",
    "\n",
    "# The Vertex AI Workbench Notebook product has specific requirements\n",
    "IS_WORKBENCH_NOTEBOOK = os.getenv(\"DL_ANACONDA_HOME\") and not os.getenv(\"VIRTUAL_ENV\")\n",
    "IS_USER_MANAGED_WORKBENCH_NOTEBOOK = os.path.exists(\n",
    "    \"/opt/deeplearning/metadata/env_version\"\n",
    ")\n",
    "\n",
    "# Vertex AI Notebook requires dependencies to be installed with '--user'\n",
    "USER_FLAG = \"\"\n",
    "if IS_WORKBENCH_NOTEBOOK:\n",
    "    USER_FLAG = \"--user\"\n",
    "\n",
    "! pip3 install --upgrade google-cloud-aiplatform $USER_FLAG -q\n",
    "! pip3 install {USER_FLAG} --upgrade google-cloud-storage -q\n",
    "! pip3 install --upgrade tensorflow $USER_FLAG"
   ]
  },
  {
   "cell_type": "markdown",
   "metadata": {
    "id": "restart"
   },
   "source": [
    "### Restart the kernel\n",
    "\n",
    "Once you've installed the additional packages, you need to restart the notebook kernel so it can find the packages."
   ]
  },
  {
   "cell_type": "code",
   "execution_count": null,
   "metadata": {
    "id": "JXin3oQYxsM_"
   },
   "outputs": [],
   "source": [
    "import os\n",
    "\n",
    "if not os.getenv(\"IS_TESTING\"):\n",
    "    # Automatically restart kernel after installs\n",
    "    import IPython\n",
    "\n",
    "    app = IPython.Application.instance()\n",
    "    app.kernel.do_shutdown(True)"
   ]
  },
  {
   "cell_type": "markdown",
   "metadata": {
    "id": "before_you_begin:nogpu"
   },
   "source": [
    "## Before you begin\n",
    "\n",
    "### GPU runtime\n",
    "\n",
    "This tutorial does not require a GPU runtime.\n",
    "\n",
    "### Set up your Google Cloud project\n",
    "\n",
    "**The following steps are required, regardless of your notebook environment.**\n",
    "\n",
    "1. [Select or create a Google Cloud project](https://console.cloud.google.com/cloud-resource-manager). When you first create an account, you get a $300 free credit towards your compute/storage costs.\n",
    "\n",
    "2. [Make sure that billing is enabled for your project.](https://cloud.google.com/billing/docs/how-to/modify-project)\n",
    "\n",
    "3. [Enable the following APIs: Vertex AI APIs, Compute Engine APIs, and Cloud Storage.](https://console.cloud.google.com/flows/enableapi?apiid=ml.googleapis.com,compute_component,storage-component.googleapis.com)\n",
    "\n",
    "4. [The Google Cloud SDK](https://cloud.google.com/sdk) is already installed in Google Cloud Notebook.\n",
    "\n",
    "5. Enter your project ID in the cell below. Then run the  cell to make sure the\n",
    "Cloud SDK uses the right project for all the commands in this notebook.\n",
    "\n",
    "**Note**: Jupyter runs lines prefixed with `!` as shell commands, and it interpolates Python variables prefixed with `$`."
   ]
  },
  {
   "cell_type": "code",
   "execution_count": 40,
   "metadata": {
    "id": "set_project_id"
   },
   "outputs": [],
   "source": [
    "PROJECT_ID = \"ai-ml-meta-auto\"  # @param {type:\"string\"}"
   ]
  },
  {
   "cell_type": "code",
   "execution_count": null,
   "metadata": {
    "id": "autoset_project_id"
   },
   "outputs": [],
   "source": [
    "if PROJECT_ID == \"\" or PROJECT_ID is None or PROJECT_ID == \"[your-project-id]\":\n",
    "    # Get your GCP project id from gcloud\n",
    "    shell_output = ! gcloud config list --format 'value(core.project)' 2>/dev/null\n",
    "    PROJECT_ID = shell_output[0]\n",
    "    print(\"Project ID:\", PROJECT_ID)"
   ]
  },
  {
   "cell_type": "code",
   "execution_count": 7,
   "metadata": {
    "id": "set_gcloud_project_id"
   },
   "outputs": [
    {
     "name": "stdout",
     "output_type": "stream",
     "text": [
      "\u001b[1;33mWARNING:\u001b[0m You do not appear to have access to project [ai-ml-meta-auto] or it does not exist.\n",
      "Are you sure you wish to set property [core/project] to ai-ml-meta-auto?\n",
      "\n",
      "Do you want to continue (Y/n)?  ^C\n",
      "\n",
      "\n",
      "Command killed by keyboard interrupt\n",
      "\n"
     ]
    }
   ],
   "source": [
    "! gcloud config set project $PROJECT_ID"
   ]
  },
  {
   "cell_type": "markdown",
   "metadata": {
    "id": "region"
   },
   "source": [
    "#### Region\n",
    "\n",
    "You can also change the `REGION` variable, which is used for operations\n",
    "throughout the rest of this notebook.  Below are regions supported for Vertex AI. We recommend that you choose the region closest to you.\n",
    "\n",
    "- Americas: `us-central1`\n",
    "- Europe: `europe-west4`\n",
    "- Asia Pacific: `asia-east1`\n",
    "\n",
    "You may not use a multi-regional bucket for training with Vertex AI. Not all regions provide support for all Vertex AI services.\n",
    "\n",
    "Learn more about [Vertex AI regions](https://cloud.google.com/vertex-ai/docs/general/locations)"
   ]
  },
  {
   "cell_type": "code",
   "execution_count": 41,
   "metadata": {
    "id": "MEWtCaf6xsND"
   },
   "outputs": [],
   "source": [
    "REGION = \"us-central1\"  # @param {type: \"string\"}\n",
    "\n",
    "if REGION == \"[your-region]\":\n",
    "    REGION = \"us-central1\""
   ]
  },
  {
   "cell_type": "markdown",
   "metadata": {
    "id": "timestamp"
   },
   "source": [
    "#### UUID\n",
    "If you are in a live tutorial session, you might be using a shared test account or project. To avoid name collisions between users on resources created, you create a uuid for each instance session, and append the uuid onto the name of resources you create in this tutorial."
   ]
  },
  {
   "cell_type": "code",
   "execution_count": 61,
   "metadata": {
    "id": "ATYgiLIHxsNE"
   },
   "outputs": [
    {
     "name": "stdout",
     "output_type": "stream",
     "text": [
      "oodtibwt\n"
     ]
    }
   ],
   "source": [
    "import random\n",
    "import string\n",
    "\n",
    "\n",
    "# Generate a uuid of length 8\n",
    "def generate_uuid():\n",
    "    return \"\".join(random.choices(string.ascii_lowercase + string.digits, k=8))\n",
    "\n",
    "\n",
    "UUID = generate_uuid()\n",
    "\n",
    "print(UUID)"
   ]
  },
  {
   "cell_type": "code",
   "execution_count": 62,
   "metadata": {},
   "outputs": [],
   "source": [
    "#UUID = \"37k49bde\""
   ]
  },
  {
   "cell_type": "markdown",
   "metadata": {
    "id": "gcp_authenticate"
   },
   "source": [
    "### Authenticate your Google Cloud account\n",
    "\n",
    "**If you are using Vertex AI Workbench Notebooks**, your environment is already\n",
    "authenticated. Skip this step.\n",
    "\n",
    "**If you are using Colab**, run the cell below and follow the instructions\n",
    "when prompted to authenticate your account via oAuth.\n",
    "\n",
    "**Otherwise**, follow these steps:\n",
    "\n",
    "1. In the Cloud Console, go to the [**Create service account key**\n",
    "   page](https://console.cloud.google.com/apis/credentials/serviceaccountkey).\n",
    "\n",
    "2. Click **Create service account**.\n",
    "\n",
    "3. In the **Service account name** field, enter a name, and\n",
    "   click **Create**.\n",
    "\n",
    "4. In the **Grant this service account access to project** section, click the **Role** drop-down list. Type \"Vertex AI\"\n",
    "into the filter box, and select\n",
    "   **Vertex AI Administrator**. Type \"Storage Object Admin\" into the filter box, and select **Storage Object Admin**.\n",
    "\n",
    "5. Click *Create*. A JSON file that contains your key downloads to your\n",
    "local environment.\n",
    "\n",
    "6. Enter the path to your service account key as the\n",
    "`GOOGLE_APPLICATION_CREDENTIALS` variable in the cell below and run the cell."
   ]
  },
  {
   "cell_type": "code",
   "execution_count": null,
   "metadata": {
    "id": "fXGtB3GIxsNI"
   },
   "outputs": [],
   "source": [
    "# If you are running this notebook in Colab, run this cell and follow the\n",
    "# instructions to authenticate your GCP account. This provides access to your\n",
    "# Cloud Storage bucket and lets you submit training jobs and prediction\n",
    "# requests.\n",
    "\n",
    "import os\n",
    "import sys\n",
    "\n",
    "# If on Vertex AI Workbench, then don't execute this code\n",
    "IS_COLAB = \"google.colab\" in sys.modules\n",
    "if not os.path.exists(\"/opt/deeplearning/metadata/env_version\") and not os.getenv(\n",
    "    \"DL_ANACONDA_HOME\"\n",
    "):\n",
    "    if \"google.colab\" in sys.modules:\n",
    "        from google.colab import auth as google_auth\n",
    "\n",
    "        google_auth.authenticate_user()\n",
    "\n",
    "    # If you are running this notebook locally, replace the string below with the\n",
    "    # path to your service account key and run this cell to authenticate your GCP\n",
    "    # account.\n",
    "    elif not os.getenv(\"IS_TESTING\"):\n",
    "        %env GOOGLE_APPLICATION_CREDENTIALS ''"
   ]
  },
  {
   "cell_type": "markdown",
   "metadata": {
    "id": "bucket:mbsdk"
   },
   "source": [
    "### Create a Cloud Storage bucket\n",
    "\n",
    "**The following steps are required, regardless of your notebook environment.**\n",
    "\n",
    "When you initialize the Vertex AI SDK for Python, you specify a Cloud Storage staging bucket. The staging bucket is where all the data associated with your dataset and model resources are retained across sessions.\n",
    "\n",
    "Set the name of your Cloud Storage bucket below. Bucket names must be globally unique across all Google Cloud projects, including those outside of your organization."
   ]
  },
  {
   "cell_type": "code",
   "execution_count": 64,
   "metadata": {
    "id": "bucket"
   },
   "outputs": [],
   "source": [
    "BUCKET_NAME = \"ai-ml-meta-auto-vertexai\"  # @param {type:\"string\"}\n",
    "BUCKET_URI = f\"gs://{BUCKET_NAME}\""
   ]
  },
  {
   "cell_type": "code",
   "execution_count": null,
   "metadata": {
    "id": "autoset_bucket"
   },
   "outputs": [],
   "source": [
    "if BUCKET_NAME == \"\" or BUCKET_NAME is None or BUCKET_NAME == \"[your-bucket-name]\":\n",
    "    BUCKET_NAME = PROJECT_ID + \"aip-\" + UUID\n",
    "    BUCKET_URI = \"gs://\" + BUCKET_NAME"
   ]
  },
  {
   "cell_type": "markdown",
   "metadata": {
    "id": "create_bucket"
   },
   "source": [
    "**Only if your bucket doesn't already exist**: Run the following cell to create your Cloud Storage bucket."
   ]
  },
  {
   "cell_type": "code",
   "execution_count": null,
   "metadata": {
    "id": "dPyS38i-xsNN"
   },
   "outputs": [],
   "source": [
    "! gsutil mb -l $REGION $BUCKET_URI"
   ]
  },
  {
   "cell_type": "markdown",
   "metadata": {
    "id": "validate_bucket"
   },
   "source": [
    "Finally, validate access to your Cloud Storage bucket by examining its contents:"
   ]
  },
  {
   "cell_type": "code",
   "execution_count": 65,
   "metadata": {
    "id": "xmJlfk_xxsNO"
   },
   "outputs": [
    {
     "name": "stdout",
     "output_type": "stream",
     "text": [
      "    295279  2022-09-02T19:15:02Z  gs://ai-ml-meta-auto-vertexai/model.bst#1662146102703409  metageneration=1\n",
      "       910  2022-09-06T22:36:16Z  gs://ai-ml-meta-auto-vertexai/test.csv#1662503776268503  metageneration=1\n",
      "                                 gs://ai-ml-meta-auto-vertexai/bqml/\n",
      "                                 gs://ai-ml-meta-auto-vertexai/pipeline_root/\n",
      "TOTAL: 2 objects, 296189 bytes (289.25 KiB)\n"
     ]
    }
   ],
   "source": [
    "! gsutil ls -al $BUCKET_URI"
   ]
  },
  {
   "cell_type": "markdown",
   "metadata": {
    "id": "setup_vars"
   },
   "source": [
    "### Set up variables\n",
    "\n",
    "Next, set up some variables used throughout the tutorial.\n",
    "### Import libraries and define constants"
   ]
  },
  {
   "cell_type": "code",
   "execution_count": 66,
   "metadata": {
    "id": "import_aip:mbsdk"
   },
   "outputs": [],
   "source": [
    "import google.cloud.aiplatform as aip"
   ]
  },
  {
   "cell_type": "markdown",
   "metadata": {
    "id": "init_aip:mbsdk"
   },
   "source": [
    "### Initialize Vertex AI SDK for Python\n",
    "\n",
    "Initialize the Vertex AI SDK for Python for your project and corresponding bucket."
   ]
  },
  {
   "cell_type": "code",
   "execution_count": 67,
   "metadata": {
    "id": "MJWfphTwxsNR"
   },
   "outputs": [],
   "source": [
    "aip.init(project=PROJECT_ID, staging_bucket=BUCKET_URI)"
   ]
  },
  {
   "cell_type": "markdown",
   "metadata": {
    "id": "tutorial_start:automl"
   },
   "source": [
    "# Tutorial\n",
    "\n",
    "Now you are ready to start creating your own AutoML tabular binary classification model."
   ]
  },
  {
   "cell_type": "markdown",
   "metadata": {
    "id": "import_file:u_dataset,csv"
   },
   "source": [
    "#### Location of Cloud Storage training data.\n",
    "\n",
    "Now set the variable `IMPORT_FILE` to the location of the CSV index file in Cloud Storage."
   ]
  },
  {
   "cell_type": "code",
   "execution_count": 48,
   "metadata": {
    "id": "import_file:bank,csv,lbn"
   },
   "outputs": [],
   "source": [
    "IMPORT_FILE = \"gs://cloud-ml-tables-data/bank-marketing.csv\""
   ]
  },
  {
   "cell_type": "code",
   "execution_count": 68,
   "metadata": {},
   "outputs": [],
   "source": [
    "IMPORT_FILE = \"../../myCode/BQML/import_file.csv\""
   ]
  },
  {
   "cell_type": "code",
   "execution_count": 69,
   "metadata": {},
   "outputs": [
    {
     "name": "stdout",
     "output_type": "stream",
     "text": [
      "Copying file://./import_file.csv [Content-Type=text/csv]...\n",
      "/ [1 files][117.8 KiB/117.8 KiB]                                                \n",
      "Operation completed over 1 objects/117.8 KiB.                                    \n"
     ]
    }
   ],
   "source": [
    "!gsutil cp ./import_file.csv $BUCKET_URI/bqml"
   ]
  },
  {
   "cell_type": "code",
   "execution_count": 70,
   "metadata": {},
   "outputs": [
    {
     "data": {
      "text/plain": [
       "'gs://ai-ml-meta-auto-vertexai/bqml/import_file.csv'"
      ]
     },
     "execution_count": 70,
     "metadata": {},
     "output_type": "execute_result"
    }
   ],
   "source": [
    "IMPORT_FILE = \"gs://\"+BUCKET_NAME+\"/bqml/import_file.csv\"\n",
    "IMPORT_FILE"
   ]
  },
  {
   "cell_type": "markdown",
   "metadata": {
    "id": "quick_peek:tabular"
   },
   "source": [
    "#### Quick peek at your data\n",
    "\n",
    "You use a version of the Bank Marketing dataset that is stored in a public Cloud Storage bucket, using a CSV index file.\n",
    "\n",
    "Start by doing a quick peek at the data. You count the number of examples by counting the number of rows in the CSV index file  (`wc -l`) and then peek at the first few rows.\n",
    "\n",
    "You also need for training to know the heading name of the label column, which is save as `label_column`. For this dataset, it is the last column in the CSV file."
   ]
  },
  {
   "cell_type": "code",
   "execution_count": 71,
   "metadata": {
    "id": "5hiTWc0MxsNS"
   },
   "outputs": [
    {
     "name": "stdout",
     "output_type": "stream",
     "text": [
      "Number of Examples 1500\n",
      "First 10 rows\n",
      "Age,Job,MaritalStatus,Education,Default,Balance,Housing,Loan,Contact,Day,Month,Duration,Campaign,PDays,Previous,POutcome,Deposit\n",
      "58,management,married,tertiary,no,2143,yes,no,unknown,5,may,261,1,-1,0,unknown,1\n",
      "44,technician,single,secondary,no,29,yes,no,unknown,5,may,151,1,-1,0,unknown,1\n",
      "33,entrepreneur,married,secondary,no,2,yes,yes,unknown,5,may,76,1,-1,0,unknown,1\n",
      "47,blue-collar,married,unknown,no,1506,yes,no,unknown,5,may,92,1,-1,0,unknown,1\n",
      "33,unknown,single,unknown,no,1,no,no,unknown,5,may,198,1,-1,0,unknown,1\n",
      "35,management,married,tertiary,no,231,yes,no,unknown,5,may,139,1,-1,0,unknown,1\n",
      "28,management,single,tertiary,no,447,yes,yes,unknown,5,may,217,1,-1,0,unknown,1\n",
      "42,entrepreneur,divorced,tertiary,yes,2,yes,no,unknown,5,may,380,1,-1,0,unknown,1\n",
      "58,retired,married,primary,no,121,yes,no,unknown,5,may,50,1,-1,0,unknown,1\n",
      "Label Column Name Deposit\n"
     ]
    }
   ],
   "source": [
    "count = ! gsutil cat $IMPORT_FILE | wc -l\n",
    "print(\"Number of Examples\", int(count[0]))\n",
    "\n",
    "print(\"First 10 rows\")\n",
    "! gsutil cat $IMPORT_FILE | head\n",
    "\n",
    "heading = ! gsutil cat $IMPORT_FILE | head -n1\n",
    "label_column = str(heading).split(\",\")[-1].split(\"'\")[0]\n",
    "print(\"Label Column Name\", label_column)\n",
    "if label_column is None:\n",
    "    raise Exception(\"label column missing\")"
   ]
  },
  {
   "cell_type": "markdown",
   "metadata": {
    "id": "create_dataset:tabular,lbn"
   },
   "source": [
    "### Create the Dataset\n",
    "\n",
    "Next, create the `Dataset` resource using the `create` method for the `TabularDataset` class, which takes the following parameters:\n",
    "\n",
    "- `display_name`: The human readable name for the `Dataset` resource.\n",
    "- `gcs_source`: A list of one or more dataset index files to import the data items into the `Dataset` resource.\n",
    "- `bq_source`: Alternatively, import data items from a BigQuery table into the `Dataset` resource.\n",
    "\n",
    "This operation may take several minutes."
   ]
  },
  {
   "cell_type": "code",
   "execution_count": 72,
   "metadata": {
    "id": "M8n21ShxxsNT"
   },
   "outputs": [
    {
     "name": "stdout",
     "output_type": "stream",
     "text": [
      "Creating TabularDataset\n",
      "Create TabularDataset backing LRO: projects/670723894630/locations/us-central1/datasets/2492427933424025600/operations/5177077231259746304\n",
      "TabularDataset created. Resource name: projects/670723894630/locations/us-central1/datasets/2492427933424025600\n",
      "To use this TabularDataset in another session:\n",
      "ds = aiplatform.TabularDataset('projects/670723894630/locations/us-central1/datasets/2492427933424025600')\n",
      "projects/670723894630/locations/us-central1/datasets/2492427933424025600\n"
     ]
    }
   ],
   "source": [
    "dataset = aip.TabularDataset.create(\n",
    "    display_name=\"Bank Marketing\" + \"_\" + UUID, gcs_source=[IMPORT_FILE]\n",
    ")\n",
    "\n",
    "print(dataset.resource_name)"
   ]
  },
  {
   "cell_type": "markdown",
   "metadata": {
    "id": "create_automl_pipeline:tabular,lbn"
   },
   "source": [
    "### Create and run training pipeline\n",
    "\n",
    "To train an AutoML model, you perform two steps: 1) create a training pipeline, and 2) run the pipeline.\n",
    "\n",
    "#### Create training pipeline\n",
    "\n",
    "An AutoML training pipeline is created with the `AutoMLTabularTrainingJob` class, with the following parameters:\n",
    "\n",
    "- `display_name`: The human readable name for the `TrainingJob` resource.\n",
    "- `optimization_prediction_type`: The type task to train the model for.\n",
    "  - `classification`: A tabuar classification model.\n",
    "  - `regression`: A tabular regression model.\n",
    "- `column_transformations`: (Optional): Transformations to apply to the input columns\n",
    "- `optimization_objective`: The optimization objective to minimize or maximize.\n",
    "  - binary classification:\n",
    "    - `minimize-log-loss`\n",
    "    - `maximize-au-roc`\n",
    "    - `maximize-au-prc`\n",
    "    - `maximize-precision-at-recall`\n",
    "    - `maximize-recall-at-precision`\n",
    "  - multi-class classification:\n",
    "    - `minimize-log-loss`\n",
    "  - regression:\n",
    "    - `minimize-rmse`\n",
    "    - `minimize-mae`\n",
    "    - `minimize-rmsle`\n",
    "\n",
    "The instantiated object is the DAG (directed acyclic graph) for the training pipeline."
   ]
  },
  {
   "cell_type": "code",
   "execution_count": 73,
   "metadata": {
    "id": "uDPwcMFMxsNU"
   },
   "outputs": [
    {
     "name": "stdout",
     "output_type": "stream",
     "text": [
      "<google.cloud.aiplatform.training_jobs.AutoMLTabularTrainingJob object at 0x7f621a0b1fd0>\n"
     ]
    }
   ],
   "source": [
    "dag = aip.AutoMLTabularTrainingJob(\n",
    "    display_name=\"bank_\" + UUID,\n",
    "    optimization_prediction_type=\"classification\",\n",
    "    optimization_objective=\"minimize-log-loss\",\n",
    ")\n",
    "\n",
    "print(dag)"
   ]
  },
  {
   "cell_type": "markdown",
   "metadata": {
    "id": "run_automl_pipeline:tabular"
   },
   "source": [
    "#### Run the training pipeline\n",
    "\n",
    "Next, you run the DAG to start the training job by invoking the method `run`, with the following parameters:\n",
    "\n",
    "- `dataset`: The `Dataset` resource to train the model.\n",
    "- `model_display_name`: The human readable name for the trained model.\n",
    "- `training_fraction_split`: The percentage of the dataset to use for training.\n",
    "- `test_fraction_split`: The percentage of the dataset to use for test (holdout data).\n",
    "- `validation_fraction_split`: The percentage of the dataset to use for validation.\n",
    "- `target_column`: The name of the column to train as the label.\n",
    "- `budget_milli_node_hours`: (optional) Maximum training time specified in unit of millihours (1000 = hour).\n",
    "- `disable_early_stopping`: If `True`, training maybe completed before using the entire budget if the service believes it cannot further improve on the model objective measurements.\n",
    "\n",
    "The `run` method when completed returns the `Model` resource.\n",
    "\n",
    "The execution of the training pipeline will take upto 20 minutes."
   ]
  },
  {
   "cell_type": "code",
   "execution_count": 74,
   "metadata": {
    "id": "sALH6FIixsNV"
   },
   "outputs": [
    {
     "name": "stdout",
     "output_type": "stream",
     "text": [
      "No column transformations provided, so now retrieving columns from dataset in order to set default column transformations.\n",
      "The column transformation of type 'auto' was set for the following columns: ['Contact', 'Duration', 'Job', 'POutcome', 'MaritalStatus', 'Default', 'PDays', 'Loan', 'Housing', 'Month', 'Education', 'Age', 'Balance', 'Previous', 'Day', 'Campaign'].\n",
      "View Training:\n",
      "https://console.cloud.google.com/ai/platform/locations/us-central1/training/2351872139365187584?project=670723894630\n",
      "AutoMLTabularTrainingJob projects/670723894630/locations/us-central1/trainingPipelines/2351872139365187584 current state:\n",
      "PipelineState.PIPELINE_STATE_RUNNING\n",
      "AutoMLTabularTrainingJob projects/670723894630/locations/us-central1/trainingPipelines/2351872139365187584 current state:\n",
      "PipelineState.PIPELINE_STATE_RUNNING\n",
      "AutoMLTabularTrainingJob projects/670723894630/locations/us-central1/trainingPipelines/2351872139365187584 current state:\n",
      "PipelineState.PIPELINE_STATE_RUNNING\n",
      "AutoMLTabularTrainingJob projects/670723894630/locations/us-central1/trainingPipelines/2351872139365187584 current state:\n",
      "PipelineState.PIPELINE_STATE_RUNNING\n",
      "AutoMLTabularTrainingJob projects/670723894630/locations/us-central1/trainingPipelines/2351872139365187584 current state:\n",
      "PipelineState.PIPELINE_STATE_RUNNING\n",
      "AutoMLTabularTrainingJob projects/670723894630/locations/us-central1/trainingPipelines/2351872139365187584 current state:\n",
      "PipelineState.PIPELINE_STATE_RUNNING\n",
      "AutoMLTabularTrainingJob projects/670723894630/locations/us-central1/trainingPipelines/2351872139365187584 current state:\n",
      "PipelineState.PIPELINE_STATE_RUNNING\n",
      "AutoMLTabularTrainingJob projects/670723894630/locations/us-central1/trainingPipelines/2351872139365187584 current state:\n",
      "PipelineState.PIPELINE_STATE_RUNNING\n",
      "AutoMLTabularTrainingJob projects/670723894630/locations/us-central1/trainingPipelines/2351872139365187584 current state:\n",
      "PipelineState.PIPELINE_STATE_RUNNING\n",
      "AutoMLTabularTrainingJob projects/670723894630/locations/us-central1/trainingPipelines/2351872139365187584 current state:\n",
      "PipelineState.PIPELINE_STATE_RUNNING\n",
      "AutoMLTabularTrainingJob projects/670723894630/locations/us-central1/trainingPipelines/2351872139365187584 current state:\n",
      "PipelineState.PIPELINE_STATE_RUNNING\n",
      "AutoMLTabularTrainingJob projects/670723894630/locations/us-central1/trainingPipelines/2351872139365187584 current state:\n",
      "PipelineState.PIPELINE_STATE_RUNNING\n",
      "AutoMLTabularTrainingJob projects/670723894630/locations/us-central1/trainingPipelines/2351872139365187584 current state:\n",
      "PipelineState.PIPELINE_STATE_RUNNING\n",
      "AutoMLTabularTrainingJob projects/670723894630/locations/us-central1/trainingPipelines/2351872139365187584 current state:\n",
      "PipelineState.PIPELINE_STATE_RUNNING\n",
      "AutoMLTabularTrainingJob projects/670723894630/locations/us-central1/trainingPipelines/2351872139365187584 current state:\n",
      "PipelineState.PIPELINE_STATE_RUNNING\n",
      "AutoMLTabularTrainingJob projects/670723894630/locations/us-central1/trainingPipelines/2351872139365187584 current state:\n",
      "PipelineState.PIPELINE_STATE_RUNNING\n",
      "AutoMLTabularTrainingJob projects/670723894630/locations/us-central1/trainingPipelines/2351872139365187584 current state:\n",
      "PipelineState.PIPELINE_STATE_RUNNING\n",
      "AutoMLTabularTrainingJob projects/670723894630/locations/us-central1/trainingPipelines/2351872139365187584 current state:\n",
      "PipelineState.PIPELINE_STATE_RUNNING\n",
      "AutoMLTabularTrainingJob projects/670723894630/locations/us-central1/trainingPipelines/2351872139365187584 current state:\n",
      "PipelineState.PIPELINE_STATE_RUNNING\n",
      "AutoMLTabularTrainingJob projects/670723894630/locations/us-central1/trainingPipelines/2351872139365187584 current state:\n",
      "PipelineState.PIPELINE_STATE_RUNNING\n",
      "AutoMLTabularTrainingJob projects/670723894630/locations/us-central1/trainingPipelines/2351872139365187584 current state:\n",
      "PipelineState.PIPELINE_STATE_RUNNING\n",
      "AutoMLTabularTrainingJob projects/670723894630/locations/us-central1/trainingPipelines/2351872139365187584 current state:\n",
      "PipelineState.PIPELINE_STATE_RUNNING\n",
      "AutoMLTabularTrainingJob projects/670723894630/locations/us-central1/trainingPipelines/2351872139365187584 current state:\n",
      "PipelineState.PIPELINE_STATE_RUNNING\n",
      "AutoMLTabularTrainingJob projects/670723894630/locations/us-central1/trainingPipelines/2351872139365187584 current state:\n",
      "PipelineState.PIPELINE_STATE_RUNNING\n",
      "AutoMLTabularTrainingJob run completed. Resource name: projects/670723894630/locations/us-central1/trainingPipelines/2351872139365187584\n",
      "Model available at projects/670723894630/locations/us-central1/models/4977581497918685184\n"
     ]
    }
   ],
   "source": [
    "model = dag.run(\n",
    "    dataset=dataset,\n",
    "    model_display_name=\"bank_\" + UUID,\n",
    "    training_fraction_split=0.6,\n",
    "    validation_fraction_split=0.2,\n",
    "    test_fraction_split=0.2,\n",
    "    budget_milli_node_hours=800,\n",
    "    disable_early_stopping=True,\n",
    "    target_column=label_column,\n",
    ")"
   ]
  },
  {
   "cell_type": "markdown",
   "metadata": {
    "id": "evaluate_the_model:mbsdk"
   },
   "source": [
    "## Review model evaluation scores\n",
    "\n",
    "After your model training has finished, you can review the evaluation scores for it using the `list_model_evaluations()` method. This method will return an iterator for each evaluation slice."
   ]
  },
  {
   "cell_type": "code",
   "execution_count": 87,
   "metadata": {
    "id": "a1cs56POxsNW"
   },
   "outputs": [
    {
     "name": "stdout",
     "output_type": "stream",
     "text": [
      "{'name': 'projects/670723894630/locations/us-central1/models/4977581497918685184@1/evaluations/2335751134722006297', 'metricsSchemaUri': 'gs://google-cloud-aiplatform/schema/modelevaluation/classification_metrics_1.0.0.yaml', 'metrics': {'confidenceMetrics': [{'recall': 1.0, 'f1ScoreAt1': 0.6666667, 'recallAt1': 1.0, 'precisionAt1': 0.5, 'falsePositiveRateAt1': 1.0, 'precision': 0.5, 'falsePositiveCount': '298', 'confidenceThreshold': -0.005, 'f1Score': 0.6666667, 'truePositiveCount': '298', 'falsePositiveRate': 1.0}, {'falsePositiveCount': '298', 'f1ScoreAt1': 0.97651005, 'recall': 1.0, 'precisionAt1': 0.97651005, 'falsePositiveRateAt1': 0.023489933, 'truePositiveCount': '298', 'precision': 0.5, 'f1Score': 0.6666667, 'recallAt1': 0.97651005, 'falsePositiveRate': 1.0}, {'falsePositiveRate': 0.25503355, 'precisionAt1': 0.97651005, 'confidenceThreshold': 0.005, 'recallAt1': 0.97651005, 'f1ScoreAt1': 0.97651005, 'precision': 0.79679143, 'falsePositiveRateAt1': 0.023489933, 'recall': 1.0, 'truePositiveCount': '298', 'falsePositiveCount': '76', 'f1Score': 0.8869048, 'trueNegativeCount': '222'}, {'falsePositiveCount': '57', 'trueNegativeCount': '241', 'falsePositiveRate': 0.19127516, 'f1Score': 0.91271055, 'recallAt1': 0.97651005, 'confidenceThreshold': 0.01, 'precisionAt1': 0.97651005, 'precision': 0.8394366, 'f1ScoreAt1': 0.97651005, 'recall': 1.0, 'truePositiveCount': '298', 'falsePositiveRateAt1': 0.023489933}, {'falsePositiveCount': '45', 'precisionAt1': 0.97651005, 'confidenceThreshold': 0.015, 'recallAt1': 0.97651005, 'f1ScoreAt1': 0.97651005, 'f1Score': 0.92979723, 'truePositiveCount': '298', 'precision': 0.8688047, 'trueNegativeCount': '253', 'recall': 1.0, 'falsePositiveRateAt1': 0.023489933, 'falsePositiveRate': 0.15100671}, {'recallAt1': 0.97651005, 'confidenceThreshold': 0.02, 'trueNegativeCount': '259', 'falsePositiveCount': '39', 'falsePositiveRateAt1': 0.023489933, 'f1ScoreAt1': 0.97651005, 'truePositiveCount': '298', 'precisionAt1': 0.97651005, 'f1Score': 0.93858266, 'falsePositiveRate': 0.13087249, 'precision': 0.884273, 'recall': 1.0}, {'falsePositiveRateAt1': 0.023489933, 'falsePositiveCount': '37', 'f1Score': 0.94154817, 'trueNegativeCount': '261', 'recallAt1': 0.97651005, 'precisionAt1': 0.97651005, 'confidenceThreshold': 0.025, 'falsePositiveRate': 0.12416107, 'f1ScoreAt1': 0.97651005, 'recall': 1.0, 'truePositiveCount': '298', 'precision': 0.88955224}, {'falsePositiveRate': 0.110738255, 'f1ScoreAt1': 0.97651005, 'confidenceThreshold': 0.03, 'recall': 1.0, 'precisionAt1': 0.97651005, 'precision': 0.9003021, 'f1Score': 0.94753575, 'falsePositiveRateAt1': 0.023489933, 'trueNegativeCount': '265', 'falsePositiveCount': '33', 'recallAt1': 0.97651005, 'truePositiveCount': '298'}, {'falsePositiveRate': 0.10738255, 'precision': 0.9030303, 'f1ScoreAt1': 0.97651005, 'trueNegativeCount': '266', 'recallAt1': 0.97651005, 'f1Score': 0.9490446, 'confidenceThreshold': 0.035, 'recall': 1.0, 'falsePositiveCount': '32', 'falsePositiveRateAt1': 0.023489933, 'precisionAt1': 0.97651005, 'truePositiveCount': '298'}, {'recallAt1': 0.97651005, 'trueNegativeCount': '268', 'falseNegativeCount': '1', 'recall': 0.9966443, 'falsePositiveCount': '30', 'truePositiveCount': '297', 'falsePositiveRateAt1': 0.023489933, 'f1ScoreAt1': 0.97651005, 'falsePositiveRate': 0.10067114, 'precision': 0.9082569, 'confidenceThreshold': 0.04, 'precisionAt1': 0.97651005, 'f1Score': 0.9504}, {'f1Score': 0.95345104, 'truePositiveCount': '297', 'recall': 0.9966443, 'falsePositiveRateAt1': 0.023489933, 'precision': 0.91384614, 'trueNegativeCount': '270', 'recallAt1': 0.97651005, 'confidenceThreshold': 0.045, 'f1ScoreAt1': 0.97651005, 'falsePositiveRate': 0.093959734, 'falsePositiveCount': '28', 'falseNegativeCount': '1', 'precisionAt1': 0.97651005}, {'f1Score': 0.95652175, 'falseNegativeCount': '1', 'confidenceThreshold': 0.05, 'precision': 0.91950464, 'falsePositiveRate': 0.087248325, 'truePositiveCount': '297', 'f1ScoreAt1': 0.97651005, 'trueNegativeCount': '272', 'falsePositiveRateAt1': 0.023489933, 'recall': 0.9966443, 'precisionAt1': 0.97651005, 'falsePositiveCount': '26', 'recallAt1': 0.97651005}, {'precisionAt1': 0.97651005, 'recallAt1': 0.97651005, 'confidenceThreshold': 0.055, 'f1Score': 0.95652175, 'truePositiveCount': '297', 'trueNegativeCount': '272', 'falsePositiveRate': 0.087248325, 'falsePositiveCount': '26', 'recall': 0.9966443, 'falseNegativeCount': '1', 'f1ScoreAt1': 0.97651005, 'precision': 0.91950464, 'falsePositiveRateAt1': 0.023489933}, {'recall': 0.9966443, 'falsePositiveRate': 0.08389262, 'trueNegativeCount': '273', 'truePositiveCount': '297', 'recallAt1': 0.97651005, 'precision': 0.92236024, 'confidenceThreshold': 0.06, 'f1Score': 0.9580645, 'falsePositiveCount': '25', 'falsePositiveRateAt1': 0.023489933, 'precisionAt1': 0.97651005, 'falseNegativeCount': '1', 'f1ScoreAt1': 0.97651005}, {'truePositiveCount': '297', 'f1Score': 0.9611651, 'f1ScoreAt1': 0.97651005, 'precision': 0.928125, 'precisionAt1': 0.97651005, 'falseNegativeCount': '1', 'falsePositiveRateAt1': 0.023489933, 'trueNegativeCount': '275', 'recall': 0.9966443, 'falsePositiveCount': '23', 'falsePositiveRate': 0.077181205, 'confidenceThreshold': 0.065, 'recallAt1': 0.97651005}, {'falsePositiveRateAt1': 0.023489933, 'recall': 0.9966443, 'f1Score': 0.9611651, 'falseNegativeCount': '1', 'precisionAt1': 0.97651005, 'recallAt1': 0.97651005, 'f1ScoreAt1': 0.97651005, 'falsePositiveRate': 0.077181205, 'confidenceThreshold': 0.07, 'falsePositiveCount': '23', 'truePositiveCount': '297', 'trueNegativeCount': '275', 'precision': 0.928125}, {'truePositiveCount': '297', 'trueNegativeCount': '277', 'f1Score': 0.96428573, 'precisionAt1': 0.97651005, 'recallAt1': 0.97651005, 'recall': 0.9966443, 'falsePositiveCount': '21', 'confidenceThreshold': 0.075, 'precision': 0.9339623, 'falsePositiveRate': 0.0704698, 'falsePositiveRateAt1': 0.023489933, 'f1ScoreAt1': 0.97651005, 'falseNegativeCount': '1'}, {'f1ScoreAt1': 0.97651005, 'f1Score': 0.96428573, 'precisionAt1': 0.97651005, 'truePositiveCount': '297', 'falsePositiveCount': '21', 'recall': 0.9966443, 'falsePositiveRateAt1': 0.023489933, 'falsePositiveRate': 0.0704698, 'trueNegativeCount': '277', 'falseNegativeCount': '1', 'recallAt1': 0.97651005, 'precision': 0.9339623, 'confidenceThreshold': 0.08}, {'recallAt1': 0.97651005, 'confidenceThreshold': 0.085, 'f1Score': 0.96428573, 'trueNegativeCount': '277', 'falsePositiveRateAt1': 0.023489933, 'f1ScoreAt1': 0.97651005, 'precisionAt1': 0.97651005, 'falseNegativeCount': '1', 'precision': 0.9339623, 'falsePositiveCount': '21', 'recall': 0.9966443, 'truePositiveCount': '297', 'falsePositiveRate': 0.0704698}, {'confidenceThreshold': 0.09, 'precisionAt1': 0.97651005, 'f1ScoreAt1': 0.97651005, 'f1Score': 0.96428573, 'falsePositiveRate': 0.0704698, 'recallAt1': 0.97651005, 'recall': 0.9966443, 'falsePositiveRateAt1': 0.023489933, 'falsePositiveCount': '21', 'trueNegativeCount': '277', 'truePositiveCount': '297', 'falseNegativeCount': '1', 'precision': 0.9339623}, {'precisionAt1': 0.97651005, 'trueNegativeCount': '277', 'confidenceThreshold': 0.095, 'recallAt1': 0.97651005, 'truePositiveCount': '297', 'precision': 0.9339623, 'falsePositiveRateAt1': 0.023489933, 'f1Score': 0.96428573, 'falseNegativeCount': '1', 'f1ScoreAt1': 0.97651005, 'recall': 0.9966443, 'falsePositiveCount': '21', 'falsePositiveRate': 0.0704698}, {'confidenceThreshold': 0.1, 'precisionAt1': 0.97651005, 'falseNegativeCount': '1', 'recall': 0.9966443, 'falsePositiveRate': 0.0704698, 'truePositiveCount': '297', 'recallAt1': 0.97651005, 'falsePositiveRateAt1': 0.023489933, 'precision': 0.9339623, 'f1ScoreAt1': 0.97651005, 'trueNegativeCount': '277', 'falsePositiveCount': '21', 'f1Score': 0.96428573}, {'falsePositiveRate': 0.06711409, 'recall': 0.9966443, 'precision': 0.93690854, 'confidenceThreshold': 0.105, 'falsePositiveCount': '20', 'trueNegativeCount': '278', 'precisionAt1': 0.97651005, 'f1ScoreAt1': 0.97651005, 'falsePositiveRateAt1': 0.023489933, 'f1Score': 0.9658537, 'recallAt1': 0.97651005, 'truePositiveCount': '297', 'falseNegativeCount': '1'}, {'f1ScoreAt1': 0.97651005, 'falsePositiveCount': '20', 'precision': 0.93690854, 'truePositiveCount': '297', 'precisionAt1': 0.97651005, 'falseNegativeCount': '1', 'trueNegativeCount': '278', 'f1Score': 0.9658537, 'falsePositiveRate': 0.06711409, 'confidenceThreshold': 0.11, 'falsePositiveRateAt1': 0.023489933, 'recallAt1': 0.97651005, 'recall': 0.9966443}, {'precision': 0.9398734, 'falsePositiveRateAt1': 0.023489933, 'trueNegativeCount': '279', 'falsePositiveCount': '19', 'confidenceThreshold': 0.115, 'falseNegativeCount': '1', 'recallAt1': 0.97651005, 'f1Score': 0.9674267, 'precisionAt1': 0.97651005, 'recall': 0.9966443, 'truePositiveCount': '297', 'f1ScoreAt1': 0.97651005, 'falsePositiveRate': 0.06375839}, {'trueNegativeCount': '280', 'falsePositiveCount': '18', 'falsePositiveRateAt1': 0.023489933, 'recall': 0.9966443, 'falseNegativeCount': '1', 'confidenceThreshold': 0.12, 'precision': 0.94285715, 'f1ScoreAt1': 0.97651005, 'f1Score': 0.9690049, 'falsePositiveRate': 0.060402684, 'truePositiveCount': '297', 'recallAt1': 0.97651005, 'precisionAt1': 0.97651005}, {'falseNegativeCount': '1', 'f1ScoreAt1': 0.97651005, 'confidenceThreshold': 0.125, 'precision': 0.94585985, 'recallAt1': 0.97651005, 'precisionAt1': 0.97651005, 'f1Score': 0.9705882, 'recall': 0.9966443, 'trueNegativeCount': '281', 'falsePositiveCount': '17', 'falsePositiveRateAt1': 0.023489933, 'truePositiveCount': '297', 'falsePositiveRate': 0.05704698}, {'trueNegativeCount': '281', 'recall': 0.9966443, 'falsePositiveRate': 0.05704698, 'f1Score': 0.9705882, 'f1ScoreAt1': 0.97651005, 'falsePositiveCount': '17', 'precision': 0.94585985, 'truePositiveCount': '297', 'falseNegativeCount': '1', 'precisionAt1': 0.97651005, 'falsePositiveRateAt1': 0.023489933, 'recallAt1': 0.97651005, 'confidenceThreshold': 0.13}, {'recall': 0.9966443, 'precision': 0.94585985, 'falsePositiveCount': '17', 'falseNegativeCount': '1', 'f1Score': 0.9705882, 'f1ScoreAt1': 0.97651005, 'confidenceThreshold': 0.135, 'truePositiveCount': '297', 'falsePositiveRate': 0.05704698, 'precisionAt1': 0.97651005, 'falsePositiveRateAt1': 0.023489933, 'recallAt1': 0.97651005, 'trueNegativeCount': '281'}, {'trueNegativeCount': '281', 'confidenceThreshold': 0.14, 'f1Score': 0.9705882, 'falsePositiveRateAt1': 0.023489933, 'recallAt1': 0.97651005, 'recall': 0.9966443, 'precisionAt1': 0.97651005, 'falsePositiveCount': '17', 'truePositiveCount': '297', 'f1ScoreAt1': 0.97651005, 'precision': 0.94585985, 'falsePositiveRate': 0.05704698, 'falseNegativeCount': '1'}, {'falsePositiveRateAt1': 0.023489933, 'falsePositiveRate': 0.05704698, 'truePositiveCount': '297', 'recall': 0.9966443, 'falsePositiveCount': '17', 'trueNegativeCount': '281', 'precision': 0.94585985, 'f1ScoreAt1': 0.97651005, 'falseNegativeCount': '1', 'precisionAt1': 0.97651005, 'recallAt1': 0.97651005, 'confidenceThreshold': 0.145, 'f1Score': 0.9705882}, {'precision': 0.9488818, 'confidenceThreshold': 0.15, 'f1Score': 0.9721768, 'recall': 0.9966443, 'precisionAt1': 0.97651005, 'falsePositiveRate': 0.053691275, 'falsePositiveRateAt1': 0.023489933, 'falsePositiveCount': '16', 'f1ScoreAt1': 0.97651005, 'trueNegativeCount': '282', 'truePositiveCount': '297', 'recallAt1': 0.97651005, 'falseNegativeCount': '1'}, {'precisionAt1': 0.97651005, 'truePositiveCount': '297', 'recallAt1': 0.97651005, 'trueNegativeCount': '282', 'falsePositiveCount': '16', 'falsePositiveRate': 0.053691275, 'falseNegativeCount': '1', 'f1ScoreAt1': 0.97651005, 'confidenceThreshold': 0.155, 'f1Score': 0.9721768, 'precision': 0.9488818, 'recall': 0.9966443, 'falsePositiveRateAt1': 0.023489933}, {'precisionAt1': 0.97651005, 'f1Score': 0.9721768, 'recallAt1': 0.97651005, 'precision': 0.9488818, 'trueNegativeCount': '282', 'falsePositiveCount': '16', 'falseNegativeCount': '1', 'recall': 0.9966443, 'falsePositiveRateAt1': 0.023489933, 'truePositiveCount': '297', 'falsePositiveRate': 0.053691275, 'f1ScoreAt1': 0.97651005, 'confidenceThreshold': 0.16}, {'falsePositiveCount': '16', 'precisionAt1': 0.97651005, 'confidenceThreshold': 0.165, 'f1Score': 0.9721768, 'falsePositiveRateAt1': 0.023489933, 'trueNegativeCount': '282', 'f1ScoreAt1': 0.97651005, 'precision': 0.9488818, 'falsePositiveRate': 0.053691275, 'recall': 0.9966443, 'falseNegativeCount': '1', 'truePositiveCount': '297', 'recallAt1': 0.97651005}, {'recallAt1': 0.97651005, 'recall': 0.9966443, 'falsePositiveCount': '15', 'f1Score': 0.9737705, 'truePositiveCount': '297', 'falseNegativeCount': '1', 'confidenceThreshold': 0.17, 'trueNegativeCount': '283', 'precision': 0.9519231, 'precisionAt1': 0.97651005, 'falsePositiveRateAt1': 0.023489933, 'falsePositiveRate': 0.05033557, 'f1ScoreAt1': 0.97651005}, {'recall': 0.9966443, 'f1ScoreAt1': 0.97651005, 'confidenceThreshold': 0.175, 'falseNegativeCount': '1', 'f1Score': 0.9737705, 'recallAt1': 0.97651005, 'truePositiveCount': '297', 'precisionAt1': 0.97651005, 'falsePositiveRate': 0.05033557, 'falsePositiveRateAt1': 0.023489933, 'precision': 0.9519231, 'trueNegativeCount': '283', 'falsePositiveCount': '15'}, {'f1ScoreAt1': 0.97651005, 'truePositiveCount': '297', 'f1Score': 0.9737705, 'falseNegativeCount': '1', 'confidenceThreshold': 0.18, 'trueNegativeCount': '283', 'recall': 0.9966443, 'precision': 0.9519231, 'falsePositiveRateAt1': 0.023489933, 'falsePositiveCount': '15', 'precisionAt1': 0.97651005, 'falsePositiveRate': 0.05033557, 'recallAt1': 0.97651005}, {'falsePositiveRateAt1': 0.023489933, 'confidenceThreshold': 0.185, 'recallAt1': 0.97651005, 'falseNegativeCount': '1', 'f1Score': 0.9737705, 'truePositiveCount': '297', 'precision': 0.9519231, 'falsePositiveRate': 0.05033557, 'recall': 0.9966443, 'precisionAt1': 0.97651005, 'f1ScoreAt1': 0.97651005, 'trueNegativeCount': '283', 'falsePositiveCount': '15'}, {'f1ScoreAt1': 0.97651005, 'confidenceThreshold': 0.19, 'trueNegativeCount': '283', 'falsePositiveRateAt1': 0.023489933, 'truePositiveCount': '297', 'falseNegativeCount': '1', 'recall': 0.9966443, 'recallAt1': 0.97651005, 'precisionAt1': 0.97651005, 'falsePositiveRate': 0.05033557, 'f1Score': 0.9737705, 'precision': 0.9519231, 'falsePositiveCount': '15'}, {'confidenceThreshold': 0.195, 'f1Score': 0.9737705, 'recall': 0.9966443, 'recallAt1': 0.97651005, 'falsePositiveCount': '15', 'precisionAt1': 0.97651005, 'precision': 0.9519231, 'f1ScoreAt1': 0.97651005, 'falsePositiveRateAt1': 0.023489933, 'truePositiveCount': '297', 'trueNegativeCount': '283', 'falseNegativeCount': '1', 'falsePositiveRate': 0.05033557}, {'confidenceThreshold': 0.2, 'falsePositiveRate': 0.046979867, 'falsePositiveRateAt1': 0.023489933, 'falsePositiveCount': '14', 'recallAt1': 0.97651005, 'f1ScoreAt1': 0.97651005, 'precision': 0.95498395, 'truePositiveCount': '297', 'recall': 0.9966443, 'trueNegativeCount': '284', 'precisionAt1': 0.97651005, 'f1Score': 0.97536945, 'falseNegativeCount': '1'}, {'falsePositiveRateAt1': 0.023489933, 'f1Score': 0.97536945, 'falsePositiveCount': '14', 'confidenceThreshold': 0.205, 'falseNegativeCount': '1', 'recallAt1': 0.97651005, 'truePositiveCount': '297', 'precisionAt1': 0.97651005, 'recall': 0.9966443, 'trueNegativeCount': '284', 'precision': 0.95498395, 'falsePositiveRate': 0.046979867, 'f1ScoreAt1': 0.97651005}, {'precision': 0.9580645, 'f1ScoreAt1': 0.97651005, 'falsePositiveCount': '13', 'recallAt1': 0.97651005, 'falseNegativeCount': '1', 'trueNegativeCount': '285', 'falsePositiveRateAt1': 0.023489933, 'falsePositiveRate': 0.043624163, 'confidenceThreshold': 0.21, 'truePositiveCount': '297', 'precisionAt1': 0.97651005, 'recall': 0.9966443, 'f1Score': 0.9769737}, {'recallAt1': 0.97651005, 'falsePositiveRateAt1': 0.023489933, 'confidenceThreshold': 0.215, 'precisionAt1': 0.97651005, 'trueNegativeCount': '285', 'truePositiveCount': '297', 'falsePositiveCount': '13', 'falseNegativeCount': '1', 'f1Score': 0.9769737, 'falsePositiveRate': 0.043624163, 'precision': 0.9580645, 'recall': 0.9966443, 'f1ScoreAt1': 0.97651005}, {'trueNegativeCount': '285', 'falsePositiveCount': '13', 'confidenceThreshold': 0.22, 'f1Score': 0.9769737, 'falsePositiveRate': 0.043624163, 'precisionAt1': 0.97651005, 'truePositiveCount': '297', 'recall': 0.9966443, 'falseNegativeCount': '1', 'f1ScoreAt1': 0.97651005, 'precision': 0.9580645, 'falsePositiveRateAt1': 0.023489933, 'recallAt1': 0.97651005}, {'f1Score': 0.9785832, 'f1ScoreAt1': 0.97651005, 'falsePositiveRate': 0.040268455, 'precisionAt1': 0.97651005, 'falseNegativeCount': '1', 'precision': 0.9611651, 'trueNegativeCount': '286', 'falsePositiveCount': '12', 'confidenceThreshold': 0.225, 'recallAt1': 0.97651005, 'truePositiveCount': '297', 'recall': 0.9966443, 'falsePositiveRateAt1': 0.023489933}, {'precision': 0.9611651, 'falsePositiveRateAt1': 0.023489933, 'confidenceThreshold': 0.23, 'f1ScoreAt1': 0.97651005, 'trueNegativeCount': '286', 'falsePositiveRate': 0.040268455, 'recall': 0.9966443, 'falseNegativeCount': '1', 'truePositiveCount': '297', 'f1Score': 0.9785832, 'recallAt1': 0.97651005, 'precisionAt1': 0.97651005, 'falsePositiveCount': '12'}, {'falsePositiveRateAt1': 0.023489933, 'recallAt1': 0.97651005, 'confidenceThreshold': 0.235, 'f1Score': 0.9785832, 'falsePositiveRate': 0.040268455, 'precision': 0.9611651, 'trueNegativeCount': '286', 'recall': 0.9966443, 'truePositiveCount': '297', 'falsePositiveCount': '12', 'precisionAt1': 0.97651005, 'falseNegativeCount': '1', 'f1ScoreAt1': 0.97651005}, {'f1ScoreAt1': 0.97651005, 'falsePositiveRateAt1': 0.023489933, 'falsePositiveRate': 0.040268455, 'falseNegativeCount': '1', 'trueNegativeCount': '286', 'f1Score': 0.9785832, 'recall': 0.9966443, 'precisionAt1': 0.97651005, 'precision': 0.9611651, 'falsePositiveCount': '12', 'recallAt1': 0.97651005, 'confidenceThreshold': 0.24, 'truePositiveCount': '297'}, {'falseNegativeCount': '1', 'recallAt1': 0.97651005, 'trueNegativeCount': '286', 'confidenceThreshold': 0.245, 'precisionAt1': 0.97651005, 'f1Score': 0.9785832, 'f1ScoreAt1': 0.97651005, 'precision': 0.9611651, 'truePositiveCount': '297', 'recall': 0.9966443, 'falsePositiveRateAt1': 0.023489933, 'falsePositiveCount': '12', 'falsePositiveRate': 0.040268455}, {'recall': 0.9966443, 'truePositiveCount': '297', 'f1ScoreAt1': 0.97651005, 'falsePositiveRate': 0.040268455, 'precision': 0.9611651, 'falseNegativeCount': '1', 'falsePositiveRateAt1': 0.023489933, 'precisionAt1': 0.97651005, 'falsePositiveCount': '12', 'recallAt1': 0.97651005, 'trueNegativeCount': '286', 'f1Score': 0.9785832, 'confidenceThreshold': 0.25}, {'confidenceThreshold': 0.255, 'f1Score': 0.9785832, 'trueNegativeCount': '286', 'falsePositiveRate': 0.040268455, 'precision': 0.9611651, 'f1ScoreAt1': 0.97651005, 'falseNegativeCount': '1', 'recallAt1': 0.97651005, 'precisionAt1': 0.97651005, 'truePositiveCount': '297', 'falsePositiveRateAt1': 0.023489933, 'falsePositiveCount': '12', 'recall': 0.9966443}, {'recall': 0.9966443, 'f1Score': 0.9785832, 'falsePositiveRate': 0.040268455, 'f1ScoreAt1': 0.97651005, 'truePositiveCount': '297', 'precision': 0.9611651, 'precisionAt1': 0.97651005, 'falsePositiveRateAt1': 0.023489933, 'recallAt1': 0.97651005, 'falseNegativeCount': '1', 'trueNegativeCount': '286', 'falsePositiveCount': '12', 'confidenceThreshold': 0.26}, {'f1Score': 0.9785832, 'recall': 0.9966443, 'precision': 0.9611651, 'trueNegativeCount': '286', 'falsePositiveRateAt1': 0.023489933, 'truePositiveCount': '297', 'confidenceThreshold': 0.265, 'precisionAt1': 0.97651005, 'f1ScoreAt1': 0.97651005, 'recallAt1': 0.97651005, 'falseNegativeCount': '1', 'falsePositiveRate': 0.040268455, 'falsePositiveCount': '12'}, {'falsePositiveRateAt1': 0.023489933, 'falseNegativeCount': '1', 'recall': 0.9966443, 'precision': 0.9611651, 'falsePositiveCount': '12', 'f1Score': 0.9785832, 'confidenceThreshold': 0.27, 'recallAt1': 0.97651005, 'f1ScoreAt1': 0.97651005, 'truePositiveCount': '297', 'trueNegativeCount': '286', 'precisionAt1': 0.97651005, 'falsePositiveRate': 0.040268455}, {'recallAt1': 0.97651005, 'recall': 0.9966443, 'falsePositiveRateAt1': 0.023489933, 'falsePositiveCount': '12', 'confidenceThreshold': 0.275, 'falseNegativeCount': '1', 'precision': 0.9611651, 'f1Score': 0.9785832, 'falsePositiveRate': 0.040268455, 'precisionAt1': 0.97651005, 'truePositiveCount': '297', 'trueNegativeCount': '286', 'f1ScoreAt1': 0.97651005}, {'precision': 0.96428573, 'falsePositiveRate': 0.03691275, 'falsePositiveRateAt1': 0.023489933, 'confidenceThreshold': 0.28, 'f1ScoreAt1': 0.97651005, 'trueNegativeCount': '287', 'truePositiveCount': '297', 'falseNegativeCount': '1', 'f1Score': 0.980198, 'falsePositiveCount': '11', 'recall': 0.9966443, 'precisionAt1': 0.97651005, 'recallAt1': 0.97651005}, {'f1Score': 0.9785124, 'falsePositiveCount': '11', 'precision': 0.9641694, 'precisionAt1': 0.97651005, 'confidenceThreshold': 0.285, 'falseNegativeCount': '2', 'f1ScoreAt1': 0.97651005, 'trueNegativeCount': '287', 'truePositiveCount': '296', 'recall': 0.9932886, 'recallAt1': 0.97651005, 'falsePositiveRateAt1': 0.023489933, 'falsePositiveRate': 0.03691275}, {'falsePositiveRateAt1': 0.023489933, 'recall': 0.9932886, 'falsePositiveRate': 0.03691275, 'truePositiveCount': '296', 'confidenceThreshold': 0.29, 'falseNegativeCount': '2', 'precision': 0.9641694, 'trueNegativeCount': '287', 'falsePositiveCount': '11', 'precisionAt1': 0.97651005, 'recallAt1': 0.97651005, 'f1Score': 0.9785124, 'f1ScoreAt1': 0.97651005}, {'confidenceThreshold': 0.295, 'precision': 0.9641694, 'f1Score': 0.9785124, 'falsePositiveCount': '11', 'recall': 0.9932886, 'truePositiveCount': '296', 'f1ScoreAt1': 0.97651005, 'trueNegativeCount': '287', 'falseNegativeCount': '2', 'recallAt1': 0.97651005, 'precisionAt1': 0.97651005, 'falsePositiveRate': 0.03691275, 'falsePositiveRateAt1': 0.023489933}, {'falsePositiveRateAt1': 0.023489933, 'f1Score': 0.9785124, 'truePositiveCount': '296', 'recallAt1': 0.97651005, 'falsePositiveRate': 0.03691275, 'trueNegativeCount': '287', 'confidenceThreshold': 0.3, 'precisionAt1': 0.97651005, 'recall': 0.9932886, 'precision': 0.9641694, 'falsePositiveCount': '11', 'falseNegativeCount': '2', 'f1ScoreAt1': 0.97651005}, {'falsePositiveCount': '11', 'confidenceThreshold': 0.305, 'recallAt1': 0.97651005, 'precisionAt1': 0.97651005, 'trueNegativeCount': '287', 'recall': 0.9932886, 'precision': 0.9641694, 'truePositiveCount': '296', 'f1Score': 0.9785124, 'falseNegativeCount': '2', 'falsePositiveRateAt1': 0.023489933, 'f1ScoreAt1': 0.97651005, 'falsePositiveRate': 0.03691275}, {'trueNegativeCount': '287', 'falsePositiveRate': 0.03691275, 'recall': 0.9932886, 'f1Score': 0.9785124, 'precision': 0.9641694, 'f1ScoreAt1': 0.97651005, 'recallAt1': 0.97651005, 'confidenceThreshold': 0.31, 'precisionAt1': 0.97651005, 'falsePositiveRateAt1': 0.023489933, 'falsePositiveCount': '11', 'truePositiveCount': '296', 'falseNegativeCount': '2'}, {'precision': 0.9641694, 'recallAt1': 0.97651005, 'confidenceThreshold': 0.315, 'falseNegativeCount': '2', 'f1Score': 0.9785124, 'falsePositiveRate': 0.03691275, 'precisionAt1': 0.97651005, 'falsePositiveCount': '11', 'trueNegativeCount': '287', 'falsePositiveRateAt1': 0.023489933, 'recall': 0.9932886, 'f1ScoreAt1': 0.97651005, 'truePositiveCount': '296'}, {'f1ScoreAt1': 0.97651005, 'trueNegativeCount': '287', 'recall': 0.9932886, 'precision': 0.9641694, 'falsePositiveRateAt1': 0.023489933, 'precisionAt1': 0.97651005, 'falseNegativeCount': '2', 'falsePositiveRate': 0.03691275, 'confidenceThreshold': 0.32, 'recallAt1': 0.97651005, 'falsePositiveCount': '11', 'f1Score': 0.9785124, 'truePositiveCount': '296'}, {'falsePositiveRateAt1': 0.023489933, 'falsePositiveRate': 0.03691275, 'recall': 0.9899329, 'falseNegativeCount': '3', 'trueNegativeCount': '287', 'f1Score': 0.9768212, 'truePositiveCount': '295', 'falsePositiveCount': '11', 'precisionAt1': 0.97651005, 'f1ScoreAt1': 0.97651005, 'confidenceThreshold': 0.325, 'precision': 0.96405226, 'recallAt1': 0.97651005}, {'recall': 0.9899329, 'trueNegativeCount': '287', 'falsePositiveRate': 0.03691275, 'falsePositiveRateAt1': 0.023489933, 'f1ScoreAt1': 0.97651005, 'recallAt1': 0.97651005, 'falsePositiveCount': '11', 'falseNegativeCount': '3', 'confidenceThreshold': 0.33, 'precision': 0.96405226, 'f1Score': 0.9768212, 'precisionAt1': 0.97651005, 'truePositiveCount': '295'}, {'falsePositiveCount': '11', 'precisionAt1': 0.97651005, 'falseNegativeCount': '3', 'f1Score': 0.9768212, 'trueNegativeCount': '287', 'f1ScoreAt1': 0.97651005, 'falsePositiveRate': 0.03691275, 'recall': 0.9899329, 'falsePositiveRateAt1': 0.023489933, 'truePositiveCount': '295', 'confidenceThreshold': 0.335, 'recallAt1': 0.97651005, 'precision': 0.96405226}, {'f1ScoreAt1': 0.97651005, 'falseNegativeCount': '3', 'f1Score': 0.9768212, 'truePositiveCount': '295', 'falsePositiveCount': '11', 'recallAt1': 0.97651005, 'precision': 0.96405226, 'trueNegativeCount': '287', 'falsePositiveRateAt1': 0.023489933, 'confidenceThreshold': 0.34, 'recall': 0.9899329, 'precisionAt1': 0.97651005, 'falsePositiveRate': 0.03691275}, {'falsePositiveRate': 0.03691275, 'falsePositiveCount': '11', 'truePositiveCount': '295', 'recall': 0.9899329, 'recallAt1': 0.97651005, 'f1ScoreAt1': 0.97651005, 'f1Score': 0.9768212, 'confidenceThreshold': 0.345, 'trueNegativeCount': '287', 'falseNegativeCount': '3', 'precisionAt1': 0.97651005, 'precision': 0.96405226, 'falsePositiveRateAt1': 0.023489933}, {'f1Score': 0.9784411, 'recall': 0.9899329, 'falsePositiveRate': 0.033557046, 'falseNegativeCount': '3', 'f1ScoreAt1': 0.97651005, 'falsePositiveCount': '10', 'trueNegativeCount': '288', 'falsePositiveRateAt1': 0.023489933, 'precisionAt1': 0.97651005, 'confidenceThreshold': 0.35, 'precision': 0.9672131, 'recallAt1': 0.97651005, 'truePositiveCount': '295'}, {'recallAt1': 0.97651005, 'f1ScoreAt1': 0.97651005, 'falsePositiveRateAt1': 0.023489933, 'confidenceThreshold': 0.355, 'precisionAt1': 0.97651005, 'recall': 0.9899329, 'truePositiveCount': '295', 'falseNegativeCount': '3', 'precision': 0.9672131, 'trueNegativeCount': '288', 'falsePositiveRate': 0.033557046, 'f1Score': 0.9784411, 'falsePositiveCount': '10'}, {'truePositiveCount': '295', 'recallAt1': 0.97651005, 'f1ScoreAt1': 0.97651005, 'falsePositiveRateAt1': 0.023489933, 'trueNegativeCount': '288', 'falseNegativeCount': '3', 'recall': 0.9899329, 'falsePositiveRate': 0.033557046, 'confidenceThreshold': 0.36, 'precision': 0.9672131, 'falsePositiveCount': '10', 'precisionAt1': 0.97651005, 'f1Score': 0.9784411}, {'precisionAt1': 0.97651005, 'falseNegativeCount': '3', 'falsePositiveRate': 0.033557046, 'falsePositiveCount': '10', 'truePositiveCount': '295', 'f1Score': 0.9784411, 'precision': 0.9672131, 'recall': 0.9899329, 'falsePositiveRateAt1': 0.023489933, 'confidenceThreshold': 0.365, 'trueNegativeCount': '288', 'recallAt1': 0.97651005, 'f1ScoreAt1': 0.97651005}, {'falsePositiveRate': 0.033557046, 'truePositiveCount': '295', 'falsePositiveRateAt1': 0.023489933, 'precisionAt1': 0.97651005, 'falseNegativeCount': '3', 'precision': 0.9672131, 'recallAt1': 0.97651005, 'recall': 0.9899329, 'trueNegativeCount': '288', 'f1ScoreAt1': 0.97651005, 'f1Score': 0.9784411, 'confidenceThreshold': 0.37, 'falsePositiveCount': '10'}, {'f1ScoreAt1': 0.97651005, 'falsePositiveRateAt1': 0.023489933, 'falsePositiveRate': 0.033557046, 'falseNegativeCount': '3', 'recallAt1': 0.97651005, 'recall': 0.9899329, 'truePositiveCount': '295', 'trueNegativeCount': '288', 'confidenceThreshold': 0.375, 'falsePositiveCount': '10', 'precisionAt1': 0.97651005, 'precision': 0.9672131, 'f1Score': 0.9784411}, {'precisionAt1': 0.97651005, 'truePositiveCount': '295', 'trueNegativeCount': '288', 'f1Score': 0.9784411, 'f1ScoreAt1': 0.97651005, 'falsePositiveRateAt1': 0.023489933, 'recallAt1': 0.97651005, 'confidenceThreshold': 0.38, 'falsePositiveRate': 0.033557046, 'falsePositiveCount': '10', 'falseNegativeCount': '3', 'precision': 0.9672131, 'recall': 0.9899329}, {'precision': 0.9672131, 'trueNegativeCount': '288', 'f1Score': 0.9784411, 'truePositiveCount': '295', 'falsePositiveCount': '10', 'precisionAt1': 0.97651005, 'recallAt1': 0.97651005, 'falsePositiveRate': 0.033557046, 'confidenceThreshold': 0.385, 'recall': 0.9899329, 'f1ScoreAt1': 0.97651005, 'falseNegativeCount': '3', 'falsePositiveRateAt1': 0.023489933}, {'precision': 0.9672131, 'falsePositiveRateAt1': 0.023489933, 'precisionAt1': 0.97651005, 'confidenceThreshold': 0.39, 'recallAt1': 0.97651005, 'falsePositiveCount': '10', 'falsePositiveRate': 0.033557046, 'recall': 0.9899329, 'trueNegativeCount': '288', 'f1Score': 0.9784411, 'f1ScoreAt1': 0.97651005, 'truePositiveCount': '295', 'falseNegativeCount': '3'}, {'precisionAt1': 0.97651005, 'precision': 0.9672131, 'falseNegativeCount': '3', 'truePositiveCount': '295', 'confidenceThreshold': 0.395, 'recallAt1': 0.97651005, 'trueNegativeCount': '288', 'recall': 0.9899329, 'f1Score': 0.9784411, 'falsePositiveRateAt1': 0.023489933, 'falsePositiveRate': 0.033557046, 'f1ScoreAt1': 0.97651005, 'falsePositiveCount': '10'}, {'recall': 0.9899329, 'falseNegativeCount': '3', 'truePositiveCount': '295', 'falsePositiveRateAt1': 0.023489933, 'precision': 0.9672131, 'trueNegativeCount': '288', 'falsePositiveRate': 0.033557046, 'falsePositiveCount': '10', 'f1Score': 0.9784411, 'precisionAt1': 0.97651005, 'f1ScoreAt1': 0.97651005, 'confidenceThreshold': 0.4, 'recallAt1': 0.97651005}, {'f1ScoreAt1': 0.97651005, 'precisionAt1': 0.97651005, 'falsePositiveCount': '10', 'precision': 0.9672131, 'falsePositiveRate': 0.033557046, 'falseNegativeCount': '3', 'falsePositiveRateAt1': 0.023489933, 'truePositiveCount': '295', 'recall': 0.9899329, 'recallAt1': 0.97651005, 'confidenceThreshold': 0.405, 'f1Score': 0.9784411, 'trueNegativeCount': '288'}, {'falsePositiveCount': '10', 'falseNegativeCount': '3', 'recallAt1': 0.97651005, 'falsePositiveRate': 0.033557046, 'precisionAt1': 0.97651005, 'precision': 0.9672131, 'falsePositiveRateAt1': 0.023489933, 'recall': 0.9899329, 'confidenceThreshold': 0.41, 'f1ScoreAt1': 0.97651005, 'trueNegativeCount': '288', 'truePositiveCount': '295', 'f1Score': 0.9784411}, {'recall': 0.9899329, 'falseNegativeCount': '3', 'trueNegativeCount': '288', 'truePositiveCount': '295', 'precision': 0.9672131, 'f1Score': 0.9784411, 'falsePositiveRateAt1': 0.023489933, 'recallAt1': 0.97651005, 'f1ScoreAt1': 0.97651005, 'falsePositiveRate': 0.033557046, 'falsePositiveCount': '10', 'confidenceThreshold': 0.415, 'precisionAt1': 0.97651005}, {'f1Score': 0.9800664, 'recall': 0.9899329, 'recallAt1': 0.97651005, 'falsePositiveRateAt1': 0.023489933, 'falsePositiveRate': 0.030201342, 'precisionAt1': 0.97651005, 'precision': 0.97039473, 'trueNegativeCount': '289', 'falseNegativeCount': '3', 'falsePositiveCount': '9', 'truePositiveCount': '295', 'confidenceThreshold': 0.42, 'f1ScoreAt1': 0.97651005}, {'falseNegativeCount': '4', 'precision': 0.97029704, 'recall': 0.98657715, 'recallAt1': 0.97651005, 'falsePositiveCount': '9', 'f1ScoreAt1': 0.97651005, 'f1Score': 0.97836936, 'confidenceThreshold': 0.425, 'falsePositiveRateAt1': 0.023489933, 'falsePositiveRate': 0.030201342, 'precisionAt1': 0.97651005, 'trueNegativeCount': '289', 'truePositiveCount': '294'}, {'f1Score': 0.9766667, 'recallAt1': 0.97651005, 'confidenceThreshold': 0.43, 'precision': 0.9701987, 'falseNegativeCount': '5', 'precisionAt1': 0.97651005, 'recall': 0.9832215, 'truePositiveCount': '293', 'falsePositiveRateAt1': 0.023489933, 'falsePositiveCount': '9', 'f1ScoreAt1': 0.97651005, 'trueNegativeCount': '289', 'falsePositiveRate': 0.030201342}, {'f1ScoreAt1': 0.97651005, 'confidenceThreshold': 0.435, 'falsePositiveRate': 0.030201342, 'precisionAt1': 0.97651005, 'falsePositiveCount': '9', 'trueNegativeCount': '289', 'falseNegativeCount': '5', 'f1Score': 0.9766667, 'precision': 0.9701987, 'falsePositiveRateAt1': 0.023489933, 'recall': 0.9832215, 'truePositiveCount': '293', 'recallAt1': 0.97651005}, {'precisionAt1': 0.97651005, 'recall': 0.9832215, 'recallAt1': 0.97651005, 'trueNegativeCount': '289', 'precision': 0.9701987, 'falseNegativeCount': '5', 'falsePositiveCount': '9', 'falsePositiveRateAt1': 0.023489933, 'confidenceThreshold': 0.44, 'falsePositiveRate': 0.030201342, 'f1ScoreAt1': 0.97651005, 'f1Score': 0.9766667, 'truePositiveCount': '293'}, {'confidenceThreshold': 0.445, 'falsePositiveRate': 0.030201342, 'precisionAt1': 0.97651005, 'precision': 0.9701987, 'falseNegativeCount': '5', 'falsePositiveRateAt1': 0.023489933, 'trueNegativeCount': '289', 'recallAt1': 0.97651005, 'f1ScoreAt1': 0.97651005, 'recall': 0.9832215, 'truePositiveCount': '293', 'f1Score': 0.9766667, 'falsePositiveCount': '9'}, {'f1Score': 0.9766667, 'precisionAt1': 0.97651005, 'recall': 0.9832215, 'falseNegativeCount': '5', 'precision': 0.9701987, 'falsePositiveRateAt1': 0.023489933, 'falsePositiveRate': 0.030201342, 'f1ScoreAt1': 0.97651005, 'confidenceThreshold': 0.45, 'recallAt1': 0.97651005, 'truePositiveCount': '293', 'falsePositiveCount': '9', 'trueNegativeCount': '289'}, {'f1ScoreAt1': 0.97651005, 'f1Score': 0.9766667, 'falsePositiveCount': '9', 'falsePositiveRate': 0.030201342, 'trueNegativeCount': '289', 'precision': 0.9701987, 'recall': 0.9832215, 'falseNegativeCount': '5', 'confidenceThreshold': 0.455, 'truePositiveCount': '293', 'falsePositiveRateAt1': 0.023489933, 'recallAt1': 0.97651005, 'precisionAt1': 0.97651005}, {'precision': 0.9700997, 'f1Score': 0.9749583, 'falseNegativeCount': '6', 'truePositiveCount': '292', 'precisionAt1': 0.97651005, 'f1ScoreAt1': 0.97651005, 'falsePositiveRateAt1': 0.023489933, 'recallAt1': 0.97651005, 'trueNegativeCount': '289', 'falsePositiveRate': 0.030201342, 'recall': 0.9798658, 'confidenceThreshold': 0.46, 'falsePositiveCount': '9'}, {'falsePositiveCount': '9', 'falsePositiveRateAt1': 0.023489933, 'precisionAt1': 0.97651005, 'falsePositiveRate': 0.030201342, 'recall': 0.9798658, 'f1ScoreAt1': 0.97651005, 'trueNegativeCount': '289', 'falseNegativeCount': '6', 'confidenceThreshold': 0.465, 'f1Score': 0.9749583, 'recallAt1': 0.97651005, 'precision': 0.9700997, 'truePositiveCount': '292'}, {'confidenceThreshold': 0.47, 'recall': 0.9798658, 'falsePositiveRateAt1': 0.023489933, 'precision': 0.97333336, 'recallAt1': 0.97651005, 'f1Score': 0.97658867, 'falseNegativeCount': '6', 'f1ScoreAt1': 0.97651005, 'falsePositiveRate': 0.026845638, 'falsePositiveCount': '8', 'precisionAt1': 0.97651005, 'trueNegativeCount': '290', 'truePositiveCount': '292'}, {'precision': 0.9765886, 'recall': 0.9798658, 'falsePositiveRateAt1': 0.023489933, 'recallAt1': 0.97651005, 'truePositiveCount': '292', 'trueNegativeCount': '291', 'f1ScoreAt1': 0.97651005, 'falsePositiveRate': 0.023489933, 'f1Score': 0.97822446, 'precisionAt1': 0.97651005, 'falsePositiveCount': '7', 'falseNegativeCount': '6', 'confidenceThreshold': 0.475}, {'precisionAt1': 0.97651005, 'recall': 0.9798658, 'recallAt1': 0.97651005, 'falseNegativeCount': '6', 'f1Score': 0.97822446, 'falsePositiveRate': 0.023489933, 'f1ScoreAt1': 0.97651005, 'falsePositiveRateAt1': 0.023489933, 'falsePositiveCount': '7', 'trueNegativeCount': '291', 'precision': 0.9765886, 'confidenceThreshold': 0.48, 'truePositiveCount': '292'}, {'recall': 0.9798658, 'confidenceThreshold': 0.485, 'precisionAt1': 0.97651005, 'falsePositiveRateAt1': 0.023489933, 'precision': 0.9765886, 'truePositiveCount': '292', 'falseNegativeCount': '6', 'falsePositiveRate': 0.023489933, 'f1ScoreAt1': 0.97651005, 'f1Score': 0.97822446, 'falsePositiveCount': '7', 'recallAt1': 0.97651005, 'trueNegativeCount': '291'}, {'truePositiveCount': '292', 'falseNegativeCount': '6', 'f1Score': 0.97822446, 'falsePositiveCount': '7', 'recallAt1': 0.97651005, 'precision': 0.9765886, 'trueNegativeCount': '291', 'recall': 0.9798658, 'precisionAt1': 0.97651005, 'falsePositiveRateAt1': 0.023489933, 'confidenceThreshold': 0.49, 'f1ScoreAt1': 0.97651005, 'falsePositiveRate': 0.023489933}, {'recall': 0.97651005, 'recallAt1': 0.97651005, 'falseNegativeCount': '7', 'falsePositiveCount': '7', 'precision': 0.97651005, 'f1Score': 0.97651005, 'falsePositiveRateAt1': 0.023489933, 'falsePositiveRate': 0.023489933, 'trueNegativeCount': '291', 'truePositiveCount': '291', 'confidenceThreshold': 0.495, 'precisionAt1': 0.97651005, 'f1ScoreAt1': 0.97651005}, {'truePositiveCount': '291', 'recall': 0.97651005, 'recallAt1': 0.97651005, 'f1ScoreAt1': 0.97651005, 'precision': 0.97651005, 'trueNegativeCount': '291', 'f1Score': 0.97651005, 'falsePositiveRateAt1': 0.023489933, 'confidenceThreshold': 0.5, 'falsePositiveCount': '7', 'falseNegativeCount': '7', 'falsePositiveRate': 0.023489933, 'precisionAt1': 0.97651005}, {'f1ScoreAt1': 0.97651005, 'precision': 0.97651005, 'falseNegativeCount': '7', 'recall': 0.97651005, 'falsePositiveCount': '7', 'trueNegativeCount': '291', 'truePositiveCount': '291', 'precisionAt1': 0.97651005, 'falsePositiveRate': 0.023489933, 'falsePositiveRateAt1': 0.023489933, 'confidenceThreshold': 0.505, 'f1Score': 0.97651005, 'recallAt1': 0.97651005}, {'recall': 0.97651005, 'recallAt1': 0.97651005, 'trueNegativeCount': '292', 'falseNegativeCount': '7', 'f1Score': 0.97815126, 'falsePositiveCount': '6', 'confidenceThreshold': 0.51, 'falsePositiveRateAt1': 0.020134227, 'truePositiveCount': '291', 'falsePositiveRate': 0.020134227, 'f1ScoreAt1': 0.97815126, 'precisionAt1': 0.97979796, 'precision': 0.97979796}, {'precisionAt1': 0.97979796, 'falsePositiveCount': '6', 'confidenceThreshold': 0.515, 'falseNegativeCount': '7', 'f1ScoreAt1': 0.97815126, 'precision': 0.97979796, 'recall': 0.97651005, 'falsePositiveRateAt1': 0.020134227, 'trueNegativeCount': '292', 'truePositiveCount': '291', 'falsePositiveRate': 0.020134227, 'recallAt1': 0.97651005, 'f1Score': 0.97815126}, {'recallAt1': 0.97651005, 'falsePositiveRate': 0.020134227, 'recall': 0.97651005, 'confidenceThreshold': 0.52, 'f1ScoreAt1': 0.97815126, 'precision': 0.97979796, 'falsePositiveCount': '6', 'f1Score': 0.97815126, 'falseNegativeCount': '7', 'truePositiveCount': '291', 'falsePositiveRateAt1': 0.020134227, 'precisionAt1': 0.97979796, 'trueNegativeCount': '292'}, {'f1ScoreAt1': 0.97815126, 'falsePositiveRate': 0.020134227, 'precision': 0.97979796, 'falsePositiveRateAt1': 0.020134227, 'trueNegativeCount': '292', 'confidenceThreshold': 0.525, 'falsePositiveCount': '6', 'recallAt1': 0.97651005, 'falseNegativeCount': '7', 'precisionAt1': 0.97979796, 'f1Score': 0.97815126, 'truePositiveCount': '291', 'recall': 0.97651005}, {'precision': 0.9797297, 'precisionAt1': 0.9797297, 'trueNegativeCount': '292', 'falseNegativeCount': '8', 'f1Score': 0.97643095, 'truePositiveCount': '290', 'falsePositiveCount': '6', 'falsePositiveRate': 0.020134227, 'recall': 0.97315437, 'f1ScoreAt1': 0.97643095, 'falsePositiveRateAt1': 0.020134227, 'confidenceThreshold': 0.53, 'recallAt1': 0.97315437}, {'precision': 0.979661, 'falseNegativeCount': '9', 'recall': 0.9697987, 'falsePositiveRateAt1': 0.020134227, 'truePositiveCount': '289', 'precisionAt1': 0.979661, 'falsePositiveRate': 0.020134227, 'trueNegativeCount': '292', 'f1Score': 0.97470486, 'falsePositiveCount': '6', 'confidenceThreshold': 0.535, 'recallAt1': 0.9697987, 'f1ScoreAt1': 0.97470486}, {'falsePositiveRateAt1': 0.020134227, 'recall': 0.9697987, 'f1Score': 0.97470486, 'precision': 0.979661, 'falsePositiveRate': 0.020134227, 'trueNegativeCount': '292', 'truePositiveCount': '289', 'recallAt1': 0.9697987, 'falsePositiveCount': '6', 'confidenceThreshold': 0.54, 'falseNegativeCount': '9', 'f1ScoreAt1': 0.97470486, 'precisionAt1': 0.979661}, {'precision': 0.9829932, 'falsePositiveRate': 0.016778523, 'precisionAt1': 0.9829932, 'truePositiveCount': '289', 'f1Score': 0.9763514, 'trueNegativeCount': '293', 'confidenceThreshold': 0.545, 'recallAt1': 0.9697987, 'falsePositiveCount': '5', 'recall': 0.9697987, 'falsePositiveRateAt1': 0.016778523, 'f1ScoreAt1': 0.9763514, 'falseNegativeCount': '9'}, {'confidenceThreshold': 0.55, 'truePositiveCount': '289', 'f1Score': 0.9763514, 'trueNegativeCount': '293', 'falsePositiveCount': '5', 'precisionAt1': 0.9829932, 'f1ScoreAt1': 0.9763514, 'recall': 0.9697987, 'precision': 0.9829932, 'falseNegativeCount': '9', 'recallAt1': 0.9697987, 'falsePositiveRateAt1': 0.016778523, 'falsePositiveRate': 0.016778523}, {'falseNegativeCount': '9', 'recallAt1': 0.9697987, 'falsePositiveRate': 0.016778523, 'f1ScoreAt1': 0.9763514, 'precisionAt1': 0.9829932, 'truePositiveCount': '289', 'confidenceThreshold': 0.555, 'precision': 0.9829932, 'falsePositiveCount': '5', 'f1Score': 0.9763514, 'trueNegativeCount': '293', 'falsePositiveRateAt1': 0.016778523, 'recall': 0.9697987}, {'falseNegativeCount': '9', 'f1Score': 0.9763514, 'falsePositiveCount': '5', 'falsePositiveRate': 0.016778523, 'recallAt1': 0.9697987, 'falsePositiveRateAt1': 0.016778523, 'confidenceThreshold': 0.56, 'precisionAt1': 0.9829932, 'f1ScoreAt1': 0.9763514, 'truePositiveCount': '289', 'trueNegativeCount': '293', 'precision': 0.9829932, 'recall': 0.9697987}, {'precisionAt1': 0.9829932, 'f1ScoreAt1': 0.9763514, 'truePositiveCount': '289', 'precision': 0.9829932, 'falsePositiveRateAt1': 0.016778523, 'recallAt1': 0.9697987, 'falsePositiveRate': 0.016778523, 'recall': 0.9697987, 'confidenceThreshold': 0.565, 'falseNegativeCount': '9', 'falsePositiveCount': '5', 'f1Score': 0.9763514, 'trueNegativeCount': '293'}, {'precision': 0.9829932, 'f1Score': 0.9763514, 'precisionAt1': 0.9829932, 'truePositiveCount': '289', 'falsePositiveRateAt1': 0.016778523, 'trueNegativeCount': '293', 'falsePositiveCount': '5', 'falsePositiveRate': 0.016778523, 'recall': 0.9697987, 'falseNegativeCount': '9', 'recallAt1': 0.9697987, 'confidenceThreshold': 0.57, 'f1ScoreAt1': 0.9763514}, {'f1Score': 0.9780034, 'precisionAt1': 0.98634815, 'falsePositiveRateAt1': 0.013422819, 'trueNegativeCount': '294', 'falsePositiveRate': 0.013422819, 'truePositiveCount': '289', 'recall': 0.9697987, 'falseNegativeCount': '9', 'f1ScoreAt1': 0.9780034, 'recallAt1': 0.9697987, 'falsePositiveCount': '4', 'precision': 0.98634815, 'confidenceThreshold': 0.575}, {'recallAt1': 0.9697987, 'falseNegativeCount': '9', 'f1ScoreAt1': 0.97966105, 'falsePositiveCount': '3', 'trueNegativeCount': '295', 'recall': 0.9697987, 'falsePositiveRateAt1': 0.010067114, 'falsePositiveRate': 0.010067114, 'precisionAt1': 0.989726, 'precision': 0.989726, 'f1Score': 0.97966105, 'confidenceThreshold': 0.58, 'truePositiveCount': '289'}, {'falseNegativeCount': '10', 'recall': 0.96644294, 'f1Score': 0.9779287, 'f1ScoreAt1': 0.9779287, 'recallAt1': 0.96644294, 'falsePositiveRate': 0.010067114, 'falsePositiveCount': '3', 'precision': 0.9896907, 'confidenceThreshold': 0.585, 'trueNegativeCount': '295', 'falsePositiveRateAt1': 0.010067114, 'truePositiveCount': '288', 'precisionAt1': 0.9896907}, {'recallAt1': 0.96644294, 'f1ScoreAt1': 0.9779287, 'falsePositiveRateAt1': 0.010067114, 'falsePositiveCount': '3', 'falsePositiveRate': 0.010067114, 'precision': 0.9896907, 'falseNegativeCount': '10', 'trueNegativeCount': '295', 'precisionAt1': 0.9896907, 'confidenceThreshold': 0.59, 'truePositiveCount': '288', 'recall': 0.96644294, 'f1Score': 0.9779287}, {'recall': 0.96644294, 'recallAt1': 0.96644294, 'falsePositiveRate': 0.010067114, 'precision': 0.9896907, 'truePositiveCount': '288', 'f1Score': 0.9779287, 'falseNegativeCount': '10', 'trueNegativeCount': '295', 'falsePositiveCount': '3', 'falsePositiveRateAt1': 0.010067114, 'f1ScoreAt1': 0.9779287, 'confidenceThreshold': 0.595, 'precisionAt1': 0.9896907}, {'truePositiveCount': '288', 'f1Score': 0.9779287, 'falsePositiveRateAt1': 0.010067114, 'trueNegativeCount': '295', 'confidenceThreshold': 0.6, 'f1ScoreAt1': 0.9779287, 'precisionAt1': 0.9896907, 'falseNegativeCount': '10', 'falsePositiveRate': 0.010067114, 'precision': 0.9896907, 'falsePositiveCount': '3', 'recallAt1': 0.96644294, 'recall': 0.96644294}, {'f1ScoreAt1': 0.9779287, 'confidenceThreshold': 0.605, 'precisionAt1': 0.9896907, 'falsePositiveCount': '3', 'precision': 0.9896907, 'trueNegativeCount': '295', 'falsePositiveRateAt1': 0.010067114, 'falseNegativeCount': '10', 'falsePositiveRate': 0.010067114, 'recall': 0.96644294, 'recallAt1': 0.96644294, 'f1Score': 0.9779287, 'truePositiveCount': '288'}, {'truePositiveCount': '288', 'recallAt1': 0.96644294, 'falsePositiveRateAt1': 0.010067114, 'falseNegativeCount': '10', 'falsePositiveRate': 0.010067114, 'f1Score': 0.9779287, 'precisionAt1': 0.9896907, 'recall': 0.96644294, 'falsePositiveCount': '3', 'confidenceThreshold': 0.61, 'f1ScoreAt1': 0.9779287, 'trueNegativeCount': '295', 'precision': 0.9896907}, {'trueNegativeCount': '295', 'confidenceThreshold': 0.615, 'recallAt1': 0.96644294, 'precision': 0.9896907, 'f1Score': 0.9779287, 'recall': 0.96644294, 'precisionAt1': 0.9896907, 'falsePositiveRateAt1': 0.010067114, 'truePositiveCount': '288', 'falsePositiveCount': '3', 'falseNegativeCount': '10', 'f1ScoreAt1': 0.9779287, 'falsePositiveRate': 0.010067114}, {'recall': 0.96644294, 'truePositiveCount': '288', 'confidenceThreshold': 0.62, 'precisionAt1': 0.9896907, 'f1Score': 0.9779287, 'f1ScoreAt1': 0.9779287, 'falsePositiveCount': '3', 'falseNegativeCount': '10', 'trueNegativeCount': '295', 'precision': 0.9896907, 'recallAt1': 0.96644294, 'falsePositiveRateAt1': 0.010067114, 'falsePositiveRate': 0.010067114}, {'falseNegativeCount': '10', 'recallAt1': 0.96644294, 'confidenceThreshold': 0.625, 'recall': 0.96644294, 'precision': 0.9896907, 'falsePositiveCount': '3', 'falsePositiveRate': 0.010067114, 'trueNegativeCount': '295', 'truePositiveCount': '288', 'f1ScoreAt1': 0.9779287, 'f1Score': 0.9779287, 'precisionAt1': 0.9896907, 'falsePositiveRateAt1': 0.010067114}, {'falsePositiveRate': 0.010067114, 'falseNegativeCount': '10', 'confidenceThreshold': 0.63, 'trueNegativeCount': '295', 'recall': 0.96644294, 'falsePositiveCount': '3', 'precision': 0.9896907, 'precisionAt1': 0.9896907, 'recallAt1': 0.96644294, 'falsePositiveRateAt1': 0.010067114, 'f1Score': 0.9779287, 'f1ScoreAt1': 0.9779287, 'truePositiveCount': '288'}, {'confidenceThreshold': 0.635, 'precision': 0.9896907, 'f1Score': 0.9779287, 'trueNegativeCount': '295', 'falseNegativeCount': '10', 'falsePositiveRateAt1': 0.010067114, 'recallAt1': 0.96644294, 'truePositiveCount': '288', 'falsePositiveCount': '3', 'f1ScoreAt1': 0.9779287, 'precisionAt1': 0.9896907, 'recall': 0.96644294, 'falsePositiveRate': 0.010067114}, {'precision': 0.9896907, 'f1Score': 0.9779287, 'confidenceThreshold': 0.64, 'falsePositiveRate': 0.010067114, 'recallAt1': 0.96644294, 'falsePositiveCount': '3', 'falseNegativeCount': '10', 'precisionAt1': 0.9896907, 'f1ScoreAt1': 0.9779287, 'falsePositiveRateAt1': 0.010067114, 'trueNegativeCount': '295', 'recall': 0.96644294, 'truePositiveCount': '288'}, {'falsePositiveRate': 0.010067114, 'truePositiveCount': '288', 'precision': 0.9896907, 'falseNegativeCount': '10', 'f1Score': 0.9779287, 'confidenceThreshold': 0.645, 'falsePositiveCount': '3', 'f1ScoreAt1': 0.9779287, 'recallAt1': 0.96644294, 'precisionAt1': 0.9896907, 'trueNegativeCount': '295', 'recall': 0.96644294, 'falsePositiveRateAt1': 0.010067114}, {'falseNegativeCount': '10', 'trueNegativeCount': '295', 'falsePositiveCount': '3', 'precision': 0.9896907, 'precisionAt1': 0.9896907, 'falsePositiveRate': 0.010067114, 'f1ScoreAt1': 0.9779287, 'confidenceThreshold': 0.65, 'f1Score': 0.9779287, 'recall': 0.96644294, 'recallAt1': 0.96644294, 'truePositiveCount': '288', 'falsePositiveRateAt1': 0.010067114}, {'confidenceThreshold': 0.655, 'falsePositiveRate': 0.010067114, 'precision': 0.9896552, 'f1Score': 0.9761905, 'precisionAt1': 0.9896552, 'falseNegativeCount': '11', 'falsePositiveRateAt1': 0.010067114, 'f1ScoreAt1': 0.9761905, 'falsePositiveCount': '3', 'trueNegativeCount': '295', 'recallAt1': 0.96308726, 'recall': 0.96308726, 'truePositiveCount': '287'}, {'f1Score': 0.9761905, 'recall': 0.96308726, 'truePositiveCount': '287', 'falsePositiveRateAt1': 0.010067114, 'trueNegativeCount': '295', 'precision': 0.9896552, 'precisionAt1': 0.9896552, 'falsePositiveCount': '3', 'falseNegativeCount': '11', 'falsePositiveRate': 0.010067114, 'recallAt1': 0.96308726, 'confidenceThreshold': 0.66, 'f1ScoreAt1': 0.9761905}, {'truePositiveCount': '287', 'falsePositiveRateAt1': 0.010067114, 'recall': 0.96308726, 'precision': 0.9896552, 'f1Score': 0.9761905, 'falsePositiveRate': 0.010067114, 'confidenceThreshold': 0.665, 'falsePositiveCount': '3', 'f1ScoreAt1': 0.9761905, 'recallAt1': 0.96308726, 'trueNegativeCount': '295', 'precisionAt1': 0.9896552, 'falseNegativeCount': '11'}, {'falseNegativeCount': '11', 'confidenceThreshold': 0.67, 'recall': 0.96308726, 'f1ScoreAt1': 0.9761905, 'falsePositiveRateAt1': 0.010067114, 'truePositiveCount': '287', 'falsePositiveCount': '3', 'falsePositiveRate': 0.010067114, 'recallAt1': 0.96308726, 'f1Score': 0.9761905, 'precisionAt1': 0.9896552, 'trueNegativeCount': '295', 'precision': 0.9896552}, {'precision': 0.9896552, 'recall': 0.96308726, 'falsePositiveCount': '3', 'confidenceThreshold': 0.675, 'recallAt1': 0.96308726, 'trueNegativeCount': '295', 'precisionAt1': 0.9896552, 'truePositiveCount': '287', 'f1ScoreAt1': 0.9761905, 'f1Score': 0.9761905, 'falsePositiveRateAt1': 0.010067114, 'falseNegativeCount': '11', 'falsePositiveRate': 0.010067114}, {'recallAt1': 0.96308726, 'falsePositiveCount': '2', 'recall': 0.96308726, 'confidenceThreshold': 0.68, 'precisionAt1': 0.9930796, 'truePositiveCount': '287', 'f1ScoreAt1': 0.97785354, 'trueNegativeCount': '296', 'precision': 0.9930796, 'falseNegativeCount': '11', 'falsePositiveRateAt1': 0.0067114094, 'falsePositiveRate': 0.0067114094, 'f1Score': 0.97785354}, {'trueNegativeCount': '296', 'f1ScoreAt1': 0.97785354, 'recallAt1': 0.96308726, 'confidenceThreshold': 0.685, 'precisionAt1': 0.9930796, 'falsePositiveRateAt1': 0.0067114094, 'precision': 0.9930796, 'falsePositiveCount': '2', 'f1Score': 0.97785354, 'truePositiveCount': '287', 'recall': 0.96308726, 'falsePositiveRate': 0.0067114094, 'falseNegativeCount': '11'}, {'trueNegativeCount': '296', 'recallAt1': 0.96308726, 'falsePositiveRateAt1': 0.0067114094, 'f1Score': 0.97785354, 'falsePositiveCount': '2', 'falseNegativeCount': '11', 'precisionAt1': 0.9930796, 'recall': 0.96308726, 'f1ScoreAt1': 0.97785354, 'confidenceThreshold': 0.69, 'truePositiveCount': '287', 'falsePositiveRate': 0.0067114094, 'precision': 0.9930796}, {'falsePositiveCount': '2', 'precision': 0.9930796, 'truePositiveCount': '287', 'recall': 0.96308726, 'falsePositiveRate': 0.0067114094, 'precisionAt1': 0.9930796, 'confidenceThreshold': 0.695, 'f1Score': 0.97785354, 'falseNegativeCount': '11', 'falsePositiveRateAt1': 0.0067114094, 'f1ScoreAt1': 0.97785354, 'trueNegativeCount': '296', 'recallAt1': 0.96308726}, {'precision': 0.9930796, 'falsePositiveRate': 0.0067114094, 'recall': 0.96308726, 'confidenceThreshold': 0.7, 'trueNegativeCount': '296', 'f1Score': 0.97785354, 'truePositiveCount': '287', 'f1ScoreAt1': 0.97785354, 'falsePositiveCount': '2', 'falsePositiveRateAt1': 0.0067114094, 'recallAt1': 0.96308726, 'precisionAt1': 0.9930796, 'falseNegativeCount': '11'}, {'f1ScoreAt1': 0.97785354, 'precisionAt1': 0.9930796, 'confidenceThreshold': 0.705, 'falsePositiveRate': 0.0067114094, 'truePositiveCount': '287', 'falseNegativeCount': '11', 'trueNegativeCount': '296', 'recall': 0.96308726, 'falsePositiveCount': '2', 'precision': 0.9930796, 'f1Score': 0.97785354, 'falsePositiveRateAt1': 0.0067114094, 'recallAt1': 0.96308726}, {'falsePositiveRateAt1': 0.0067114094, 'precision': 0.9930796, 'recallAt1': 0.96308726, 'f1ScoreAt1': 0.97785354, 'f1Score': 0.97785354, 'precisionAt1': 0.9930796, 'truePositiveCount': '287', 'falsePositiveRate': 0.0067114094, 'confidenceThreshold': 0.71, 'trueNegativeCount': '296', 'falsePositiveCount': '2', 'recall': 0.96308726, 'falseNegativeCount': '11'}, {'falsePositiveCount': '2', 'trueNegativeCount': '296', 'recall': 0.96308726, 'recallAt1': 0.96308726, 'truePositiveCount': '287', 'precision': 0.9930796, 'confidenceThreshold': 0.715, 'falseNegativeCount': '11', 'precisionAt1': 0.9930796, 'falsePositiveRate': 0.0067114094, 'falsePositiveRateAt1': 0.0067114094, 'f1Score': 0.97785354, 'f1ScoreAt1': 0.97785354}, {'precision': 0.9965278, 'falseNegativeCount': '11', 'f1ScoreAt1': 0.97952217, 'confidenceThreshold': 0.72, 'recallAt1': 0.96308726, 'f1Score': 0.97952217, 'recall': 0.96308726, 'falsePositiveRate': 0.0033557047, 'truePositiveCount': '287', 'precisionAt1': 0.9965278, 'falsePositiveRateAt1': 0.0033557047, 'trueNegativeCount': '297', 'falsePositiveCount': '1'}, {'falsePositiveRateAt1': 0.0033557047, 'f1Score': 0.9777778, 'confidenceThreshold': 0.725, 'truePositiveCount': '286', 'trueNegativeCount': '297', 'precisionAt1': 0.9965157, 'recall': 0.9597315, 'recallAt1': 0.9597315, 'falseNegativeCount': '12', 'precision': 0.9965157, 'falsePositiveCount': '1', 'f1ScoreAt1': 0.9777778, 'falsePositiveRate': 0.0033557047}, {'recall': 0.9597315, 'precision': 0.9965157, 'falsePositiveRate': 0.0033557047, 'confidenceThreshold': 0.73, 'falsePositiveCount': '1', 'truePositiveCount': '286', 'f1ScoreAt1': 0.9777778, 'f1Score': 0.9777778, 'precisionAt1': 0.9965157, 'recallAt1': 0.9597315, 'falseNegativeCount': '12', 'trueNegativeCount': '297', 'falsePositiveRateAt1': 0.0033557047}, {'f1ScoreAt1': 0.9777778, 'precisionAt1': 0.9965157, 'trueNegativeCount': '297', 'falsePositiveRate': 0.0033557047, 'truePositiveCount': '286', 'recallAt1': 0.9597315, 'f1Score': 0.9777778, 'falsePositiveRateAt1': 0.0033557047, 'falseNegativeCount': '12', 'confidenceThreshold': 0.735, 'precision': 0.9965157, 'falsePositiveCount': '1', 'recall': 0.9597315}, {'falsePositiveRateAt1': 0.0033557047, 'f1ScoreAt1': 0.9777778, 'confidenceThreshold': 0.74, 'f1Score': 0.9777778, 'trueNegativeCount': '297', 'precisionAt1': 0.9965157, 'falseNegativeCount': '12', 'recall': 0.9597315, 'falsePositiveCount': '1', 'falsePositiveRate': 0.0033557047, 'precision': 0.9965157, 'recallAt1': 0.9597315, 'truePositiveCount': '286'}, {'falsePositiveCount': '1', 'trueNegativeCount': '297', 'falseNegativeCount': '12', 'precisionAt1': 0.9965157, 'confidenceThreshold': 0.745, 'f1Score': 0.9777778, 'falsePositiveRateAt1': 0.0033557047, 'recallAt1': 0.9597315, 'recall': 0.9597315, 'truePositiveCount': '286', 'f1ScoreAt1': 0.9777778, 'falsePositiveRate': 0.0033557047, 'precision': 0.9965157}, {'falseNegativeCount': '12', 'recall': 0.9597315, 'f1Score': 0.9777778, 'f1ScoreAt1': 0.9777778, 'confidenceThreshold': 0.75, 'falsePositiveRateAt1': 0.0033557047, 'falsePositiveRate': 0.0033557047, 'trueNegativeCount': '297', 'precision': 0.9965157, 'truePositiveCount': '286', 'falsePositiveCount': '1', 'precisionAt1': 0.9965157, 'recallAt1': 0.9597315}, {'recallAt1': 0.9597315, 'precisionAt1': 0.9965157, 'confidenceThreshold': 0.755, 'f1ScoreAt1': 0.9777778, 'truePositiveCount': '286', 'falsePositiveRateAt1': 0.0033557047, 'falseNegativeCount': '12', 'recall': 0.9597315, 'precision': 0.9965157, 'falsePositiveCount': '1', 'falsePositiveRate': 0.0033557047, 'f1Score': 0.9777778, 'trueNegativeCount': '297'}, {'truePositiveCount': '286', 'falsePositiveCount': '1', 'recallAt1': 0.9597315, 'f1Score': 0.9777778, 'falsePositiveRateAt1': 0.0033557047, 'trueNegativeCount': '297', 'falseNegativeCount': '12', 'precisionAt1': 0.9965157, 'recall': 0.9597315, 'falsePositiveRate': 0.0033557047, 'f1ScoreAt1': 0.9777778, 'confidenceThreshold': 0.76, 'precision': 0.9965157}, {'truePositiveCount': '286', 'confidenceThreshold': 0.765, 'precisionAt1': 0.9965157, 'falsePositiveCount': '1', 'trueNegativeCount': '297', 'precision': 0.9965157, 'falseNegativeCount': '12', 'falsePositiveRateAt1': 0.0033557047, 'recall': 0.9597315, 'f1Score': 0.9777778, 'falsePositiveRate': 0.0033557047, 'f1ScoreAt1': 0.9777778, 'recallAt1': 0.9597315}, {'confidenceThreshold': 0.77, 'trueNegativeCount': '297', 'falsePositiveRateAt1': 0.0033557047, 'f1ScoreAt1': 0.9777778, 'f1Score': 0.9777778, 'falsePositiveRate': 0.0033557047, 'recallAt1': 0.9597315, 'precisionAt1': 0.9965157, 'recall': 0.9597315, 'precision': 0.9965157, 'truePositiveCount': '286', 'falsePositiveCount': '1', 'falseNegativeCount': '12'}, {'recallAt1': 0.9597315, 'trueNegativeCount': '297', 'falseNegativeCount': '12', 'f1ScoreAt1': 0.9777778, 'f1Score': 0.9777778, 'falsePositiveRate': 0.0033557047, 'recall': 0.9597315, 'precisionAt1': 0.9965157, 'precision': 0.9965157, 'falsePositiveRateAt1': 0.0033557047, 'falsePositiveCount': '1', 'truePositiveCount': '286', 'confidenceThreshold': 0.775}, {'confidenceThreshold': 0.78, 'recallAt1': 0.95637584, 'precisionAt1': 0.9965035, 'recall': 0.95637584, 'trueNegativeCount': '297', 'precision': 0.9965035, 'falseNegativeCount': '13', 'truePositiveCount': '285', 'f1Score': 0.97602737, 'falsePositiveRate': 0.0033557047, 'f1ScoreAt1': 0.97602737, 'falsePositiveCount': '1', 'falsePositiveRateAt1': 0.0033557047}, {'trueNegativeCount': '297', 'precisionAt1': 0.9965035, 'confidenceThreshold': 0.785, 'f1ScoreAt1': 0.97602737, 'truePositiveCount': '285', 'falsePositiveRate': 0.0033557047, 'precision': 0.9965035, 'falsePositiveCount': '1', 'falsePositiveRateAt1': 0.0033557047, 'falseNegativeCount': '13', 'recallAt1': 0.95637584, 'f1Score': 0.97602737, 'recall': 0.95637584}, {'f1Score': 0.97602737, 'falsePositiveRate': 0.0033557047, 'f1ScoreAt1': 0.97602737, 'precision': 0.9965035, 'falsePositiveCount': '1', 'recallAt1': 0.95637584, 'confidenceThreshold': 0.79, 'precisionAt1': 0.9965035, 'truePositiveCount': '285', 'falseNegativeCount': '13', 'trueNegativeCount': '297', 'recall': 0.95637584, 'falsePositiveRateAt1': 0.0033557047}, {'falsePositiveCount': '1', 'falseNegativeCount': '14', 'f1ScoreAt1': 0.97427106, 'precision': 0.99649125, 'precisionAt1': 0.99649125, 'truePositiveCount': '284', 'falsePositiveRateAt1': 0.0033557047, 'falsePositiveRate': 0.0033557047, 'recallAt1': 0.95302016, 'recall': 0.95302016, 'f1Score': 0.97427106, 'confidenceThreshold': 0.795, 'trueNegativeCount': '297'}, {'recallAt1': 0.95302016, 'falseNegativeCount': '14', 'falsePositiveCount': '1', 'falsePositiveRateAt1': 0.0033557047, 'falsePositiveRate': 0.0033557047, 'trueNegativeCount': '297', 'f1Score': 0.97427106, 'recall': 0.95302016, 'f1ScoreAt1': 0.97427106, 'precision': 0.99649125, 'precisionAt1': 0.99649125, 'truePositiveCount': '284', 'confidenceThreshold': 0.8}, {'falsePositiveRateAt1': 0.0033557047, 'falsePositiveRate': 0.0033557047, 'precisionAt1': 0.99647886, 'falseNegativeCount': '15', 'f1ScoreAt1': 0.97250855, 'confidenceThreshold': 0.805, 'recall': 0.9496644, 'f1Score': 0.97250855, 'precision': 0.99647886, 'recallAt1': 0.9496644, 'falsePositiveCount': '1', 'trueNegativeCount': '297', 'truePositiveCount': '283'}, {'falseNegativeCount': '15', 'truePositiveCount': '283', 'precision': 0.99647886, 'confidenceThreshold': 0.81, 'falsePositiveRateAt1': 0.0033557047, 'precisionAt1': 0.99647886, 'f1Score': 0.97250855, 'f1ScoreAt1': 0.97250855, 'trueNegativeCount': '297', 'falsePositiveRate': 0.0033557047, 'recall': 0.9496644, 'falsePositiveCount': '1', 'recallAt1': 0.9496644}, {'f1ScoreAt1': 0.97250855, 'falseNegativeCount': '15', 'falsePositiveRate': 0.0033557047, 'confidenceThreshold': 0.815, 'recall': 0.9496644, 'recallAt1': 0.9496644, 'f1Score': 0.97250855, 'precisionAt1': 0.99647886, 'falsePositiveRateAt1': 0.0033557047, 'truePositiveCount': '283', 'falsePositiveCount': '1', 'precision': 0.99647886, 'trueNegativeCount': '297'}, {'falsePositiveRateAt1': 0.0033557047, 'recall': 0.9496644, 'precisionAt1': 0.99647886, 'f1Score': 0.97250855, 'falseNegativeCount': '15', 'precision': 0.99647886, 'recallAt1': 0.9496644, 'trueNegativeCount': '297', 'falsePositiveCount': '1', 'f1ScoreAt1': 0.97250855, 'falsePositiveRate': 0.0033557047, 'truePositiveCount': '283', 'confidenceThreshold': 0.82}, {'falseNegativeCount': '15', 'precision': 0.99647886, 'truePositiveCount': '283', 'falsePositiveRateAt1': 0.0033557047, 'precisionAt1': 0.99647886, 'f1ScoreAt1': 0.97250855, 'falsePositiveRate': 0.0033557047, 'recall': 0.9496644, 'recallAt1': 0.9496644, 'f1Score': 0.97250855, 'trueNegativeCount': '297', 'falsePositiveCount': '1', 'confidenceThreshold': 0.825}, {'f1ScoreAt1': 0.97250855, 'falsePositiveRateAt1': 0.0033557047, 'falsePositiveRate': 0.0033557047, 'f1Score': 0.97250855, 'falseNegativeCount': '15', 'recallAt1': 0.9496644, 'precision': 0.99647886, 'precisionAt1': 0.99647886, 'recall': 0.9496644, 'falsePositiveCount': '1', 'trueNegativeCount': '297', 'confidenceThreshold': 0.83, 'truePositiveCount': '283'}, {'recallAt1': 0.94630873, 'trueNegativeCount': '297', 'f1Score': 0.97074014, 'confidenceThreshold': 0.835, 'falsePositiveCount': '1', 'f1ScoreAt1': 0.97074014, 'precisionAt1': 0.99646646, 'falseNegativeCount': '16', 'falsePositiveRateAt1': 0.0033557047, 'precision': 0.99646646, 'recall': 0.94630873, 'truePositiveCount': '282', 'falsePositiveRate': 0.0033557047}, {'recallAt1': 0.94630873, 'falsePositiveRateAt1': 0.0033557047, 'recall': 0.94630873, 'precision': 0.99646646, 'f1Score': 0.97074014, 'falsePositiveCount': '1', 'precisionAt1': 0.99646646, 'falsePositiveRate': 0.0033557047, 'falseNegativeCount': '16', 'truePositiveCount': '282', 'f1ScoreAt1': 0.97074014, 'trueNegativeCount': '297', 'confidenceThreshold': 0.84}, {'f1ScoreAt1': 0.97074014, 'truePositiveCount': '282', 'falseNegativeCount': '16', 'recall': 0.94630873, 'precisionAt1': 0.99646646, 'trueNegativeCount': '297', 'precision': 0.99646646, 'f1Score': 0.97074014, 'confidenceThreshold': 0.845, 'falsePositiveCount': '1', 'falsePositiveRate': 0.0033557047, 'recallAt1': 0.94630873, 'falsePositiveRateAt1': 0.0033557047}, {'falseNegativeCount': '16', 'trueNegativeCount': '297', 'truePositiveCount': '282', 'f1Score': 0.97074014, 'falsePositiveRateAt1': 0.0033557047, 'f1ScoreAt1': 0.97074014, 'falsePositiveRate': 0.0033557047, 'recall': 0.94630873, 'recallAt1': 0.94630873, 'precisionAt1': 0.99646646, 'confidenceThreshold': 0.85, 'falsePositiveCount': '1', 'precision': 0.99646646}, {'falseNegativeCount': '17', 'truePositiveCount': '281', 'trueNegativeCount': '297', 'recallAt1': 0.942953, 'precisionAt1': 0.9964539, 'falsePositiveRateAt1': 0.0033557047, 'falsePositiveRate': 0.0033557047, 'recall': 0.942953, 'precision': 0.9964539, 'confidenceThreshold': 0.855, 'falsePositiveCount': '1', 'f1ScoreAt1': 0.9689655, 'f1Score': 0.9689655}, {'recall': 0.942953, 'recallAt1': 0.942953, 'truePositiveCount': '281', 'falseNegativeCount': '17', 'precision': 0.9964539, 'falsePositiveRate': 0.0033557047, 'trueNegativeCount': '297', 'f1ScoreAt1': 0.9689655, 'precisionAt1': 0.9964539, 'falsePositiveCount': '1', 'confidenceThreshold': 0.86, 'falsePositiveRateAt1': 0.0033557047, 'f1Score': 0.9689655}, {'falseNegativeCount': '17', 'falsePositiveCount': '1', 'truePositiveCount': '281', 'trueNegativeCount': '297', 'precisionAt1': 0.9964539, 'f1ScoreAt1': 0.9689655, 'falsePositiveRate': 0.0033557047, 'f1Score': 0.9689655, 'confidenceThreshold': 0.865, 'recall': 0.942953, 'falsePositiveRateAt1': 0.0033557047, 'precision': 0.9964539, 'recallAt1': 0.942953}, {'falsePositiveRateAt1': 0.0033557047, 'recall': 0.942953, 'f1ScoreAt1': 0.9689655, 'falsePositiveRate': 0.0033557047, 'falseNegativeCount': '17', 'f1Score': 0.9689655, 'precision': 0.9964539, 'trueNegativeCount': '297', 'recallAt1': 0.942953, 'truePositiveCount': '281', 'falsePositiveCount': '1', 'confidenceThreshold': 0.87, 'precisionAt1': 0.9964539}, {'falseNegativeCount': '17', 'f1Score': 0.9689655, 'falsePositiveRate': 0.0033557047, 'recallAt1': 0.942953, 'precision': 0.9964539, 'trueNegativeCount': '297', 'falsePositiveCount': '1', 'confidenceThreshold': 0.875, 'precisionAt1': 0.9964539, 'falsePositiveRateAt1': 0.0033557047, 'truePositiveCount': '281', 'f1ScoreAt1': 0.9689655, 'recall': 0.942953}, {'recall': 0.9395973, 'falsePositiveRateAt1': 0.0033557047, 'confidenceThreshold': 0.88, 'recallAt1': 0.9395973, 'f1ScoreAt1': 0.9671848, 'falsePositiveCount': '1', 'falseNegativeCount': '18', 'trueNegativeCount': '297', 'precisionAt1': 0.9964413, 'precision': 0.9964413, 'f1Score': 0.9671848, 'falsePositiveRate': 0.0033557047, 'truePositiveCount': '280'}, {'precision': 0.99642855, 'truePositiveCount': '279', 'falsePositiveCount': '1', 'falseNegativeCount': '19', 'f1Score': 0.9653979, 'trueNegativeCount': '297', 'recallAt1': 0.9362416, 'falsePositiveRateAt1': 0.0033557047, 'recall': 0.9362416, 'confidenceThreshold': 0.885, 'f1ScoreAt1': 0.9653979, 'precisionAt1': 0.99642855, 'falsePositiveRate': 0.0033557047}, {'confidenceThreshold': 0.89, 'truePositiveCount': '278', 'f1ScoreAt1': 0.96360487, 'falsePositiveCount': '1', 'falsePositiveRate': 0.0033557047, 'recall': 0.9328859, 'precisionAt1': 0.9964158, 'f1Score': 0.96360487, 'trueNegativeCount': '297', 'precision': 0.9964158, 'falseNegativeCount': '20', 'falsePositiveRateAt1': 0.0033557047, 'recallAt1': 0.9328859}, {'f1ScoreAt1': 0.96360487, 'falsePositiveRateAt1': 0.0033557047, 'f1Score': 0.96360487, 'confidenceThreshold': 0.895, 'truePositiveCount': '278', 'precision': 0.9964158, 'recall': 0.9328859, 'recallAt1': 0.9328859, 'trueNegativeCount': '297', 'precisionAt1': 0.9964158, 'falsePositiveRate': 0.0033557047, 'falseNegativeCount': '20', 'falsePositiveCount': '1'}, {'falsePositiveRate': 0.0033557047, 'confidenceThreshold': 0.9, 'truePositiveCount': '277', 'recallAt1': 0.9295302, 'f1ScoreAt1': 0.9618055, 'precisionAt1': 0.99640286, 'f1Score': 0.9618055, 'precision': 0.99640286, 'falsePositiveRateAt1': 0.0033557047, 'falsePositiveCount': '1', 'falseNegativeCount': '21', 'recall': 0.9295302, 'trueNegativeCount': '297'}, {'precisionAt1': 0.99640286, 'falsePositiveCount': '1', 'trueNegativeCount': '297', 'f1Score': 0.9618055, 'falseNegativeCount': '21', 'confidenceThreshold': 0.905, 'recall': 0.9295302, 'falsePositiveRateAt1': 0.0033557047, 'falsePositiveRate': 0.0033557047, 'f1ScoreAt1': 0.9618055, 'truePositiveCount': '277', 'precision': 0.99640286, 'recallAt1': 0.9295302}, {'recall': 0.9295302, 'truePositiveCount': '277', 'falsePositiveCount': '1', 'falsePositiveRate': 0.0033557047, 'falsePositiveRateAt1': 0.0033557047, 'precisionAt1': 0.99640286, 'recallAt1': 0.9295302, 'f1ScoreAt1': 0.9618055, 'confidenceThreshold': 0.91, 'precision': 0.99640286, 'f1Score': 0.9618055, 'trueNegativeCount': '297', 'falseNegativeCount': '21'}, {'falsePositiveRate': 0.0033557047, 'precision': 0.99640286, 'falseNegativeCount': '21', 'f1Score': 0.9618055, 'recallAt1': 0.9295302, 'precisionAt1': 0.99640286, 'truePositiveCount': '277', 'falsePositiveCount': '1', 'recall': 0.9295302, 'f1ScoreAt1': 0.9618055, 'trueNegativeCount': '297', 'falsePositiveRateAt1': 0.0033557047, 'confidenceThreshold': 0.915}, {'confidenceThreshold': 0.92, 'recallAt1': 0.9295302, 'f1ScoreAt1': 0.9618055, 'falsePositiveRateAt1': 0.0033557047, 'truePositiveCount': '277', 'precisionAt1': 0.99640286, 'falseNegativeCount': '21', 'recall': 0.9295302, 'falsePositiveRate': 0.0033557047, 'f1Score': 0.9618055, 'precision': 0.99640286, 'trueNegativeCount': '297', 'falsePositiveCount': '1'}, {'truePositiveCount': '277', 'trueNegativeCount': '297', 'falsePositiveRateAt1': 0.0033557047, 'falsePositiveCount': '1', 'falsePositiveRate': 0.0033557047, 'f1Score': 0.9618055, 'recallAt1': 0.9295302, 'recall': 0.9295302, 'f1ScoreAt1': 0.9618055, 'confidenceThreshold': 0.925, 'falseNegativeCount': '21', 'precisionAt1': 0.99640286, 'precision': 0.99640286}, {'confidenceThreshold': 0.93, 'f1Score': 0.9581882, 'truePositiveCount': '275', 'falseNegativeCount': '23', 'f1ScoreAt1': 0.9581882, 'precision': 0.9963768, 'falsePositiveRateAt1': 0.0033557047, 'recallAt1': 0.9228188, 'falsePositiveCount': '1', 'falsePositiveRate': 0.0033557047, 'precisionAt1': 0.9963768, 'trueNegativeCount': '297', 'recall': 0.9228188}, {'precisionAt1': 0.9963768, 'falsePositiveRate': 0.0033557047, 'recall': 0.9228188, 'precision': 0.9963768, 'falsePositiveCount': '1', 'recallAt1': 0.9228188, 'falsePositiveRateAt1': 0.0033557047, 'trueNegativeCount': '297', 'f1ScoreAt1': 0.9581882, 'falseNegativeCount': '23', 'f1Score': 0.9581882, 'truePositiveCount': '275', 'confidenceThreshold': 0.935}, {'precisionAt1': 0.996337, 'confidenceThreshold': 0.94, 'f1ScoreAt1': 0.95271456, 'recall': 0.9127517, 'f1Score': 0.95271456, 'falseNegativeCount': '26', 'truePositiveCount': '272', 'trueNegativeCount': '297', 'falsePositiveCount': '1', 'falsePositiveRate': 0.0033557047, 'recallAt1': 0.9127517, 'precision': 0.996337, 'falsePositiveRateAt1': 0.0033557047}, {'confidenceThreshold': 0.945, 'falsePositiveRate': 0.0033557047, 'precision': 0.996337, 'falseNegativeCount': '26', 'precisionAt1': 0.996337, 'recall': 0.9127517, 'trueNegativeCount': '297', 'f1ScoreAt1': 0.95271456, 'f1Score': 0.95271456, 'truePositiveCount': '272', 'recallAt1': 0.9127517, 'falsePositiveCount': '1', 'falsePositiveRateAt1': 0.0033557047}, {'recall': 0.9127517, 'precision': 0.996337, 'falsePositiveRateAt1': 0.0033557047, 'falsePositiveCount': '1', 'falsePositiveRate': 0.0033557047, 'confidenceThreshold': 0.95, 'recallAt1': 0.9127517, 'truePositiveCount': '272', 'f1Score': 0.95271456, 'f1ScoreAt1': 0.95271456, 'trueNegativeCount': '297', 'falseNegativeCount': '26', 'precisionAt1': 0.996337}, {'confidenceThreshold': 0.955, 'truePositiveCount': '270', 'falsePositiveCount': '1', 'precisionAt1': 0.99630994, 'precision': 0.99630994, 'f1Score': 0.9490334, 'falseNegativeCount': '28', 'falsePositiveRate': 0.0033557047, 'recall': 0.90604025, 'f1ScoreAt1': 0.9490334, 'recallAt1': 0.90604025, 'trueNegativeCount': '297', 'falsePositiveRateAt1': 0.0033557047}, {'falsePositiveCount': '1', 'trueNegativeCount': '297', 'recall': 0.8993289, 'f1Score': 0.94532627, 'falsePositiveRate': 0.0033557047, 'precision': 0.9962825, 'falseNegativeCount': '30', 'falsePositiveRateAt1': 0.0033557047, 'precisionAt1': 0.9962825, 'recallAt1': 0.8993289, 'truePositiveCount': '268', 'f1ScoreAt1': 0.94532627, 'confidenceThreshold': 0.96}, {'trueNegativeCount': '298', 'truePositiveCount': '266', 'precisionAt1': 1.0, 'f1ScoreAt1': 0.9432624, 'recall': 0.89261746, 'recallAt1': 0.89261746, 'precision': 1.0, 'f1Score': 0.9432624, 'falseNegativeCount': '32', 'confidenceThreshold': 0.965}, {'f1Score': 0.93950176, 'recallAt1': 0.88590604, 'f1ScoreAt1': 0.93950176, 'truePositiveCount': '264', 'falseNegativeCount': '34', 'precision': 1.0, 'recall': 0.88590604, 'trueNegativeCount': '298', 'confidenceThreshold': 0.97, 'precisionAt1': 1.0}, {'recall': 0.8724832, 'precisionAt1': 1.0, 'truePositiveCount': '260', 'confidenceThreshold': 0.975, 'falseNegativeCount': '38', 'f1ScoreAt1': 0.9318996, 'f1Score': 0.9318996, 'recallAt1': 0.8724832, 'trueNegativeCount': '298', 'precision': 1.0}, {'truePositiveCount': '259', 'recallAt1': 0.8691275, 'f1Score': 0.92998207, 'f1ScoreAt1': 0.92998207, 'recall': 0.8691275, 'trueNegativeCount': '298', 'confidenceThreshold': 0.98, 'precision': 1.0, 'falseNegativeCount': '39', 'precisionAt1': 1.0}, {'truePositiveCount': '252', 'f1Score': 0.9163636, 'falseNegativeCount': '46', 'precision': 1.0, 'precisionAt1': 1.0, 'confidenceThreshold': 0.985, 'recall': 0.84563756, 'recallAt1': 0.84563756, 'f1ScoreAt1': 0.9163636, 'trueNegativeCount': '298'}, {'precisionAt1': 1.0, 'confidenceThreshold': 0.99, 'f1Score': 0.8921933, 'recall': 0.80536914, 'recallAt1': 0.80536914, 'trueNegativeCount': '298', 'truePositiveCount': '240', 'precision': 1.0, 'f1ScoreAt1': 0.8921933, 'falseNegativeCount': '58'}, {'f1ScoreAt1': 0.84942085, 'truePositiveCount': '220', 'recallAt1': 0.738255, 'confidenceThreshold': 0.995, 'f1Score': 0.84942085, 'precisionAt1': 1.0, 'trueNegativeCount': '298', 'falseNegativeCount': '78', 'recall': 0.738255, 'precision': 1.0}, {'precision': 1.0, 'precisionAt1': 1.0, 'falseNegativeCount': '298', 'trueNegativeCount': '298', 'confidenceThreshold': 1.0}, {'precisionAt1': 1.0, 'precision': 1.0, 'falseNegativeCount': '298', 'confidenceThreshold': 1.005, 'trueNegativeCount': '298'}], 'confusionMatrix': {'rows': [[290.0, 3.0], [4.0, 1.0]], 'annotationSpecs': [{'id': '0', 'displayName': '1'}, {'id': '1', 'displayName': '2'}]}, 'auRoc': 0.9985812, 'auPrc': 0.99860686, 'logLoss': 0.0484183}, 'createTime': '2022-09-07T19:39:40.165181Z', 'sliceDimensions': ['annotationSpec'], 'modelExplanation': {'meanAttributions': [{'featureAttributions': {'Housing': 0.00033817595219975586, 'Job': 0.0023053311481265825, 'Age': 0.0007370296175120516, 'Default': 8.268821026121476e-05, 'MaritalStatus': 0.0008657708600098609, 'Balance': 0.0007173679783037642, 'POutcome': 0.0, 'Education': 0.0003093378992574925, 'Duration': 0.02223915204842212, 'Month': 0.0, 'Campaign': 0.0011772573524644605, 'Previous': 0.0, 'PDays': 0.0, 'Day': 0.0007643386663435917, 'Contact': 0.0, 'Loan': 0.0005764363529431474}}]}}\n"
     ]
    }
   ],
   "source": [
    "model_evaluations = model.list_model_evaluations()\n",
    "\n",
    "for model_evaluation in model_evaluations:\n",
    "    print(model_evaluation.to_dict())"
   ]
  },
  {
   "cell_type": "markdown",
   "metadata": {
    "id": "make_prediction"
   },
   "source": [
    "## Send a batch prediction request\n",
    "\n",
    "Send a batch prediction to your deployed model."
   ]
  },
  {
   "cell_type": "markdown",
   "metadata": {
    "id": "make_test_items:automl,batch_prediction"
   },
   "source": [
    "### Make test items\n",
    "\n",
    "You use synthetic data as a test data items. Don't be concerned that we are using synthetic data."
   ]
  },
  {
   "cell_type": "markdown",
   "metadata": {
    "id": "make_batch_file:automl,tabular,alt"
   },
   "source": [
    "### Make the batch input file\n",
    "\n",
    "Now make a batch input file, which you will store in your local Cloud Storage bucket. Unlike image, video and text, the batch input file for tabular is only supported for CSV. For CSV file, you make:\n",
    "\n",
    "- The first line is the heading with the feature (fields) heading names.\n",
    "- Each remaining line is a separate prediction request with the corresponding feature values.\n",
    "\n",
    "For example:\n",
    "\n",
    "    \"feature_1\", \"feature_2\". ...\n",
    "    value_1, value_2, ..."
   ]
  },
  {
   "cell_type": "code",
   "execution_count": 104,
   "metadata": {
    "id": "mAd2an_qxsNY"
   },
   "outputs": [
    {
     "name": "stdout",
     "output_type": "stream",
     "text": [
      "Copying file://batch.csv [Content-Type=text/csv]...\n",
      "/ [1 files][  7.7 KiB/  7.7 KiB]                                                \n",
      "Operation completed over 1 objects/7.7 KiB.                                      \n"
     ]
    }
   ],
   "source": [
    "! gsutil cat $IMPORT_FILE | head -n 1 > tmp.csv\n",
    "! gsutil cat $IMPORT_FILE | tail -n 100 >> tmp.csv\n",
    "\n",
    "! cut -d, -f1-16 tmp.csv > batch.csv\n",
    "\n",
    "gcs_input_uri = BUCKET_URI + \"/test.csv\"\n",
    "\n",
    "! gsutil cp batch.csv $gcs_input_uri"
   ]
  },
  {
   "cell_type": "markdown",
   "metadata": {
    "id": "batch_explain_request:mbsdk,csv"
   },
   "source": [
    "### Make the batch explanation request\n",
    "\n",
    "Now that your Model resource is trained, you can make a batch prediction by invoking the batch_predict() method, with the following parameters:\n",
    "\n",
    "- `job_display_name`: The human readable name for the batch prediction job.\n",
    "- `gcs_source`: A list of one or more batch request input files.\n",
    "- `gcs_destination_prefix`: The Cloud Storage location for storing the batch prediction resuls.\n",
    "- `instances_format`: The format for the input instances, either 'csv' or 'jsonl'. Defaults to 'jsonl'.\n",
    "- `predictions_format`: The format for the output predictions, either 'csv' or 'jsonl'. Defaults to 'jsonl'.\n",
    "- `generate_explanations`: Set to `True` to generate explanations.\n",
    "- `sync`: If set to True, the call will block while waiting for the asynchronous batch job to complete."
   ]
  },
  {
   "cell_type": "code",
   "execution_count": 105,
   "metadata": {
    "id": "wlK6Mcx6xsNY"
   },
   "outputs": [
    {
     "name": "stdout",
     "output_type": "stream",
     "text": [
      "Creating BatchPredictionJob\n",
      "<google.cloud.aiplatform.jobs.BatchPredictionJob object at 0x7f61c0f41b90> is waiting for upstream dependencies to complete.\n",
      "BatchPredictionJob created. Resource name: projects/670723894630/locations/us-central1/batchPredictionJobs/4040933105861656576\n",
      "To use this BatchPredictionJob in another session:\n",
      "bpj = aiplatform.BatchPredictionJob('projects/670723894630/locations/us-central1/batchPredictionJobs/4040933105861656576')\n",
      "View Batch Prediction Job:\n",
      "https://console.cloud.google.com/ai/platform/locations/us-central1/batch-predictions/4040933105861656576?project=670723894630\n"
     ]
    }
   ],
   "source": [
    "batch_predict_job = model.batch_predict(\n",
    "    job_display_name=\"bank_2_\" + UUID,\n",
    "    gcs_source=gcs_input_uri,\n",
    "    gcs_destination_prefix=BUCKET_URI,\n",
    "    instances_format=\"csv\",\n",
    "    predictions_format=\"jsonl\",\n",
    "    generate_explanation=True,\n",
    "    sync=False,\n",
    ")\n",
    "\n",
    "print(batch_predict_job)"
   ]
  },
  {
   "cell_type": "markdown",
   "metadata": {
    "id": "batch_request_wait:mbsdk"
   },
   "source": [
    "### Wait for completion of batch prediction job\n",
    "\n",
    "Next, wait for the batch job to complete. Alternatively, one can set the parameter `sync` to `True` in the `batch_predict()` method to block until the batch prediction job is completed."
   ]
  },
  {
   "cell_type": "code",
   "execution_count": 106,
   "metadata": {
    "id": "OhPQc-sTxsNZ"
   },
   "outputs": [
    {
     "name": "stdout",
     "output_type": "stream",
     "text": [
      "BatchPredictionJob projects/670723894630/locations/us-central1/batchPredictionJobs/4040933105861656576 current state:\n",
      "JobState.JOB_STATE_RUNNING\n",
      "BatchPredictionJob projects/670723894630/locations/us-central1/batchPredictionJobs/4040933105861656576 current state:\n",
      "JobState.JOB_STATE_RUNNING\n",
      "BatchPredictionJob projects/670723894630/locations/us-central1/batchPredictionJobs/4040933105861656576 current state:\n",
      "JobState.JOB_STATE_RUNNING\n",
      "BatchPredictionJob projects/670723894630/locations/us-central1/batchPredictionJobs/4040933105861656576 current state:\n",
      "JobState.JOB_STATE_RUNNING\n",
      "BatchPredictionJob projects/670723894630/locations/us-central1/batchPredictionJobs/4040933105861656576 current state:\n",
      "JobState.JOB_STATE_RUNNING\n",
      "BatchPredictionJob projects/670723894630/locations/us-central1/batchPredictionJobs/4040933105861656576 current state:\n",
      "JobState.JOB_STATE_RUNNING\n",
      "BatchPredictionJob projects/670723894630/locations/us-central1/batchPredictionJobs/4040933105861656576 current state:\n",
      "JobState.JOB_STATE_RUNNING\n",
      "BatchPredictionJob projects/670723894630/locations/us-central1/batchPredictionJobs/4040933105861656576 current state:\n",
      "JobState.JOB_STATE_RUNNING\n",
      "BatchPredictionJob projects/670723894630/locations/us-central1/batchPredictionJobs/4040933105861656576 current state:\n",
      "JobState.JOB_STATE_RUNNING\n",
      "BatchPredictionJob projects/670723894630/locations/us-central1/batchPredictionJobs/4040933105861656576 current state:\n",
      "JobState.JOB_STATE_RUNNING\n",
      "BatchPredictionJob projects/670723894630/locations/us-central1/batchPredictionJobs/4040933105861656576 current state:\n",
      "JobState.JOB_STATE_SUCCEEDED\n",
      "BatchPredictionJob run completed. Resource name: projects/670723894630/locations/us-central1/batchPredictionJobs/4040933105861656576\n"
     ]
    }
   ],
   "source": [
    "batch_predict_job.wait()"
   ]
  },
  {
   "cell_type": "markdown",
   "metadata": {
    "id": "get_batch_explanation:mbsdk,lbn"
   },
   "source": [
    "### Get the explanations\n",
    "\n",
    "Next, get the explanation results from the completed batch prediction job.\n",
    "\n",
    "The results are written to the Cloud Storage output bucket you specified in the batch prediction request. You call the method iter_outputs() to get a list of each Cloud Storage file generated with the results. Each file contains one or more explanation requests in a CSV format:\n",
    "\n",
    "- CSV header + predicted_label\n",
    "- CSV row + explanation, per prediction request"
   ]
  },
  {
   "cell_type": "code",
   "execution_count": 107,
   "metadata": {
    "id": "v1ggfznyxsNd"
   },
   "outputs": [
    {
     "name": "stdout",
     "output_type": "stream",
     "text": [
      "{\"instance\": {\"Default\": \"no\", \"PDays\": \"-1\", \"Day\": \"8\", \"Education\": \"unknown\", \"Campaign\": \"2\", \"Housing\": \"yes\", \"MaritalStatus\": \"married\", \"Balance\": \"90\", \"Month\": \"may\", \"Age\": \"38\", \"Duration\": \"20\", \"POutcome\": \"unknown\", \"Loan\": \"yes\", \"Contact\": \"unknown\", \"Previous\": \"0\", \"Job\": \"technician\"}, \"prediction\": {\"scores\": [0.9978052973747253, 0.0021946318447589874], \"classes\": [\"1\", \"2\"]}, \"explanation\": {\"attributions\": [{\"outputName\": \"scores\", \"baselineOutputValue\": 0.9990845322608948, \"instanceOutputValue\": 0.9978052973747253, \"outputIndex\": [0], \"outputDisplayName\": \"1\", \"featureAttributions\": {\"Age\": -1.742442448933919e-05, \"Balance\": 2.1512309710184734e-05, \"Campaign\": 0.00034146010875701904, \"Contact\": 0.0, \"Day\": -0.00016486644744873047, \"Default\": 0.0, \"Duration\": 0.0006429354349772135, \"Education\": -0.00046028196811676025, \"Housing\": 0.0, \"Job\": -0.00041507681210835773, \"Loan\": -0.0012274930874506633, \"MaritalStatus\": 0.0, \"Month\": 0.0, \"PDays\": 0.0, \"POutcome\": 0.0, \"Previous\": 0.0}, \"approximationError\": 0.003777116725564306}]}}\n",
      "\n",
      "{\"instance\": {\"Age\": \"34\", \"Default\": \"no\", \"Housing\": \"no\", \"Campaign\": \"9\", \"Month\": \"may\", \"Previous\": \"0\", \"MaritalStatus\": \"married\", \"POutcome\": \"unknown\", \"PDays\": \"-1\", \"Loan\": \"no\", \"Contact\": \"unknown\", \"Job\": \"management\", \"Balance\": \"76\", \"Day\": \"8\", \"Duration\": \"335\", \"Education\": \"tertiary\"}, \"prediction\": {\"scores\": [0.9993505477905273, 0.0006494480185210705], \"classes\": [\"1\", \"2\"]}, \"explanation\": {\"attributions\": [{\"outputName\": \"scores\", \"baselineOutputValue\": 0.9990845322608948, \"instanceOutputValue\": 0.9993505477905273, \"outputIndex\": [0], \"outputDisplayName\": \"1\", \"featureAttributions\": {\"Age\": -2.1134813626607258e-05, \"Balance\": 0.00012385845184326172, \"Campaign\": 0.0037798136472702026, \"Contact\": 0.0, \"Day\": -0.0004137555758158366, \"Default\": 0.0, \"Duration\": -0.0025524944067001343, \"Education\": 0.00016584495703379312, \"Housing\": -0.000548963745435079, \"Job\": -0.00026715298493703205, \"Loan\": 0.0, \"MaritalStatus\": 0.0, \"Month\": 0.0, \"PDays\": 0.0, \"POutcome\": 0.0, \"Previous\": 0.0}, \"approximationError\": 0.005422670817963404}]}}\n",
      "\n",
      "{\"instance\": {\"Balance\": \"134\", \"Month\": \"may\", \"Day\": \"8\", \"Job\": \"blue-collar\", \"Housing\": \"no\", \"Loan\": \"no\", \"Duration\": \"263\", \"Previous\": \"0\", \"Default\": \"no\", \"MaritalStatus\": \"divorced\", \"PDays\": \"-1\", \"Age\": \"50\", \"Contact\": \"unknown\", \"Campaign\": \"2\", \"POutcome\": \"unknown\", \"Education\": \"primary\"}, \"prediction\": {\"scores\": [0.995527446269989, 0.004472511820495129], \"classes\": [\"1\", \"2\"]}, \"explanation\": {\"attributions\": [{\"outputName\": \"scores\", \"baselineOutputValue\": 0.9990845322608948, \"instanceOutputValue\": 0.995527446269989, \"outputIndex\": [0], \"outputDisplayName\": \"1\", \"featureAttributions\": {\"Age\": 0.000388150413831075, \"Balance\": 3.7839015324910484e-05, \"Campaign\": 0.00039748847484588623, \"Contact\": 0.0, \"Day\": -7.864832878112793e-05, \"Default\": 0.0, \"Duration\": -0.001449813445409139, \"Education\": -0.0008143484592437744, \"Housing\": -0.00042233864466349286, \"Job\": 0.0, \"Loan\": 0.0, \"MaritalStatus\": -0.0016154150168100994, \"Month\": 0.0, \"PDays\": 0.0, \"POutcome\": 0.0, \"Previous\": 0.0}, \"approximationError\": 0.004418028263945465}]}}\n",
      "\n",
      "{\"instance\": {\"Default\": \"no\", \"Housing\": \"yes\", \"Duration\": \"183\", \"Job\": \"blue-collar\", \"Age\": \"41\", \"POutcome\": \"unknown\", \"Campaign\": \"3\", \"Contact\": \"unknown\", \"PDays\": \"-1\", \"Loan\": \"no\", \"Previous\": \"0\", \"Education\": \"secondary\", \"Balance\": \"363\", \"Day\": \"8\", \"MaritalStatus\": \"single\", \"Month\": \"may\"}, \"prediction\": {\"classes\": [\"1\", \"2\"], \"scores\": [0.9990644454956055, 0.0009354596841149032]}, \"explanation\": {\"attributions\": [{\"outputName\": \"scores\", \"baselineOutputValue\": 0.9990845322608948, \"instanceOutputValue\": 0.9990644454956055, \"outputIndex\": [0], \"outputDisplayName\": \"1\", \"featureAttributions\": {\"Age\": 1.3177593549092611e-05, \"Balance\": -3.405908743540446e-05, \"Campaign\": 0.0007755557696024576, \"Contact\": 0.0, \"Day\": -6.491939226786296e-05, \"Default\": 0.0, \"Duration\": 0.00012079377969106038, \"Education\": 0.0, \"Housing\": 0.0, \"Job\": 0.0, \"Loan\": 0.0, \"MaritalStatus\": -0.0008306354284286499, \"Month\": 0.0, \"PDays\": 0.0, \"POutcome\": 0.0, \"Previous\": 0.0}, \"approximationError\": 0.002668868284418779}]}}\n",
      "\n",
      "{\"instance\": {\"Age\": \"34\", \"MaritalStatus\": \"married\", \"POutcome\": \"unknown\", \"Balance\": \"487\", \"Housing\": \"yes\", \"Contact\": \"unknown\", \"Duration\": \"442\", \"Day\": \"8\", \"Campaign\": \"2\", \"PDays\": \"-1\", \"Previous\": \"0\", \"Education\": \"secondary\", \"Job\": \"management\", \"Loan\": \"no\", \"Default\": \"no\", \"Month\": \"may\"}, \"prediction\": {\"classes\": [\"1\", \"2\"], \"scores\": [0.9818838834762573, 0.018115999177098274]}, \"explanation\": {\"attributions\": [{\"outputName\": \"scores\", \"baselineOutputValue\": 0.9990845322608948, \"instanceOutputValue\": 0.9818838834762573, \"outputIndex\": [0], \"outputDisplayName\": \"1\", \"featureAttributions\": {\"Age\": 0.00015690426031748453, \"Balance\": -0.000842591126759847, \"Campaign\": 0.0024711440006891885, \"Contact\": 0.0, \"Day\": -0.0023440023263295493, \"Default\": 0.0, \"Duration\": -0.016141196091969807, \"Education\": 0.0, \"Housing\": 0.0, \"Job\": -0.0005009075005849203, \"Loan\": 0.0, \"MaritalStatus\": 0.0, \"Month\": 0.0, \"PDays\": 0.0, \"POutcome\": 0.0, \"Previous\": 0.0}, \"approximationError\": 0.0027582792075515174}]}}\n",
      "\n",
      "{\"instance\": {\"Loan\": \"yes\", \"Previous\": \"0\", \"Balance\": \"0\", \"Age\": \"42\", \"Month\": \"may\", \"Duration\": \"7\", \"POutcome\": \"unknown\", \"Education\": \"secondary\", \"Day\": \"8\", \"Housing\": \"no\", \"Campaign\": \"3\", \"Job\": \"technician\", \"Default\": \"no\", \"MaritalStatus\": \"married\", \"PDays\": \"-1\", \"Contact\": \"unknown\"}, \"prediction\": {\"classes\": [\"1\", \"2\"], \"scores\": [0.9987245798110962, 0.0012753548799082637]}, \"explanation\": {\"attributions\": [{\"outputName\": \"scores\", \"baselineOutputValue\": 0.9990845322608948, \"instanceOutputValue\": 0.9987245798110962, \"outputIndex\": [0], \"outputDisplayName\": \"1\", \"featureAttributions\": {\"Age\": 5.7528416315714516e-05, \"Balance\": -5.653500556945801e-05, \"Campaign\": 0.0011362234751383464, \"Contact\": 0.0, \"Day\": 0.00012417137622833252, \"Default\": 0.0, \"Duration\": 0.0004193633794784546, \"Education\": 0.0, \"Housing\": -0.0008727014064788818, \"Job\": -0.0003013809521993001, \"Loan\": -0.000866621732711792, \"MaritalStatus\": 0.0, \"Month\": 0.0, \"PDays\": 0.0, \"POutcome\": 0.0, \"Previous\": 0.0}, \"approximationError\": 0.004464140582671915}]}}\n",
      "\n",
      "{\"instance\": {\"Job\": \"management\", \"Day\": \"8\", \"Education\": \"tertiary\", \"Housing\": \"yes\", \"Loan\": \"no\", \"MaritalStatus\": \"divorced\", \"Duration\": \"352\", \"Previous\": \"0\", \"Default\": \"no\", \"Age\": \"41\", \"Contact\": \"unknown\", \"Campaign\": \"2\", \"POutcome\": \"unknown\", \"Month\": \"may\", \"Balance\": \"292\", \"PDays\": \"-1\"}, \"prediction\": {\"classes\": [\"1\", \"2\"], \"scores\": [0.9826341271400452, 0.0173658337444067]}, \"explanation\": {\"attributions\": [{\"outputName\": \"scores\", \"baselineOutputValue\": 0.9990845322608948, \"instanceOutputValue\": 0.9826341271400452, \"outputIndex\": [0], \"outputDisplayName\": \"1\", \"featureAttributions\": {\"Age\": -3.1863649686177574e-05, \"Balance\": -0.0002543528874715169, \"Campaign\": 0.0013556679089864094, \"Contact\": 0.0, \"Day\": -0.0013182411591211955, \"Default\": 0.0, \"Duration\": -0.010415295759836832, \"Education\": -0.0006612936655680338, \"Housing\": 0.0, \"Job\": -0.0007930994033813477, \"Loan\": 0.0, \"MaritalStatus\": -0.004331926504770915, \"Month\": 0.0, \"PDays\": 0.0, \"POutcome\": 0.0, \"Previous\": 0.0}, \"approximationError\": 0.005161731280955161}]}}\n",
      "\n",
      "{\"instance\": {\"PDays\": \"-1\", \"Education\": \"primary\", \"POutcome\": \"unknown\", \"Balance\": \"362\", \"Contact\": \"unknown\", \"Day\": \"8\", \"Campaign\": \"5\", \"Job\": \"blue-collar\", \"Loan\": \"no\", \"MaritalStatus\": \"married\", \"Previous\": \"0\", \"Age\": \"38\", \"Default\": \"no\", \"Housing\": \"yes\", \"Month\": \"may\", \"Duration\": \"100\"}, \"prediction\": {\"scores\": [0.999786913394928, 0.00021305907284840941], \"classes\": [\"1\", \"2\"]}, \"explanation\": {\"attributions\": [{\"outputName\": \"scores\", \"baselineOutputValue\": 0.9990845322608948, \"instanceOutputValue\": 0.999786913394928, \"outputIndex\": [0], \"outputDisplayName\": \"1\", \"featureAttributions\": {\"Age\": -2.8361876805623374e-06, \"Balance\": -1.7484029134114582e-05, \"Campaign\": 0.0007284830013910929, \"Contact\": 0.0, \"Day\": -2.4725993474324543e-05, \"Default\": 0.0, \"Duration\": 0.00021383663018544516, \"Education\": -0.0001948922872543335, \"Housing\": 0.0, \"Job\": 0.0, \"Loan\": 0.0, \"MaritalStatus\": 0.0, \"Month\": 0.0, \"PDays\": 0.0, \"POutcome\": 0.0, \"Previous\": 0.0}, \"approximationError\": 0.0017223043982163369}]}}\n",
      "\n",
      "{\"instance\": {\"Campaign\": \"2\", \"Month\": \"may\", \"Balance\": \"0\", \"Previous\": \"0\", \"Day\": \"8\", \"Duration\": \"459\", \"Housing\": \"yes\", \"Job\": \"blue-collar\", \"PDays\": \"-1\", \"Education\": \"secondary\", \"Loan\": \"no\", \"POutcome\": \"unknown\", \"Default\": \"no\", \"Age\": \"28\", \"Contact\": \"unknown\", \"MaritalStatus\": \"married\"}, \"prediction\": {\"scores\": [0.9883816838264465, 0.011618268676102161], \"classes\": [\"1\", \"2\"]}, \"explanation\": {\"attributions\": [{\"outputName\": \"scores\", \"baselineOutputValue\": 0.9990845322608948, \"instanceOutputValue\": 0.9883816838264465, \"outputIndex\": [0], \"outputDisplayName\": \"1\", \"featureAttributions\": {\"Age\": 0.00018815696239471436, \"Balance\": 0.0021710842847824097, \"Campaign\": 0.002984851598739624, \"Contact\": 0.0, \"Day\": -0.0015192081530888875, \"Default\": 0.0, \"Duration\": -0.014527733127276102, \"Education\": 0.0, \"Housing\": 0.0, \"Job\": 0.0, \"Loan\": 0.0, \"MaritalStatus\": 0.0, \"Month\": 0.0, \"PDays\": 0.0, \"POutcome\": 0.0, \"Previous\": 0.0}, \"approximationError\": 0.003377039840987208}]}}\n",
      "\n",
      "{\"instance\": {\"Day\": \"8\", \"POutcome\": \"unknown\", \"Job\": \"retired\", \"Duration\": \"186\", \"Default\": \"no\", \"PDays\": \"-1\", \"MaritalStatus\": \"married\", \"Education\": \"primary\", \"Campaign\": \"2\", \"Previous\": \"0\", \"Contact\": \"unknown\", \"Month\": \"may\", \"Housing\": \"yes\", \"Loan\": \"no\", \"Balance\": \"0\", \"Age\": \"42\"}, \"prediction\": {\"scores\": [0.9989526271820068, 0.0010473266011103988], \"classes\": [\"1\", \"2\"]}, \"explanation\": {\"attributions\": [{\"outputName\": \"scores\", \"baselineOutputValue\": 0.9990845322608948, \"instanceOutputValue\": 0.9989526271820068, \"outputIndex\": [0], \"outputDisplayName\": \"1\", \"featureAttributions\": {\"Age\": 2.734859784444173e-05, \"Balance\": 5.364914735158285e-05, \"Campaign\": 0.0002026061216990153, \"Contact\": 0.0, \"Day\": -9.85562801361084e-05, \"Default\": 0.0, \"Duration\": 7.64628251393636e-05, \"Education\": -0.00029352307319641113, \"Housing\": 0.0, \"Job\": -9.989241758982341e-05, \"Loan\": 0.0, \"MaritalStatus\": 0.0, \"Month\": 0.0, \"PDays\": 0.0, \"POutcome\": 0.0, \"Previous\": 0.0}, \"approximationError\": 0.002033332852094274}]}}\n",
      "\n",
      "{\"instance\": {\"Age\": \"33\", \"Education\": \"secondary\", \"Balance\": \"879\", \"Campaign\": \"1\", \"Loan\": \"no\", \"PDays\": \"-1\", \"Job\": \"management\", \"Previous\": \"0\", \"Contact\": \"unknown\", \"Day\": \"8\", \"Duration\": \"245\", \"Housing\": \"yes\", \"POutcome\": \"unknown\", \"MaritalStatus\": \"married\", \"Default\": \"yes\", \"Month\": \"may\"}, \"prediction\": {\"classes\": [\"1\", \"2\"], \"scores\": [0.9951539635658264, 0.004846049007028341]}, \"explanation\": {\"attributions\": [{\"outputName\": \"scores\", \"baselineOutputValue\": 0.9990845322608948, \"instanceOutputValue\": 0.9951539635658264, \"outputIndex\": [0], \"outputDisplayName\": \"1\", \"featureAttributions\": {\"Age\": -0.00010412434736887614, \"Balance\": 3.4014383951822914e-05, \"Campaign\": 0.0, \"Contact\": 0.0, \"Day\": -0.0002478659152984619, \"Default\": -0.0023571749528249106, \"Duration\": -0.0008180191119511923, \"Education\": 0.0, \"Housing\": 0.0, \"Job\": -0.0004373987515767415, \"Loan\": 0.0, \"MaritalStatus\": 0.0, \"Month\": 0.0, \"PDays\": 0.0, \"POutcome\": 0.0, \"Previous\": 0.0}, \"approximationError\": 0.0028215148279939315}]}}\n",
      "\n",
      "{\"instance\": {\"Campaign\": \"2\", \"Housing\": \"yes\", \"Job\": \"blue-collar\", \"POutcome\": \"unknown\", \"Balance\": \"116\", \"Month\": \"may\", \"Age\": \"47\", \"Default\": \"no\", \"Day\": \"8\", \"PDays\": \"-1\", \"Loan\": \"no\", \"MaritalStatus\": \"married\", \"Contact\": \"unknown\", \"Education\": \"secondary\", \"Previous\": \"0\", \"Duration\": \"376\"}, \"prediction\": {\"classes\": [\"1\", \"2\"], \"scores\": [0.9944924116134644, 0.00550755113363266]}, \"explanation\": {\"attributions\": [{\"outputName\": \"scores\", \"baselineOutputValue\": 0.9990845322608948, \"instanceOutputValue\": 0.9944924116134644, \"outputIndex\": [0], \"outputDisplayName\": \"1\", \"featureAttributions\": {\"Age\": 0.0005425910154978434, \"Balance\": 0.00017365813255310059, \"Campaign\": 0.001073126991589864, \"Contact\": 0.0, \"Day\": -0.0008601496616999308, \"Default\": 0.0, \"Duration\": -0.005521347125371297, \"Education\": 0.0, \"Housing\": 0.0, \"Job\": 0.0, \"Loan\": 0.0, \"MaritalStatus\": 0.0, \"Month\": 0.0, \"PDays\": 0.0, \"POutcome\": 0.0, \"Previous\": 0.0}, \"approximationError\": 0.0025224737463050073}]}}\n",
      "\n",
      "{\"instance\": {\"Campaign\": \"1\", \"Job\": \"blue-collar\", \"POutcome\": \"unknown\", \"Month\": \"may\", \"Loan\": \"no\", \"Balance\": \"376\", \"Contact\": \"unknown\", \"Housing\": \"yes\", \"Default\": \"no\", \"Education\": \"secondary\", \"PDays\": \"-1\", \"Previous\": \"0\", \"Day\": \"8\", \"Duration\": \"15\", \"Age\": \"42\", \"MaritalStatus\": \"married\"}, \"prediction\": {\"scores\": [0.9993716478347778, 0.0006284199771471322], \"classes\": [\"1\", \"2\"]}, \"explanation\": {\"attributions\": [{\"outputName\": \"scores\", \"baselineOutputValue\": 0.9990845322608948, \"instanceOutputValue\": 0.9993716478347778, \"outputIndex\": [0], \"outputDisplayName\": \"1\", \"featureAttributions\": {\"Age\": 3.8514534632364907e-05, \"Balance\": -3.0443072319030762e-05, \"Campaign\": 0.0, \"Contact\": 0.0, \"Day\": 1.8576780954996745e-06, \"Default\": 0.0, \"Duration\": 0.00027718643347422284, \"Education\": 0.0, \"Housing\": 0.0, \"Job\": 0.0, \"Loan\": 0.0, \"MaritalStatus\": 0.0, \"Month\": 0.0, \"PDays\": 0.0, \"POutcome\": 0.0, \"Previous\": 0.0}, \"approximationError\": 0.003366058185642443}]}}\n",
      "\n",
      "{\"instance\": {\"Day\": \"8\", \"Housing\": \"yes\", \"Previous\": \"0\", \"Job\": \"blue-collar\", \"PDays\": \"-1\", \"Contact\": \"unknown\", \"Age\": \"34\", \"Education\": \"secondary\", \"Month\": \"may\", \"MaritalStatus\": \"married\", \"Campaign\": \"2\", \"Balance\": \"103\", \"Loan\": \"yes\", \"POutcome\": \"unknown\", \"Default\": \"no\", \"Duration\": \"956\"}, \"prediction\": {\"scores\": [0.6889526844024658, 0.3110472559928894], \"classes\": [\"1\", \"2\"]}, \"explanation\": {\"attributions\": [{\"outputName\": \"scores\", \"baselineOutputValue\": 0.9990845322608948, \"instanceOutputValue\": 0.6889526844024658, \"outputIndex\": [0], \"outputDisplayName\": \"1\", \"featureAttributions\": {\"Age\": 0.003190472722053528, \"Balance\": 0.007368693749109904, \"Campaign\": 0.014241615931193033, \"Contact\": 0.0, \"Day\": -0.016233618060747784, \"Default\": 0.0, \"Duration\": -0.27679579456647235, \"Education\": 0.0, \"Housing\": 0.0, \"Job\": 0.0, \"Loan\": -0.04190321763356527, \"MaritalStatus\": 0.0, \"Month\": 0.0, \"PDays\": 0.0, \"POutcome\": 0.0, \"Previous\": 0.0}, \"approximationError\": 0.0022841527639578725}]}}\n",
      "\n",
      "{\"instance\": {\"Balance\": \"648\", \"Day\": \"8\", \"Job\": \"blue-collar\", \"Contact\": \"unknown\", \"Housing\": \"yes\", \"Campaign\": \"1\", \"Duration\": \"287\", \"POutcome\": \"unknown\", \"Previous\": \"0\", \"Default\": \"no\", \"MaritalStatus\": \"single\", \"Month\": \"may\", \"PDays\": \"-1\", \"Loan\": \"yes\", \"Age\": \"30\", \"Education\": \"secondary\"}, \"prediction\": {\"scores\": [0.9861077070236206, 0.013892303220927715], \"classes\": [\"1\", \"2\"]}, \"explanation\": {\"attributions\": [{\"outputName\": \"scores\", \"baselineOutputValue\": 0.9990845322608948, \"instanceOutputValue\": 0.9861077070236206, \"outputIndex\": [0], \"outputDisplayName\": \"1\", \"featureAttributions\": {\"Age\": 2.8684735298156738e-05, \"Balance\": -0.0002022037903467814, \"Campaign\": 0.0, \"Contact\": 0.0, \"Day\": -0.0007739216089248657, \"Default\": 0.0, \"Duration\": -0.004931916793187459, \"Education\": 0.0, \"Housing\": 0.0, \"Job\": 0.0, \"Loan\": -0.0046936919291814165, \"MaritalStatus\": -0.0024037758509318032, \"Month\": 0.0, \"PDays\": 0.0, \"POutcome\": 0.0, \"Previous\": 0.0}, \"approximationError\": 0.005063483535296783}]}}\n",
      "\n",
      "{\"instance\": {\"PDays\": \"-1\", \"Loan\": \"yes\", \"Previous\": \"0\", \"Age\": \"28\", \"Job\": \"services\", \"Balance\": \"20\", \"Contact\": \"unknown\", \"MaritalStatus\": \"married\", \"Campaign\": \"2\", \"Education\": \"secondary\", \"Default\": \"no\", \"Month\": \"may\", \"POutcome\": \"unknown\", \"Duration\": \"252\", \"Housing\": \"yes\", \"Day\": \"8\"}, \"prediction\": {\"classes\": [\"1\", \"2\"], \"scores\": [0.9964204430580139, 0.003579534823074937]}, \"explanation\": {\"attributions\": [{\"outputName\": \"scores\", \"baselineOutputValue\": 0.9990845322608948, \"instanceOutputValue\": 0.9964204430580139, \"outputIndex\": [0], \"outputDisplayName\": \"1\", \"featureAttributions\": {\"Age\": -0.00018097460269927979, \"Balance\": 0.00010660787423451741, \"Campaign\": 0.00041643281777699787, \"Contact\": 0.0, \"Day\": -0.00023106237252553305, \"Default\": 0.0, \"Duration\": -0.0009337713321050008, \"Education\": 0.0, \"Housing\": 0.0, \"Job\": -0.00018107394377390543, \"Loan\": -0.0016602476437886555, \"MaritalStatus\": 0.0, \"Month\": 0.0, \"PDays\": 0.0, \"POutcome\": 0.0, \"Previous\": 0.0}, \"approximationError\": 0.0030455132404553446}]}}\n",
      "\n",
      "{\"instance\": {\"Housing\": \"yes\", \"Day\": \"8\", \"Default\": \"no\", \"Month\": \"may\", \"Duration\": \"30\", \"Balance\": \"0\", \"Contact\": \"unknown\", \"Age\": \"25\", \"Campaign\": \"2\", \"POutcome\": \"unknown\", \"Job\": \"blue-collar\", \"Education\": \"secondary\", \"PDays\": \"-1\", \"Previous\": \"0\", \"Loan\": \"no\", \"MaritalStatus\": \"single\"}, \"prediction\": {\"classes\": [\"1\", \"2\"], \"scores\": [0.998910665512085, 0.00108938361518085]}, \"explanation\": {\"attributions\": [{\"outputName\": \"scores\", \"baselineOutputValue\": 0.9990845322608948, \"instanceOutputValue\": 0.998910665512085, \"outputIndex\": [0], \"outputDisplayName\": \"1\", \"featureAttributions\": {\"Age\": -0.00033753613630930584, \"Balance\": 7.495780785878499e-05, \"Campaign\": 0.0003571261962254842, \"Contact\": 0.0, \"Day\": 5.210439364115397e-05, \"Default\": 0.0, \"Duration\": 0.0005426555871963501, \"Education\": 0.0, \"Housing\": 0.0, \"Job\": 0.0, \"Loan\": 0.0, \"MaritalStatus\": -0.0008631745974222819, \"Month\": 0.0, \"PDays\": 0.0, \"POutcome\": 0.0, \"Previous\": 0.0}, \"approximationError\": 0.0025621985023809293}]}}\n",
      "\n",
      "{\"instance\": {\"POutcome\": \"unknown\", \"Duration\": \"1120\", \"Campaign\": \"2\", \"Previous\": \"0\", \"Housing\": \"yes\", \"Month\": \"may\", \"Loan\": \"no\", \"Contact\": \"unknown\", \"Day\": \"8\", \"Job\": \"blue-collar\", \"MaritalStatus\": \"married\", \"Age\": \"43\", \"PDays\": \"-1\", \"Education\": \"primary\", \"Default\": \"no\", \"Balance\": \"-192\"}, \"prediction\": {\"classes\": [\"1\", \"2\"], \"scores\": [0.6627390384674072, 0.33726099133491516]}, \"explanation\": {\"attributions\": [{\"outputName\": \"scores\", \"baselineOutputValue\": 0.9990845322608948, \"instanceOutputValue\": 0.6627390384674072, \"outputIndex\": [0], \"outputDisplayName\": \"1\", \"featureAttributions\": {\"Age\": -0.0034914116064707437, \"Balance\": 0.00898610552151998, \"Campaign\": 0.018622408310572307, \"Contact\": 0.0, \"Day\": -0.018775800863901775, \"Default\": 0.0, \"Duration\": -0.3432871848344803, \"Education\": 0.0016003896792729695, \"Housing\": 0.0, \"Job\": 0.0, \"Loan\": 0.0, \"MaritalStatus\": 0.0, \"Month\": 0.0, \"PDays\": 0.0, \"POutcome\": 0.0, \"Previous\": 0.0}, \"approximationError\": 0.0012190926627733368}]}}\n",
      "\n",
      "{\"instance\": {\"Job\": \"management\", \"PDays\": \"-1\", \"POutcome\": \"unknown\", \"Previous\": \"0\", \"Education\": \"tertiary\", \"Default\": \"no\", \"Age\": \"50\", \"Duration\": \"233\", \"Balance\": \"704\", \"Loan\": \"no\", \"Day\": \"8\", \"Month\": \"may\", \"Campaign\": \"2\", \"Contact\": \"unknown\", \"Housing\": \"yes\", \"MaritalStatus\": \"divorced\"}, \"prediction\": {\"classes\": [\"1\", \"2\"], \"scores\": [0.9970209002494812, 0.0029791181441396475]}, \"explanation\": {\"attributions\": [{\"outputName\": \"scores\", \"baselineOutputValue\": 0.9990845322608948, \"instanceOutputValue\": 0.9970209002494812, \"outputIndex\": [0], \"outputDisplayName\": \"1\", \"featureAttributions\": {\"Age\": 0.0003735174735387166, \"Balance\": -0.00012993812561035156, \"Campaign\": 0.00032284359137217206, \"Contact\": 0.0, \"Day\": -0.00016248226165771484, \"Default\": 0.0, \"Duration\": -0.0006794830163319906, \"Education\": -0.0002052783966064453, \"Housing\": 0.0, \"Job\": -0.00030032793680826825, \"Loan\": 0.0, \"MaritalStatus\": -0.0012824833393096924, \"Month\": 0.0, \"PDays\": 0.0, \"POutcome\": 0.0, \"Previous\": 0.0}, \"approximationError\": 0.003642742009551977}]}}\n",
      "\n",
      "{\"instance\": {\"Job\": \"blue-collar\", \"Housing\": \"yes\", \"MaritalStatus\": \"divorced\", \"Previous\": \"0\", \"Age\": \"43\", \"Loan\": \"no\", \"Campaign\": \"1\", \"PDays\": \"-1\", \"Duration\": \"116\", \"Education\": \"secondary\", \"Default\": \"no\", \"Day\": \"8\", \"POutcome\": \"unknown\", \"Contact\": \"unknown\", \"Month\": \"may\", \"Balance\": \"338\"}, \"prediction\": {\"classes\": [\"1\", \"2\"], \"scores\": [0.9990624785423279, 0.0009375313529744744]}, \"explanation\": {\"attributions\": [{\"outputName\": \"scores\", \"baselineOutputValue\": 0.9990845322608948, \"instanceOutputValue\": 0.9990624785423279, \"outputIndex\": [0], \"outputDisplayName\": \"1\", \"featureAttributions\": {\"Age\": 7.787843545277913e-05, \"Balance\": -2.6355187098185222e-05, \"Campaign\": 0.0, \"Contact\": 0.0, \"Day\": -6.823241710662842e-05, \"Default\": 0.0, \"Duration\": 0.0005271881818771362, \"Education\": 0.0, \"Housing\": 0.0, \"Job\": 0.0, \"Loan\": 0.0, \"MaritalStatus\": -0.0005325327316919962, \"Month\": 0.0, \"PDays\": 0.0, \"POutcome\": 0.0, \"Previous\": 0.0}, \"approximationError\": 0.003645531081142468}]}}\n",
      "\n",
      "{\"instance\": {\"Contact\": \"unknown\", \"PDays\": \"-1\", \"Day\": \"8\", \"Duration\": \"627\", \"Education\": \"secondary\", \"MaritalStatus\": \"married\", \"Loan\": \"no\", \"Age\": \"34\", \"Previous\": \"0\", \"Housing\": \"yes\", \"Default\": \"no\", \"Job\": \"blue-collar\", \"Campaign\": \"3\", \"Balance\": \"199\", \"Month\": \"may\", \"POutcome\": \"unknown\"}, \"prediction\": {\"classes\": [\"1\", \"2\"], \"scores\": [0.9649048447608948, 0.03509509190917015]}, \"explanation\": {\"attributions\": [{\"outputName\": \"scores\", \"baselineOutputValue\": 0.9990845322608948, \"instanceOutputValue\": 0.9649049639701843, \"outputIndex\": [0], \"outputDisplayName\": \"1\", \"featureAttributions\": {\"Age\": 0.00046398242314656574, \"Balance\": -0.0002828637758890788, \"Campaign\": 0.02990320324897766, \"Contact\": 0.0, \"Day\": -0.006651153167088826, \"Default\": 0.0, \"Duration\": -0.05761273701985677, \"Education\": 0.0, \"Housing\": 0.0, \"Job\": 0.0, \"Loan\": 0.0, \"MaritalStatus\": 0.0, \"Month\": 0.0, \"PDays\": 0.0, \"POutcome\": 0.0, \"Previous\": 0.0}, \"approximationError\": 0.004204102510275582}]}}\n",
      "\n",
      "{\"instance\": {\"Duration\": \"242\", \"Month\": \"may\", \"Contact\": \"unknown\", \"Previous\": \"0\", \"Campaign\": \"1\", \"Default\": \"no\", \"Housing\": \"yes\", \"Age\": \"35\", \"Job\": \"blue-collar\", \"MaritalStatus\": \"single\", \"POutcome\": \"unknown\", \"Loan\": \"yes\", \"Education\": \"secondary\", \"Balance\": \"907\", \"PDays\": \"-1\", \"Day\": \"8\"}, \"prediction\": {\"classes\": [\"1\", \"2\"], \"scores\": [0.9921727776527405, 0.00782722420990467]}, \"explanation\": {\"attributions\": [{\"outputName\": \"scores\", \"baselineOutputValue\": 0.9990845322608948, \"instanceOutputValue\": 0.9921727776527405, \"outputIndex\": [0], \"outputDisplayName\": \"1\", \"featureAttributions\": {\"Age\": -1.9242366154988606e-05, \"Balance\": -0.00016419589519500732, \"Campaign\": 0.0, \"Contact\": 0.0, \"Day\": -0.00041444599628448486, \"Default\": 0.0, \"Duration\": -0.0015447189410527546, \"Education\": 0.0, \"Housing\": 0.0, \"Job\": 0.0, \"Loan\": -0.0029601603746414185, \"MaritalStatus\": -0.0018089910348256428, \"Month\": 0.0, \"PDays\": 0.0, \"POutcome\": 0.0, \"Previous\": 0.0}, \"approximationError\": 0.0037654462837094635}]}}\n",
      "\n",
      "{\"instance\": {\"Loan\": \"no\", \"Previous\": \"0\", \"Duration\": \"74\", \"Month\": \"may\", \"Job\": \"services\", \"Housing\": \"yes\", \"Campaign\": \"7\", \"Education\": \"unknown\", \"Age\": \"43\", \"Day\": \"8\", \"POutcome\": \"unknown\", \"MaritalStatus\": \"single\", \"Contact\": \"unknown\", \"Balance\": \"193\", \"PDays\": \"-1\", \"Default\": \"no\"}, \"prediction\": {\"classes\": [\"1\", \"2\"], \"scores\": [0.9998489022254944, 0.00015105749480426311]}, \"explanation\": {\"attributions\": [{\"outputName\": \"scores\", \"baselineOutputValue\": 0.9990845322608948, \"instanceOutputValue\": 0.9998489022254944, \"outputIndex\": [0], \"outputDisplayName\": \"1\", \"featureAttributions\": {\"Age\": 6.667276223500569e-05, \"Balance\": -9.98377799987793e-07, \"Campaign\": 0.0012586911519368489, \"Contact\": 0.0, \"Day\": -0.00012755393981933594, \"Default\": 0.0, \"Duration\": 0.0003831833600997925, \"Education\": -6.809333960215251e-05, \"Housing\": 0.0, \"Job\": -0.00019311904907226562, \"Loan\": 0.0, \"MaritalStatus\": -0.0005544126033782959, \"Month\": 0.0, \"PDays\": 0.0, \"POutcome\": 0.0, \"Previous\": 0.0}, \"approximationError\": 0.004818376002328597}]}}\n",
      "\n",
      "{\"instance\": {\"Loan\": \"no\", \"POutcome\": \"unknown\", \"Contact\": \"unknown\", \"Campaign\": \"1\", \"Housing\": \"yes\", \"MaritalStatus\": \"single\", \"Day\": \"8\", \"Job\": \"technician\", \"Balance\": \"178\", \"Duration\": \"234\", \"Month\": \"may\", \"Education\": \"tertiary\", \"Previous\": \"0\", \"PDays\": \"-1\", \"Age\": \"30\", \"Default\": \"no\"}, \"prediction\": {\"classes\": [\"1\", \"2\"], \"scores\": [0.9959477186203003, 0.004052300471812487]}, \"explanation\": {\"attributions\": [{\"outputName\": \"scores\", \"baselineOutputValue\": 0.9990845322608948, \"instanceOutputValue\": 0.9959477186203003, \"outputIndex\": [0], \"outputDisplayName\": \"1\", \"featureAttributions\": {\"Age\": 2.5967756907145183e-05, \"Balance\": 2.0017226537068686e-06, \"Campaign\": 0.0, \"Contact\": 0.0, \"Day\": -0.00026536981264750165, \"Default\": 0.0, \"Duration\": -0.0007256021102269491, \"Education\": 1.276532808939616e-06, \"Housing\": 0.0, \"Job\": -0.0005395362774531046, \"Loan\": 0.0, \"MaritalStatus\": -0.0016355514526367188, \"Month\": 0.0, \"PDays\": 0.0, \"POutcome\": 0.0, \"Previous\": 0.0}, \"approximationError\": 0.003606933474192272}]}}\n",
      "\n",
      "{\"instance\": {\"Contact\": \"unknown\", \"PDays\": \"-1\", \"POutcome\": \"unknown\", \"Previous\": \"0\", \"Job\": \"blue-collar\", \"Balance\": \"587\", \"Age\": \"46\", \"Day\": \"8\", \"Month\": \"may\", \"Loan\": \"no\", \"Duration\": \"173\", \"Education\": \"primary\", \"MaritalStatus\": \"married\", \"Campaign\": \"2\", \"Housing\": \"yes\", \"Default\": \"no\"}, \"prediction\": {\"scores\": [0.9990930557250977, 0.0009069058578461409], \"classes\": [\"1\", \"2\"]}, \"explanation\": {\"attributions\": [{\"outputName\": \"scores\", \"baselineOutputValue\": 0.9990845322608948, \"instanceOutputValue\": 0.9990930557250977, \"outputIndex\": [0], \"outputDisplayName\": \"1\", \"featureAttributions\": {\"Age\": 0.0001544356346130371, \"Balance\": -5.062917868296305e-05, \"Campaign\": 0.0001593331495920817, \"Contact\": 0.0, \"Day\": -4.4708450635274254e-05, \"Default\": 0.0, \"Duration\": 0.00010672708352406819, \"Education\": -0.00031663477420806885, \"Housing\": 0.0, \"Job\": 0.0, \"Loan\": 0.0, \"MaritalStatus\": 0.0, \"Month\": 0.0, \"PDays\": 0.0, \"POutcome\": 0.0, \"Previous\": 0.0}, \"approximationError\": 0.0016271106134434503}]}}\n",
      "\n",
      "{\"instance\": {\"Previous\": \"0\", \"Education\": \"secondary\", \"POutcome\": \"unknown\", \"Default\": \"no\", \"Campaign\": \"2\", \"Day\": \"8\", \"Housing\": \"yes\", \"Age\": \"46\", \"MaritalStatus\": \"married\", \"Month\": \"may\", \"Loan\": \"yes\", \"Contact\": \"unknown\", \"Job\": \"blue-collar\", \"Duration\": \"119\", \"Balance\": \"125\", \"PDays\": \"-1\"}, \"prediction\": {\"scores\": [0.9990949034690857, 0.0009050231892615557], \"classes\": [\"1\", \"2\"]}, \"explanation\": {\"attributions\": [{\"outputName\": \"scores\", \"baselineOutputValue\": 0.9990845322608948, \"instanceOutputValue\": 0.9990949034690857, \"outputIndex\": [0], \"outputDisplayName\": \"1\", \"featureAttributions\": {\"Age\": 0.00018351773420969644, \"Balance\": 5.344549814860026e-06, \"Campaign\": 0.00019993881384531656, \"Contact\": 0.0, \"Day\": -6.783008575439453e-05, \"Default\": 0.0, \"Duration\": 0.0003441721200942993, \"Education\": 0.0, \"Housing\": 0.0, \"Job\": 0.0, \"Loan\": -0.0006547719240188599, \"MaritalStatus\": 0.0, \"Month\": 0.0, \"PDays\": 0.0, \"POutcome\": 0.0, \"Previous\": 0.0}, \"approximationError\": 0.0027407685392295375}]}}\n",
      "\n",
      "{\"instance\": {\"Job\": \"entrepreneur\", \"Loan\": \"no\", \"Age\": \"55\", \"Duration\": \"144\", \"Campaign\": \"3\", \"Previous\": \"0\", \"PDays\": \"-1\", \"Contact\": \"unknown\", \"Day\": \"8\", \"Education\": \"primary\", \"Balance\": \"298\", \"Month\": \"may\", \"Housing\": \"yes\", \"Default\": \"no\", \"MaritalStatus\": \"married\", \"POutcome\": \"unknown\"}, \"prediction\": {\"classes\": [\"1\", \"2\"], \"scores\": [0.999326765537262, 0.000673220434691757]}, \"explanation\": {\"attributions\": [{\"outputName\": \"scores\", \"baselineOutputValue\": 0.9990845322608948, \"instanceOutputValue\": 0.999326765537262, \"outputIndex\": [0], \"outputDisplayName\": \"1\", \"featureAttributions\": {\"Age\": 0.00032162169615427655, \"Balance\": -1.3530254364013672e-05, \"Campaign\": 0.0003341784079869588, \"Contact\": 0.0, \"Day\": -3.098944822947184e-05, \"Default\": 0.0, \"Duration\": 0.00018827120463053385, \"Education\": -0.0003617902596791585, \"Housing\": 0.0, \"Job\": -0.00019552807013193765, \"Loan\": 0.0, \"MaritalStatus\": 0.0, \"Month\": 0.0, \"PDays\": 0.0, \"POutcome\": 0.0, \"Previous\": 0.0}, \"approximationError\": 0.00231119895666631}]}}\n",
      "\n",
      "{\"instance\": {\"Duration\": \"318\", \"Housing\": \"yes\", \"Default\": \"no\", \"Age\": \"55\", \"MaritalStatus\": \"married\", \"Loan\": \"no\", \"Previous\": \"0\", \"Month\": \"may\", \"Education\": \"primary\", \"Campaign\": \"2\", \"PDays\": \"-1\", \"Day\": \"8\", \"POutcome\": \"unknown\", \"Contact\": \"unknown\", \"Job\": \"blue-collar\", \"Balance\": \"332\"}, \"prediction\": {\"scores\": [0.9971582293510437, 0.0028417324647307396], \"classes\": [\"1\", \"2\"]}, \"explanation\": {\"attributions\": [{\"outputName\": \"scores\", \"baselineOutputValue\": 0.9990845322608948, \"instanceOutputValue\": 0.9971582293510437, \"outputIndex\": [0], \"outputDisplayName\": \"1\", \"featureAttributions\": {\"Age\": 0.0006679842869440714, \"Balance\": -8.308887481689453e-05, \"Campaign\": 0.0004179726044336955, \"Contact\": 0.0, \"Day\": -0.0002917051315307617, \"Default\": 0.0, \"Duration\": -0.002151668071746826, \"Education\": -0.0004857977231343587, \"Housing\": 0.0, \"Job\": 0.0, \"Loan\": 0.0, \"MaritalStatus\": 0.0, \"Month\": 0.0, \"PDays\": 0.0, \"POutcome\": 0.0, \"Previous\": 0.0}, \"approximationError\": 0.0026625542497312137}]}}\n",
      "\n",
      "{\"instance\": {\"Default\": \"no\", \"Age\": \"34\", \"Housing\": \"yes\", \"Campaign\": \"2\", \"Contact\": \"unknown\", \"Previous\": \"0\", \"POutcome\": \"unknown\", \"MaritalStatus\": \"married\", \"Day\": \"8\", \"Loan\": \"yes\", \"Education\": \"secondary\", \"Month\": \"may\", \"Duration\": \"224\", \"Job\": \"services\", \"Balance\": \"586\", \"PDays\": \"-1\"}, \"prediction\": {\"classes\": [\"1\", \"2\"], \"scores\": [0.9970213174819946, 0.002978689270094037]}, \"explanation\": {\"attributions\": [{\"outputName\": \"scores\", \"baselineOutputValue\": 0.9990845322608948, \"instanceOutputValue\": 0.9970213174819946, \"outputIndex\": [0], \"outputDisplayName\": \"1\", \"featureAttributions\": {\"Age\": -7.077554861704509e-05, \"Balance\": -7.750093936920166e-05, \"Campaign\": 0.0003549158573150635, \"Contact\": 0.0, \"Day\": -0.0002252658208211263, \"Default\": 0.0, \"Duration\": -0.0003972997268040975, \"Education\": 0.0, \"Housing\": 0.0, \"Job\": -0.00020781159400939941, \"Loan\": -0.00143947700659434, \"MaritalStatus\": 0.0, \"Month\": 0.0, \"PDays\": 0.0, \"POutcome\": 0.0, \"Previous\": 0.0}, \"approximationError\": 0.0025241073952052386}]}}\n",
      "\n",
      "{\"instance\": {\"Age\": \"38\", \"Campaign\": \"2\", \"Contact\": \"unknown\", \"Default\": \"no\", \"Housing\": \"no\", \"Previous\": \"0\", \"MaritalStatus\": \"divorced\", \"Job\": \"services\", \"Balance\": \"5873\", \"POutcome\": \"unknown\", \"Day\": \"8\", \"Duration\": \"191\", \"PDays\": \"-1\", \"Education\": \"secondary\", \"Loan\": \"no\", \"Month\": \"may\"}, \"prediction\": {\"classes\": [\"1\", \"2\"], \"scores\": [0.9971436858177185, 0.002856230130419135]}, \"explanation\": {\"attributions\": [{\"outputName\": \"scores\", \"baselineOutputValue\": 0.9990845322608948, \"instanceOutputValue\": 0.9971436858177185, \"outputIndex\": [0], \"outputDisplayName\": \"1\", \"featureAttributions\": {\"Age\": -1.971920331319173e-05, \"Balance\": -0.0006416092316309611, \"Campaign\": 0.0004071642955144246, \"Contact\": 0.0, \"Day\": -2.866983413696289e-05, \"Default\": 0.0, \"Duration\": 0.00013614694277445474, \"Education\": 0.0, \"Housing\": -0.0010142475366592407, \"Job\": -0.00016498068968454996, \"Loan\": 0.0, \"MaritalStatus\": -0.0006149311860402425, \"Month\": 0.0, \"PDays\": 0.0, \"POutcome\": 0.0, \"Previous\": 0.0}, \"approximationError\": 0.0023532682224705337}]}}\n",
      "\n",
      "{\"instance\": {\"Loan\": \"no\", \"Job\": \"admin.\", \"Contact\": \"unknown\", \"Month\": \"may\", \"MaritalStatus\": \"single\", \"Previous\": \"0\", \"Duration\": \"230\", \"Campaign\": \"4\", \"Day\": \"8\", \"Balance\": \"184\", \"POutcome\": \"unknown\", \"Age\": \"32\", \"Education\": \"secondary\", \"Default\": \"no\", \"PDays\": \"-1\", \"Housing\": \"yes\"}, \"prediction\": {\"scores\": [0.9986069202423096, 0.001393025740981102], \"classes\": [\"1\", \"2\"]}, \"explanation\": {\"attributions\": [{\"outputName\": \"scores\", \"baselineOutputValue\": 0.9990845322608948, \"instanceOutputValue\": 0.9986069202423096, \"outputIndex\": [0], \"outputDisplayName\": \"1\", \"featureAttributions\": {\"Age\": -0.00010018547375996907, \"Balance\": -3.8743019104003906e-07, \"Campaign\": 0.0018735229969024658, \"Contact\": 0.0, \"Day\": -0.00016271571318308511, \"Default\": 0.0, \"Duration\": -0.0004525830348332723, \"Education\": 0.0, \"Housing\": 0.0, \"Job\": -0.0006508231163024902, \"Loan\": 0.0, \"MaritalStatus\": -0.0009844402472178142, \"Month\": 0.0, \"PDays\": 0.0, \"POutcome\": 0.0, \"Previous\": 0.0}, \"approximationError\": 0.0036304862338458733}]}}\n",
      "\n",
      "{\"instance\": {\"Balance\": \"162\", \"POutcome\": \"unknown\", \"Day\": \"8\", \"MaritalStatus\": \"single\", \"Education\": \"primary\", \"Month\": \"may\", \"Job\": \"blue-collar\", \"Default\": \"no\", \"Duration\": \"200\", \"Age\": \"38\", \"PDays\": \"-1\", \"Housing\": \"yes\", \"Loan\": \"no\", \"Previous\": \"0\", \"Campaign\": \"2\", \"Contact\": \"unknown\"}, \"prediction\": {\"classes\": [\"1\", \"2\"], \"scores\": [0.9972956776618958, 0.002704265294596553]}, \"explanation\": {\"attributions\": [{\"outputName\": \"scores\", \"baselineOutputValue\": 0.9990845322608948, \"instanceOutputValue\": 0.9972956776618958, \"outputIndex\": [0], \"outputDisplayName\": \"1\", \"featureAttributions\": {\"Age\": 3.039836883544922e-05, \"Balance\": 8.384386698404947e-06, \"Campaign\": 0.0002714147170384725, \"Contact\": 0.0, \"Day\": -6.731847922007243e-05, \"Default\": 0.0, \"Duration\": 1.0917584101359049e-05, \"Education\": -0.0006172408660252889, \"Housing\": 0.0, \"Job\": 0.0, \"Loan\": 0.0, \"MaritalStatus\": -0.0014254103104273479, \"Month\": 0.0, \"PDays\": 0.0, \"POutcome\": 0.0, \"Previous\": 0.0}, \"approximationError\": 0.0028703311721295873}]}}\n",
      "\n",
      "{\"instance\": {\"Age\": \"35\", \"Default\": \"no\", \"Campaign\": \"5\", \"MaritalStatus\": \"married\", \"Housing\": \"yes\", \"Day\": \"8\", \"Loan\": \"no\", \"Previous\": \"0\", \"Contact\": \"unknown\", \"Balance\": \"25\", \"Job\": \"blue-collar\", \"Duration\": \"23\", \"Month\": \"may\", \"Education\": \"secondary\", \"POutcome\": \"unknown\", \"PDays\": \"-1\"}, \"prediction\": {\"classes\": [\"1\", \"2\"], \"scores\": [0.9999601244926453, 3.977096639573574e-05]}, \"explanation\": {\"attributions\": [{\"outputName\": \"scores\", \"baselineOutputValue\": 0.9990845322608948, \"instanceOutputValue\": 0.9999601244926453, \"outputIndex\": [0], \"outputDisplayName\": \"1\", \"featureAttributions\": {\"Age\": -6.833672523498535e-05, \"Balance\": 1.093745231628418e-05, \"Campaign\": 0.0007327248652776083, \"Contact\": 0.0, \"Day\": 1.8278757731119792e-06, \"Default\": 0.0, \"Duration\": 0.00019843876361846924, \"Education\": 0.0, \"Housing\": 0.0, \"Job\": 0.0, \"Loan\": 0.0, \"MaritalStatus\": 0.0, \"Month\": 0.0, \"PDays\": 0.0, \"POutcome\": 0.0, \"Previous\": 0.0}, \"approximationError\": 0.001818321331764225}]}}\n",
      "\n",
      "{\"instance\": {\"Age\": \"37\", \"Default\": \"no\", \"Education\": \"secondary\", \"Contact\": \"unknown\", \"Job\": \"technician\", \"Month\": \"may\", \"Campaign\": \"3\", \"Duration\": \"78\", \"Balance\": \"670\", \"Housing\": \"yes\", \"PDays\": \"-1\", \"Day\": \"8\", \"MaritalStatus\": \"single\", \"POutcome\": \"unknown\", \"Previous\": \"0\", \"Loan\": \"no\"}, \"prediction\": {\"scores\": [0.9993349313735962, 0.0006650480208918452], \"classes\": [\"1\", \"2\"]}, \"explanation\": {\"attributions\": [{\"outputName\": \"scores\", \"baselineOutputValue\": 0.9990845322608948, \"instanceOutputValue\": 0.9993349313735962, \"outputIndex\": [0], \"outputDisplayName\": \"1\", \"featureAttributions\": {\"Age\": -3.849466641743978e-05, \"Balance\": -6.383160750071208e-05, \"Campaign\": 0.0008259167273839315, \"Contact\": 0.0, \"Day\": -3.5171707471211754e-05, \"Default\": 0.0, \"Duration\": 0.0005932102600733439, \"Education\": 0.0, \"Housing\": 0.0, \"Job\": -0.0002814382314682007, \"Loan\": 0.0, \"MaritalStatus\": -0.000749791661898295, \"Month\": 0.0, \"PDays\": 0.0, \"POutcome\": 0.0, \"Previous\": 0.0}, \"approximationError\": 0.002953620297182413}]}}\n",
      "\n",
      "{\"instance\": {\"Campaign\": \"3\", \"Loan\": \"no\", \"POutcome\": \"unknown\", \"Previous\": \"0\", \"Duration\": \"28\", \"Default\": \"no\", \"Balance\": \"1222\", \"Housing\": \"yes\", \"Month\": \"may\", \"Age\": \"47\", \"Contact\": \"unknown\", \"Day\": \"8\", \"Job\": \"management\", \"PDays\": \"-1\", \"Education\": \"primary\", \"MaritalStatus\": \"married\"}, \"prediction\": {\"scores\": [0.9995744228363037, 0.00042560684960335493], \"classes\": [\"1\", \"2\"]}, \"explanation\": {\"attributions\": [{\"outputName\": \"scores\", \"baselineOutputValue\": 0.9990845322608948, \"instanceOutputValue\": 0.9995744228363037, \"outputIndex\": [0], \"outputDisplayName\": \"1\", \"featureAttributions\": {\"Age\": 0.00016607344150543213, \"Balance\": -7.910529772440593e-05, \"Campaign\": 0.0003809283177057902, \"Contact\": 0.0, \"Day\": -6.477038065592448e-06, \"Default\": 0.0, \"Duration\": 0.0003650784492492676, \"Education\": -0.0002709875504175822, \"Housing\": 0.0, \"Job\": -6.56197468439738e-05, \"Loan\": 0.0, \"MaritalStatus\": 0.0, \"Month\": 0.0, \"PDays\": 0.0, \"POutcome\": 0.0, \"Previous\": 0.0}, \"approximationError\": 0.002398017309398491}]}}\n",
      "\n",
      "{\"instance\": {\"Loan\": \"no\", \"PDays\": \"-1\", \"Housing\": \"yes\", \"Day\": \"8\", \"Age\": \"36\", \"Contact\": \"unknown\", \"Education\": \"secondary\", \"Month\": \"may\", \"Campaign\": \"1\", \"Default\": \"no\", \"Balance\": \"241\", \"Job\": \"services\", \"MaritalStatus\": \"divorced\", \"Duration\": \"133\", \"POutcome\": \"unknown\", \"Previous\": \"0\"}, \"prediction\": {\"classes\": [\"1\", \"2\"], \"scores\": [0.9988330602645874, 0.0011669191299006343]}, \"explanation\": {\"attributions\": [{\"outputName\": \"scores\", \"baselineOutputValue\": 0.9990845322608948, \"instanceOutputValue\": 0.9988330602645874, \"outputIndex\": [0], \"outputDisplayName\": \"1\", \"featureAttributions\": {\"Age\": -3.02046537399292e-05, \"Balance\": -8.588035901387533e-06, \"Campaign\": 0.0, \"Contact\": 0.0, \"Day\": -0.00012417137622833252, \"Default\": 0.0, \"Duration\": 0.0005352099736531576, \"Education\": 0.0, \"Housing\": 0.0, \"Job\": -0.00010584791501363118, \"Loan\": 0.0, \"MaritalStatus\": -0.0005178699890772501, \"Month\": 0.0, \"PDays\": 0.0, \"POutcome\": 0.0, \"Previous\": 0.0}, \"approximationError\": 0.004050044875240276}]}}\n",
      "\n",
      "{\"instance\": {\"PDays\": \"-1\", \"Balance\": \"90\", \"Age\": \"36\", \"Campaign\": \"2\", \"Day\": \"8\", \"MaritalStatus\": \"married\", \"Previous\": \"0\", \"Duration\": \"403\", \"Education\": \"primary\", \"Contact\": \"unknown\", \"Job\": \"self-employed\", \"Housing\": \"yes\", \"Loan\": \"no\", \"Month\": \"may\", \"POutcome\": \"unknown\", \"Default\": \"no\"}, \"prediction\": {\"scores\": [0.989983320236206, 0.010016663931310177], \"classes\": [\"1\", \"2\"]}, \"explanation\": {\"attributions\": [{\"outputName\": \"scores\", \"baselineOutputValue\": 0.9990845322608948, \"instanceOutputValue\": 0.989983320236206, \"outputIndex\": [0], \"outputDisplayName\": \"1\", \"featureAttributions\": {\"Age\": 8.44101111094157e-05, \"Balance\": 0.0004844367504119873, \"Campaign\": 0.0016167213519414265, \"Contact\": 0.0, \"Day\": -0.0011737098296483357, \"Default\": 0.0, \"Duration\": -0.008922338485717773, \"Education\": -0.0008441110452016195, \"Housing\": 0.0, \"Job\": -0.0003466208775838216, \"Loan\": 0.0, \"MaritalStatus\": 0.0, \"Month\": 0.0, \"PDays\": 0.0, \"POutcome\": 0.0, \"Previous\": 0.0}, \"approximationError\": 0.002738089777860286}]}}\n",
      "\n",
      "{\"instance\": {\"Duration\": \"42\", \"PDays\": \"-1\", \"Loan\": \"no\", \"Job\": \"blue-collar\", \"Previous\": \"0\", \"Default\": \"no\", \"Education\": \"secondary\", \"POutcome\": \"unknown\", \"Balance\": \"717\", \"MaritalStatus\": \"married\", \"Campaign\": \"1\", \"Housing\": \"yes\", \"Day\": \"8\", \"Contact\": \"unknown\", \"Month\": \"may\", \"Age\": \"30\"}, \"prediction\": {\"scores\": [0.9991956949234009, 0.0008042738190852106], \"classes\": [\"1\", \"2\"]}, \"explanation\": {\"attributions\": [{\"outputName\": \"scores\", \"baselineOutputValue\": 0.9990845322608948, \"instanceOutputValue\": 0.9991956949234009, \"outputIndex\": [0], \"outputDisplayName\": \"1\", \"featureAttributions\": {\"Age\": -0.00018710394700368246, \"Balance\": -6.097555160522461e-05, \"Campaign\": 0.0, \"Contact\": 0.0, \"Day\": 2.263486385345459e-05, \"Default\": 0.0, \"Duration\": 0.00033660729726155597, \"Education\": 0.0, \"Housing\": 0.0, \"Job\": 0.0, \"Loan\": 0.0, \"MaritalStatus\": 0.0, \"Month\": 0.0, \"PDays\": 0.0, \"POutcome\": 0.0, \"Previous\": 0.0}, \"approximationError\": 0.0023539939264626375}]}}\n",
      "\n",
      "{\"instance\": {\"Job\": \"blue-collar\", \"Contact\": \"unknown\", \"Campaign\": \"1\", \"PDays\": \"-1\", \"Day\": \"8\", \"Age\": \"32\", \"Education\": \"secondary\", \"Loan\": \"no\", \"POutcome\": \"unknown\", \"Balance\": \"1\", \"Housing\": \"yes\", \"Previous\": \"0\", \"Default\": \"no\", \"Month\": \"may\", \"Duration\": \"102\", \"MaritalStatus\": \"married\"}, \"prediction\": {\"scores\": [0.9992298483848572, 0.0007701559225097299], \"classes\": [\"1\", \"2\"]}, \"explanation\": {\"attributions\": [{\"outputName\": \"scores\", \"baselineOutputValue\": 0.9990845322608948, \"instanceOutputValue\": 0.9992298483848572, \"outputIndex\": [0], \"outputDisplayName\": \"1\", \"featureAttributions\": {\"Age\": -0.00014030933380126953, \"Balance\": 3.7918488184611e-05, \"Campaign\": 0.0, \"Contact\": 0.0, \"Day\": 1.4056762059529623e-05, \"Default\": 0.0, \"Duration\": 0.00023365020751953125, \"Education\": 0.0, \"Housing\": 0.0, \"Job\": 0.0, \"Loan\": 0.0, \"MaritalStatus\": 0.0, \"Month\": 0.0, \"PDays\": 0.0, \"POutcome\": 0.0, \"Previous\": 0.0}, \"approximationError\": 0.0019025640300134447}]}}\n",
      "\n",
      "{\"instance\": {\"MaritalStatus\": \"single\", \"Contact\": \"unknown\", \"Job\": \"technician\", \"Education\": \"secondary\", \"Previous\": \"0\", \"Age\": \"22\", \"PDays\": \"-1\", \"POutcome\": \"unknown\", \"Duration\": \"626\", \"Campaign\": \"6\", \"Balance\": \"54\", \"Month\": \"may\", \"Default\": \"no\", \"Loan\": \"yes\", \"Housing\": \"yes\", \"Day\": \"8\"}, \"prediction\": {\"classes\": [\"1\", \"2\"], \"scores\": [0.9455622434616089, 0.054437655955553055]}, \"explanation\": {\"attributions\": [{\"outputName\": \"scores\", \"baselineOutputValue\": 0.9990845322608948, \"instanceOutputValue\": 0.9455621838569641, \"outputIndex\": [0], \"outputDisplayName\": \"1\", \"featureAttributions\": {\"Age\": 0.005298450589179993, \"Balance\": 0.0037640631198883057, \"Campaign\": 0.06268105904261272, \"Contact\": 0.0, \"Day\": -0.005720749497413635, \"Default\": 0.0, \"Duration\": -0.08269163469473521, \"Education\": 0.0, \"Housing\": 0.0, \"Job\": -0.003917227188746135, \"Loan\": -0.017564053336779278, \"MaritalStatus\": -0.015372256437937418, \"Month\": 0.0, \"PDays\": 0.0, \"POutcome\": 0.0, \"Previous\": 0.0}, \"approximationError\": 0.005585272281787892}]}}\n",
      "\n",
      "{\"instance\": {\"Job\": \"admin.\", \"Housing\": \"yes\", \"Age\": \"57\", \"Day\": \"8\", \"Education\": \"secondary\", \"Balance\": \"1216\", \"POutcome\": \"unknown\", \"PDays\": \"-1\", \"Campaign\": \"6\", \"Contact\": \"unknown\", \"MaritalStatus\": \"married\", \"Month\": \"may\", \"Duration\": \"255\", \"Previous\": \"0\", \"Default\": \"no\", \"Loan\": \"no\"}, \"prediction\": {\"scores\": [0.999573826789856, 0.00042616965947672725], \"classes\": [\"1\", \"2\"]}, \"explanation\": {\"attributions\": [{\"outputName\": \"scores\", \"baselineOutputValue\": 0.9990845322608948, \"instanceOutputValue\": 0.999573826789856, \"outputIndex\": [0], \"outputDisplayName\": \"1\", \"featureAttributions\": {\"Age\": 0.0005143831173578898, \"Balance\": -8.664528528849284e-05, \"Campaign\": 0.0011172542969385784, \"Contact\": 0.0, \"Day\": -0.0001271913448969523, \"Default\": 0.0, \"Duration\": -0.0004930893580118815, \"Education\": 0.0, \"Housing\": 0.0, \"Job\": -0.0004354168971379598, \"Loan\": 0.0, \"MaritalStatus\": 0.0, \"Month\": 0.0, \"PDays\": 0.0, \"POutcome\": 0.0, \"Previous\": 0.0}, \"approximationError\": 0.003605902493733936}]}}\n",
      "\n",
      "{\"instance\": {\"Duration\": \"246\", \"Loan\": \"no\", \"POutcome\": \"unknown\", \"MaritalStatus\": \"married\", \"Age\": \"39\", \"Housing\": \"yes\", \"Contact\": \"unknown\", \"Day\": \"8\", \"Campaign\": \"2\", \"Balance\": \"830\", \"Education\": \"primary\", \"Previous\": \"0\", \"Month\": \"may\", \"Job\": \"blue-collar\", \"PDays\": \"-1\", \"Default\": \"no\"}, \"prediction\": {\"scores\": [0.9983637928962708, 0.001636233413591981], \"classes\": [\"1\", \"2\"]}, \"explanation\": {\"attributions\": [{\"outputName\": \"scores\", \"baselineOutputValue\": 0.9990845322608948, \"instanceOutputValue\": 0.9983637928962708, \"outputIndex\": [0], \"outputDisplayName\": \"1\", \"featureAttributions\": {\"Age\": 5.319714546203613e-06, \"Balance\": -0.00012590487798055014, \"Campaign\": 0.0002814928690592448, \"Contact\": 0.0, \"Day\": -0.0001433889071146647, \"Default\": 0.0, \"Duration\": -0.00044111907482147217, \"Education\": -0.00029713908831278485, \"Housing\": 0.0, \"Job\": 0.0, \"Loan\": 0.0, \"MaritalStatus\": 0.0, \"Month\": 0.0, \"PDays\": 0.0, \"POutcome\": 0.0, \"Previous\": 0.0}, \"approximationError\": 0.0019317505580653065}]}}\n",
      "\n",
      "{\"instance\": {\"Contact\": \"unknown\", \"Duration\": \"369\", \"Housing\": \"yes\", \"Previous\": \"0\", \"Loan\": \"no\", \"Balance\": \"846\", \"Default\": \"no\", \"Campaign\": \"2\", \"Age\": \"46\", \"POutcome\": \"unknown\", \"Job\": \"admin.\", \"Education\": \"tertiary\", \"MaritalStatus\": \"divorced\", \"PDays\": \"-1\", \"Month\": \"may\", \"Day\": \"8\"}, \"prediction\": {\"scores\": [0.9661908745765686, 0.033809080719947815], \"classes\": [\"1\", \"2\"]}, \"explanation\": {\"attributions\": [{\"outputName\": \"scores\", \"baselineOutputValue\": 0.9990845322608948, \"instanceOutputValue\": 0.9661908745765686, \"outputIndex\": [0], \"outputDisplayName\": \"1\", \"featureAttributions\": {\"Age\": 0.00039392709732055664, \"Balance\": -0.0018404324849446614, \"Campaign\": 0.003653759757677714, \"Contact\": 0.0, \"Day\": -0.002396384874979655, \"Default\": 0.0, \"Duration\": -0.020161519447962444, \"Education\": -0.0013891905546188354, \"Housing\": 0.0, \"Job\": -0.004467869798342387, \"Loan\": 0.0, \"MaritalStatus\": -0.0066859473784764605, \"Month\": 0.0, \"PDays\": 0.0, \"POutcome\": 0.0, \"Previous\": 0.0}, \"approximationError\": 0.006045001616696236}]}}\n",
      "\n",
      "{\"instance\": {\"Housing\": \"yes\", \"Campaign\": \"3\", \"Education\": \"tertiary\", \"Job\": \"management\", \"Day\": \"8\", \"Contact\": \"unknown\", \"Balance\": \"59\", \"PDays\": \"-1\", \"Month\": \"may\", \"POutcome\": \"unknown\", \"Age\": \"31\", \"Previous\": \"0\", \"Loan\": \"no\", \"Duration\": \"314\", \"MaritalStatus\": \"married\", \"Default\": \"no\"}, \"prediction\": {\"classes\": [\"1\", \"2\"], \"scores\": [0.9979946613311768, 0.0020054029300808907]}, \"explanation\": {\"attributions\": [{\"outputName\": \"scores\", \"baselineOutputValue\": 0.9990845322608948, \"instanceOutputValue\": 0.9979946613311768, \"outputIndex\": [0], \"outputDisplayName\": \"1\", \"featureAttributions\": {\"Age\": -3.530581792195638e-05, \"Balance\": 0.00012469788392384848, \"Campaign\": 0.001460308829943339, \"Contact\": 0.0, \"Day\": -0.0003923177719116211, \"Default\": 0.0, \"Duration\": -0.0020035107930501304, \"Education\": 7.058183352152507e-06, \"Housing\": 0.0, \"Job\": -0.0002508014440536499, \"Loan\": 0.0, \"MaritalStatus\": 0.0, \"Month\": 0.0, \"PDays\": 0.0, \"POutcome\": 0.0, \"Previous\": 0.0}, \"approximationError\": 0.0039238355503772}]}}\n",
      "\n",
      "{\"instance\": {\"Duration\": \"139\", \"POutcome\": \"unknown\", \"Loan\": \"no\", \"Campaign\": \"1\", \"MaritalStatus\": \"single\", \"Default\": \"no\", \"Balance\": \"336\", \"Contact\": \"unknown\", \"Education\": \"tertiary\", \"Previous\": \"0\", \"Job\": \"unemployed\", \"Age\": \"32\", \"Day\": \"8\", \"Month\": \"may\", \"PDays\": \"-1\", \"Housing\": \"yes\"}, \"prediction\": {\"scores\": [0.9971502423286438, 0.002849819604307413], \"classes\": [\"1\", \"2\"]}, \"explanation\": {\"attributions\": [{\"outputName\": \"scores\", \"baselineOutputValue\": 0.9990845322608948, \"instanceOutputValue\": 0.9971502423286438, \"outputIndex\": [0], \"outputDisplayName\": \"1\", \"featureAttributions\": {\"Age\": 6.27984603246053e-05, \"Balance\": -3.815690676371256e-05, \"Campaign\": 0.0, \"Contact\": 0.0, \"Day\": -0.00026089946428934735, \"Default\": 0.0, \"Duration\": 0.0005753189325332642, \"Education\": -0.0003026127815246582, \"Housing\": 0.0, \"Job\": -0.0006105552117029825, \"Loan\": 0.0, \"MaritalStatus\": -0.0013601829608281453, \"Month\": 0.0, \"PDays\": 0.0, \"POutcome\": 0.0, \"Previous\": 0.0}, \"approximationError\": 0.004471849347374477}]}}\n",
      "\n",
      "{\"instance\": {\"Month\": \"may\", \"Age\": \"35\", \"Education\": \"secondary\", \"Day\": \"8\", \"Previous\": \"0\", \"Duration\": \"163\", \"Default\": \"no\", \"PDays\": \"-1\", \"MaritalStatus\": \"single\", \"Job\": \"technician\", \"Balance\": \"433\", \"Campaign\": \"2\", \"Loan\": \"no\", \"POutcome\": \"unknown\", \"Contact\": \"unknown\", \"Housing\": \"yes\"}, \"prediction\": {\"scores\": [0.9982128739356995, 0.0017870921874418855], \"classes\": [\"1\", \"2\"]}, \"explanation\": {\"attributions\": [{\"outputName\": \"scores\", \"baselineOutputValue\": 0.9990845322608948, \"instanceOutputValue\": 0.9982128739356995, \"outputIndex\": [0], \"outputDisplayName\": \"1\", \"featureAttributions\": {\"Age\": -6.462633609771729e-05, \"Balance\": -5.386769771575928e-05, \"Campaign\": 0.0003957400719324748, \"Contact\": 0.0, \"Day\": -7.286667823791504e-05, \"Default\": 0.0, \"Duration\": 0.0003427763779958089, \"Education\": 0.0, \"Housing\": 0.0, \"Job\": -0.0003321369489034017, \"Loan\": 0.0, \"MaritalStatus\": -0.001086677114168803, \"Month\": 0.0, \"PDays\": 0.0, \"POutcome\": 0.0, \"Previous\": 0.0}, \"approximationError\": 0.0019471589445011776}]}}\n",
      "\n",
      "{\"instance\": {\"Age\": \"27\", \"Housing\": \"yes\", \"Campaign\": \"2\", \"Duration\": \"237\", \"Month\": \"may\", \"PDays\": \"-1\", \"Day\": \"8\", \"Default\": \"no\", \"Balance\": \"417\", \"Job\": \"blue-collar\", \"Education\": \"tertiary\", \"Contact\": \"unknown\", \"MaritalStatus\": \"married\", \"Loan\": \"yes\", \"Previous\": \"0\", \"POutcome\": \"unknown\"}, \"prediction\": {\"classes\": [\"1\", \"2\"], \"scores\": [0.9969788789749146, 0.0030210819095373154]}, \"explanation\": {\"attributions\": [{\"outputName\": \"scores\", \"baselineOutputValue\": 0.9990845322608948, \"instanceOutputValue\": 0.9969788789749146, \"outputIndex\": [0], \"outputDisplayName\": \"1\", \"featureAttributions\": {\"Age\": -0.00013696650664011636, \"Balance\": -5.397200584411621e-05, \"Campaign\": 0.0003448575735092163, \"Contact\": 0.0, \"Day\": -0.00031402210394541424, \"Default\": 0.0, \"Duration\": -0.0005806833505630493, \"Education\": 2.3464361826578777e-05, \"Housing\": 0.0, \"Job\": 0.0, \"Loan\": -0.0013883312543233235, \"MaritalStatus\": 0.0, \"Month\": 0.0, \"PDays\": 0.0, \"POutcome\": 0.0, \"Previous\": 0.0}, \"approximationError\": 0.00378743858367241}]}}\n",
      "\n",
      "{\"instance\": {\"Balance\": \"607\", \"Job\": \"management\", \"Campaign\": \"3\", \"Duration\": \"240\", \"Default\": \"no\", \"Education\": \"tertiary\", \"Loan\": \"yes\", \"POutcome\": \"unknown\", \"Month\": \"may\", \"MaritalStatus\": \"divorced\", \"Day\": \"8\", \"Housing\": \"yes\", \"PDays\": \"-1\", \"Contact\": \"unknown\", \"Previous\": \"0\", \"Age\": \"29\"}, \"prediction\": {\"scores\": [0.9942675828933716, 0.005732445977628231], \"classes\": [\"1\", \"2\"]}, \"explanation\": {\"attributions\": [{\"outputName\": \"scores\", \"baselineOutputValue\": 0.9990845322608948, \"instanceOutputValue\": 0.9942675828933716, \"outputIndex\": [0], \"outputDisplayName\": \"1\", \"featureAttributions\": {\"Age\": 1.1811653772989908e-05, \"Balance\": -0.00011103848616282146, \"Campaign\": 0.0014048367738723755, \"Contact\": 0.0, \"Day\": -0.0005274415016174316, \"Default\": 0.0, \"Duration\": -0.0013407021760940552, \"Education\": -0.00022168954213460287, \"Housing\": 0.0, \"Job\": -0.000372732679049174, \"Loan\": -0.0023826261361440024, \"MaritalStatus\": -0.0012773672739664714, \"Month\": 0.0, \"PDays\": 0.0, \"POutcome\": 0.0, \"Previous\": 0.0}, \"approximationError\": 0.004630225379880853}]}}\n",
      "\n",
      "{\"instance\": {\"Previous\": \"0\", \"Balance\": \"6\", \"Contact\": \"unknown\", \"Duration\": \"103\", \"Default\": \"no\", \"Job\": \"management\", \"Education\": \"tertiary\", \"Housing\": \"yes\", \"Month\": \"may\", \"Day\": \"8\", \"MaritalStatus\": \"married\", \"Age\": \"42\", \"Campaign\": \"4\", \"POutcome\": \"unknown\", \"Loan\": \"no\", \"PDays\": \"-1\"}, \"prediction\": {\"scores\": [0.9998087286949158, 0.00019119838543701917], \"classes\": [\"1\", \"2\"]}, \"explanation\": {\"attributions\": [{\"outputName\": \"scores\", \"baselineOutputValue\": 0.9990845322608948, \"instanceOutputValue\": 0.9998087286949158, \"outputIndex\": [0], \"outputDisplayName\": \"1\", \"featureAttributions\": {\"Age\": 2.8908252716064453e-05, \"Balance\": 1.8243988355000813e-05, \"Campaign\": 0.0005707691113154093, \"Contact\": 0.0, \"Day\": -7.017950216929118e-05, \"Default\": 0.0, \"Duration\": 0.00022681554158528647, \"Education\": 1.2715657552083334e-05, \"Housing\": 0.0, \"Job\": -6.307661533355713e-05, \"Loan\": 0.0, \"MaritalStatus\": 0.0, \"Month\": 0.0, \"PDays\": 0.0, \"POutcome\": 0.0, \"Previous\": 0.0}, \"approximationError\": 0.0030988745716336707}]}}\n",
      "\n",
      "{\"instance\": {\"Loan\": \"no\", \"Contact\": \"unknown\", \"Duration\": \"543\", \"Housing\": \"yes\", \"Education\": \"primary\", \"Month\": \"may\", \"Campaign\": \"3\", \"POutcome\": \"unknown\", \"Job\": \"blue-collar\", \"Previous\": \"0\", \"Day\": \"8\", \"MaritalStatus\": \"married\", \"Age\": \"43\", \"Default\": \"no\", \"PDays\": \"-1\", \"Balance\": \"34\"}, \"prediction\": {\"scores\": [0.9822988510131836, 0.017701130360364914], \"classes\": [\"1\", \"2\"]}, \"explanation\": {\"attributions\": [{\"outputName\": \"scores\", \"baselineOutputValue\": 0.9990845322608948, \"instanceOutputValue\": 0.9822988510131836, \"outputIndex\": [0], \"outputDisplayName\": \"1\", \"featureAttributions\": {\"Age\": -0.00017790993054707846, \"Balance\": 0.001990939180056254, \"Campaign\": 0.016005525986353557, \"Contact\": 0.0, \"Day\": -0.003403161962827047, \"Default\": 0.0, \"Duration\": -0.029720922311147053, \"Education\": -0.0014801522095998128, \"Housing\": 0.0, \"Job\": 0.0, \"Loan\": 0.0, \"MaritalStatus\": 0.0, \"Month\": 0.0, \"PDays\": 0.0, \"POutcome\": 0.0, \"Previous\": 0.0}, \"approximationError\": 0.004539736534632731}]}}\n",
      "\n",
      "{\"instance\": {\"Education\": \"tertiary\", \"Default\": \"no\", \"MaritalStatus\": \"married\", \"Loan\": \"no\", \"Job\": \"management\", \"Campaign\": \"2\", \"Duration\": \"650\", \"Balance\": \"1601\", \"Previous\": \"0\", \"Age\": \"34\", \"Housing\": \"yes\", \"Month\": \"may\", \"POutcome\": \"unknown\", \"PDays\": \"-1\", \"Contact\": \"unknown\", \"Day\": \"8\"}, \"prediction\": {\"classes\": [\"1\", \"2\"], \"scores\": [0.8826650977134705, 0.11733487993478775]}, \"explanation\": {\"attributions\": [{\"outputName\": \"scores\", \"baselineOutputValue\": 0.9990845322608948, \"instanceOutputValue\": 0.8826650977134705, \"outputIndex\": [0], \"outputDisplayName\": \"1\", \"featureAttributions\": {\"Age\": 0.0015912353992462158, \"Balance\": -0.008597408731778463, \"Campaign\": 0.009424438079198202, \"Contact\": 0.0, \"Day\": -0.010954052209854126, \"Default\": 0.0, \"Duration\": -0.10062675178050995, \"Education\": -0.004851991931597392, \"Housing\": 0.0, \"Job\": -0.0024049033721288047, \"Loan\": 0.0, \"MaritalStatus\": 0.0, \"Month\": 0.0, \"PDays\": 0.0, \"POutcome\": 0.0, \"Previous\": 0.0}, \"approximationError\": 0.002979288104780174}]}}\n",
      "\n",
      "{\"instance\": {\"Month\": \"may\", \"PDays\": \"-1\", \"Day\": \"8\", \"Job\": \"blue-collar\", \"Previous\": \"0\", \"Contact\": \"unknown\", \"MaritalStatus\": \"married\", \"Age\": \"31\", \"Loan\": \"no\", \"Default\": \"no\", \"Housing\": \"yes\", \"Balance\": \"406\", \"Duration\": \"31\", \"POutcome\": \"unknown\", \"Education\": \"primary\", \"Campaign\": \"1\"}, \"prediction\": {\"scores\": [0.9992790818214417, 0.0007208858150988817], \"classes\": [\"1\", \"2\"]}, \"explanation\": {\"attributions\": [{\"outputName\": \"scores\", \"baselineOutputValue\": 0.9990845322608948, \"instanceOutputValue\": 0.9992790818214417, \"outputIndex\": [0], \"outputDisplayName\": \"1\", \"featureAttributions\": {\"Age\": -5.9376160303751625e-05, \"Balance\": -3.2042463620503746e-05, \"Campaign\": 0.0, \"Contact\": 0.0, \"Day\": -8.791685104370117e-07, \"Default\": 0.0, \"Duration\": 0.0003749430179595947, \"Education\": -8.809566497802734e-05, \"Housing\": 0.0, \"Job\": 0.0, \"Loan\": 0.0, \"MaritalStatus\": 0.0, \"Month\": 0.0, \"PDays\": 0.0, \"POutcome\": 0.0, \"Previous\": 0.0}, \"approximationError\": 0.005404979567986348}]}}\n",
      "\n",
      "{\"instance\": {\"Duration\": \"21\", \"Job\": \"blue-collar\", \"PDays\": \"-1\", \"Balance\": \"-210\", \"MaritalStatus\": \"married\", \"Age\": \"38\", \"POutcome\": \"unknown\", \"Contact\": \"unknown\", \"Education\": \"secondary\", \"Housing\": \"yes\", \"Day\": \"8\", \"Month\": \"may\", \"Previous\": \"0\", \"Campaign\": \"1\", \"Default\": \"no\", \"Loan\": \"no\"}, \"prediction\": {\"classes\": [\"1\", \"2\"], \"scores\": [0.9993865489959717, 0.0006133993738330901]}, \"explanation\": {\"attributions\": [{\"outputName\": \"scores\", \"baselineOutputValue\": 0.9990845322608948, \"instanceOutputValue\": 0.9993865489959717, \"outputIndex\": [0], \"outputDisplayName\": \"1\", \"featureAttributions\": {\"Age\": -2.9335419336954754e-05, \"Balance\": 2.316137154897054e-05, \"Campaign\": 0.0, \"Contact\": 0.0, \"Day\": 2.5679667790730796e-06, \"Default\": 0.0, \"Duration\": 0.00030562281608581543, \"Education\": 0.0, \"Housing\": 0.0, \"Job\": 0.0, \"Loan\": 0.0, \"MaritalStatus\": 0.0, \"Month\": 0.0, \"PDays\": 0.0, \"POutcome\": 0.0, \"Previous\": 0.0}, \"approximationError\": 0.003042443058255921}]}}\n",
      "\n",
      "{\"instance\": {\"Contact\": \"unknown\", \"Default\": \"no\", \"Duration\": \"185\", \"Previous\": \"0\", \"Age\": \"30\", \"Campaign\": \"2\", \"Education\": \"secondary\", \"Month\": \"may\", \"Housing\": \"yes\", \"POutcome\": \"unknown\", \"Balance\": \"80\", \"Loan\": \"no\", \"PDays\": \"-1\", \"MaritalStatus\": \"married\", \"Job\": \"services\", \"Day\": \"8\"}, \"prediction\": {\"classes\": [\"1\", \"2\"], \"scores\": [0.9991776943206787, 0.000822383095510304]}, \"explanation\": {\"attributions\": [{\"outputName\": \"scores\", \"baselineOutputValue\": 0.9990845322608948, \"instanceOutputValue\": 0.9991776943206787, \"outputIndex\": [0], \"outputDisplayName\": \"1\", \"featureAttributions\": {\"Age\": -0.00015211602052052817, \"Balance\": 2.7373433113098145e-05, \"Campaign\": 0.00027170777320861816, \"Contact\": 0.0, \"Day\": -4.973510901133219e-05, \"Default\": 0.0, \"Duration\": 7.00851281483968e-05, \"Education\": 0.0, \"Housing\": 0.0, \"Job\": -7.415314515431722e-05, \"Loan\": 0.0, \"MaritalStatus\": 0.0, \"Month\": 0.0, \"PDays\": 0.0, \"POutcome\": 0.0, \"Previous\": 0.0}, \"approximationError\": 0.0018606337527175818}]}}\n",
      "\n",
      "{\"instance\": {\"Loan\": \"no\", \"Month\": \"may\", \"Age\": \"60\", \"MaritalStatus\": \"married\", \"Campaign\": \"1\", \"Day\": \"8\", \"Default\": \"no\", \"POutcome\": \"unknown\", \"Previous\": \"0\", \"Balance\": \"0\", \"Duration\": \"77\", \"Education\": \"unknown\", \"Job\": \"technician\", \"PDays\": \"-1\", \"Contact\": \"unknown\", \"Housing\": \"yes\"}, \"prediction\": {\"classes\": [\"1\", \"2\"], \"scores\": [0.9994243383407593, 0.0005756004247814417]}, \"explanation\": {\"attributions\": [{\"outputName\": \"scores\", \"baselineOutputValue\": 0.9990845322608948, \"instanceOutputValue\": 0.9994243383407593, \"outputIndex\": [0], \"outputDisplayName\": \"1\", \"featureAttributions\": {\"Age\": 0.0005291452010472616, \"Balance\": 2.1109978357950847e-05, \"Campaign\": 0.0, \"Contact\": 0.0, \"Day\": -7.733205954233806e-05, \"Default\": 0.0, \"Duration\": 0.00030026833216349286, \"Education\": -0.00017770628134409586, \"Housing\": 0.0, \"Job\": -0.00025567909081776935, \"Loan\": 0.0, \"MaritalStatus\": 0.0, \"Month\": 0.0, \"PDays\": 0.0, \"POutcome\": 0.0, \"Previous\": 0.0}, \"approximationError\": 0.0024988562489818037}]}}\n",
      "\n",
      "{\"instance\": {\"Month\": \"may\", \"PDays\": \"-1\", \"Balance\": \"87\", \"POutcome\": \"unknown\", \"Contact\": \"unknown\", \"Duration\": \"210\", \"Age\": \"40\", \"Education\": \"primary\", \"Housing\": \"yes\", \"Day\": \"8\", \"Campaign\": \"1\", \"MaritalStatus\": \"married\", \"Loan\": \"no\", \"Previous\": \"0\", \"Default\": \"no\", \"Job\": \"blue-collar\"}, \"prediction\": {\"scores\": [0.9987373948097229, 0.001262559904716909], \"classes\": [\"1\", \"2\"]}, \"explanation\": {\"attributions\": [{\"outputName\": \"scores\", \"baselineOutputValue\": 0.9990845322608948, \"instanceOutputValue\": 0.9987373948097229, \"outputIndex\": [0], \"outputDisplayName\": \"1\", \"featureAttributions\": {\"Age\": 0.0, \"Balance\": 2.9469529787699383e-05, \"Campaign\": 0.0, \"Contact\": 0.0, \"Day\": -7.275740305582683e-05, \"Default\": 0.0, \"Duration\": -5.64803679784139e-05, \"Education\": -0.0002473692099253337, \"Housing\": 0.0, \"Job\": 0.0, \"Loan\": 0.0, \"MaritalStatus\": 0.0, \"Month\": 0.0, \"PDays\": 0.0, \"POutcome\": 0.0, \"Previous\": 0.0}, \"approximationError\": 0.0007839312442548156}]}}\n",
      "\n",
      "{\"instance\": {\"PDays\": \"-1\", \"Month\": \"may\", \"Age\": \"40\", \"MaritalStatus\": \"married\", \"Day\": \"8\", \"Duration\": \"223\", \"POutcome\": \"unknown\", \"Loan\": \"no\", \"Job\": \"technician\", \"Previous\": \"0\", \"Balance\": \"698\", \"Education\": \"unknown\", \"Contact\": \"unknown\", \"Default\": \"no\", \"Campaign\": \"2\", \"Housing\": \"yes\"}, \"prediction\": {\"classes\": [\"1\", \"2\"], \"scores\": [0.9983658194541931, 0.0016341885784640908]}, \"explanation\": {\"attributions\": [{\"outputName\": \"scores\", \"baselineOutputValue\": 0.9990845322608948, \"instanceOutputValue\": 0.9983658194541931, \"outputIndex\": [0], \"outputDisplayName\": \"1\", \"featureAttributions\": {\"Age\": 0.0, \"Balance\": -9.144345919291179e-05, \"Campaign\": 0.0003616561492284139, \"Contact\": 0.0, \"Day\": -0.00016001363595326742, \"Default\": 0.0, \"Duration\": -0.00018747647603352865, \"Education\": -0.00020899375279744467, \"Housing\": 0.0, \"Job\": -0.00043244163195292157, \"Loan\": 0.0, \"MaritalStatus\": 0.0, \"Month\": 0.0, \"PDays\": 0.0, \"POutcome\": 0.0, \"Previous\": 0.0}, \"approximationError\": 0.0023956040335828643}]}}\n",
      "\n",
      "{\"instance\": {\"Housing\": \"no\", \"Contact\": \"unknown\", \"Balance\": \"-132\", \"Month\": \"may\", \"PDays\": \"-1\", \"Education\": \"secondary\", \"Day\": \"8\", \"POutcome\": \"unknown\", \"Age\": \"26\", \"Job\": \"blue-collar\", \"Default\": \"no\", \"Duration\": \"12\", \"Loan\": \"no\", \"Campaign\": \"1\", \"Previous\": \"0\", \"MaritalStatus\": \"single\"}, \"prediction\": {\"classes\": [\"1\", \"2\"], \"scores\": [0.9966499209403992, 0.0033500378485769033]}, \"explanation\": {\"attributions\": [{\"outputName\": \"scores\", \"baselineOutputValue\": 0.9990845322608948, \"instanceOutputValue\": 0.9966499209403992, \"outputIndex\": [0], \"outputDisplayName\": \"1\", \"featureAttributions\": {\"Age\": -0.00043762226899464923, \"Balance\": 4.704296588897705e-05, \"Campaign\": 0.0, \"Contact\": 0.0, \"Day\": 0.00018093486626942953, \"Default\": 0.0, \"Duration\": 0.000673934817314148, \"Education\": 0.0, \"Housing\": -0.0017667462428410847, \"Job\": 0.0, \"Loan\": 0.0, \"MaritalStatus\": -0.001132155458132426, \"Month\": 0.0, \"PDays\": 0.0, \"POutcome\": 0.0, \"Previous\": 0.0}, \"approximationError\": 0.002384852561533411}]}}\n",
      "\n",
      "{\"instance\": {\"Age\": \"46\", \"Month\": \"may\", \"PDays\": \"-1\", \"Job\": \"admin.\", \"Campaign\": \"2\", \"Duration\": \"45\", \"Balance\": \"1069\", \"Housing\": \"yes\", \"Previous\": \"0\", \"MaritalStatus\": \"married\", \"Loan\": \"no\", \"POutcome\": \"unknown\", \"Education\": \"secondary\", \"Default\": \"no\", \"Contact\": \"unknown\", \"Day\": \"8\"}, \"prediction\": {\"scores\": [0.9994575381278992, 0.0005423963302746415], \"classes\": [\"1\", \"2\"]}, \"explanation\": {\"attributions\": [{\"outputName\": \"scores\", \"baselineOutputValue\": 0.9990845322608948, \"instanceOutputValue\": 0.9994575381278992, \"outputIndex\": [0], \"outputDisplayName\": \"1\", \"featureAttributions\": {\"Age\": 0.0001913309097290039, \"Balance\": -8.07642936706543e-05, \"Campaign\": 0.0002422084410985311, \"Contact\": 0.0, \"Day\": -2.625087896982829e-05, \"Default\": 0.0, \"Duration\": 0.0004121909538904826, \"Education\": 0.0, \"Housing\": 0.0, \"Job\": -0.00036570926507314044, \"Loan\": 0.0, \"MaritalStatus\": 0.0, \"Month\": 0.0, \"PDays\": 0.0, \"POutcome\": 0.0, \"Previous\": 0.0}, \"approximationError\": 0.0027029860123578167}]}}\n",
      "\n",
      "{\"instance\": {\"Default\": \"no\", \"Previous\": \"0\", \"Contact\": \"unknown\", \"MaritalStatus\": \"married\", \"Balance\": \"214\", \"Housing\": \"yes\", \"Month\": \"may\", \"Education\": \"secondary\", \"PDays\": \"-1\", \"Loan\": \"no\", \"Age\": \"32\", \"Campaign\": \"1\", \"Duration\": \"190\", \"Day\": \"8\", \"POutcome\": \"unknown\", \"Job\": \"blue-collar\"}, \"prediction\": {\"classes\": [\"1\", \"2\"], \"scores\": [0.9989615678787231, 0.0010384502820670605]}, \"explanation\": {\"attributions\": [{\"outputName\": \"scores\", \"baselineOutputValue\": 0.9990845322608948, \"instanceOutputValue\": 0.9989615678787231, \"outputIndex\": [0], \"outputDisplayName\": \"1\", \"featureAttributions\": {\"Age\": -0.00013897319634755453, \"Balance\": -6.283322970072429e-06, \"Campaign\": 0.0, \"Contact\": 0.0, \"Day\": -2.4418036142985027e-05, \"Default\": 0.0, \"Duration\": 4.671017328898112e-05, \"Education\": 0.0, \"Housing\": 0.0, \"Job\": 0.0, \"Loan\": 0.0, \"MaritalStatus\": 0.0, \"Month\": 0.0, \"PDays\": 0.0, \"POutcome\": 0.0, \"Previous\": 0.0}, \"approximationError\": 0.0016857172406217538}]}}\n",
      "\n",
      "{\"instance\": {\"Month\": \"may\", \"Campaign\": \"2\", \"Duration\": \"32\", \"Balance\": \"4\", \"POutcome\": \"unknown\", \"Age\": \"30\", \"Housing\": \"yes\", \"Previous\": \"0\", \"Default\": \"no\", \"MaritalStatus\": \"married\", \"Day\": \"8\", \"PDays\": \"-1\", \"Job\": \"blue-collar\", \"Education\": \"primary\", \"Loan\": \"no\", \"Contact\": \"unknown\"}, \"prediction\": {\"classes\": [\"1\", \"2\"], \"scores\": [0.9994370341300964, 0.0005630062660202384]}, \"explanation\": {\"attributions\": [{\"outputName\": \"scores\", \"baselineOutputValue\": 0.9990845322608948, \"instanceOutputValue\": 0.9994370341300964, \"outputIndex\": [0], \"outputDisplayName\": \"1\", \"featureAttributions\": {\"Age\": -6.668766339619954e-05, \"Balance\": 2.8913219769795735e-05, \"Campaign\": 0.0002063413461049398, \"Contact\": 0.0, \"Day\": -1.6391277313232422e-06, \"Default\": 0.0, \"Duration\": 0.0003170718749364217, \"Education\": -0.00013149778048197427, \"Housing\": 0.0, \"Job\": 0.0, \"Loan\": 0.0, \"MaritalStatus\": 0.0, \"Month\": 0.0, \"PDays\": 0.0, \"POutcome\": 0.0, \"Previous\": 0.0}, \"approximationError\": 0.00436662351336569}]}}\n",
      "\n",
      "{\"instance\": {\"Previous\": \"0\", \"Age\": \"37\", \"Duration\": \"617\", \"POutcome\": \"unknown\", \"Default\": \"no\", \"Campaign\": \"2\", \"Balance\": \"121\", \"PDays\": \"-1\", \"Day\": \"8\", \"Job\": \"blue-collar\", \"Housing\": \"yes\", \"Loan\": \"no\", \"Education\": \"secondary\", \"MaritalStatus\": \"married\", \"Contact\": \"unknown\", \"Month\": \"may\"}, \"prediction\": {\"scores\": [0.9362980723381042, 0.06370190531015396], \"classes\": [\"1\", \"2\"]}, \"explanation\": {\"attributions\": [{\"outputName\": \"scores\", \"baselineOutputValue\": 0.9990845322608948, \"instanceOutputValue\": 0.9362980723381042, \"outputIndex\": [0], \"outputDisplayName\": \"1\", \"featureAttributions\": {\"Age\": 0.0003624558448791504, \"Balance\": 0.0020159383614857993, \"Campaign\": 0.008717387914657593, \"Contact\": 0.0, \"Day\": -0.007311279575030009, \"Default\": 0.0, \"Duration\": -0.06657096246878307, \"Education\": 0.0, \"Housing\": 0.0, \"Job\": 0.0, \"Loan\": 0.0, \"MaritalStatus\": 0.0, \"Month\": 0.0, \"PDays\": 0.0, \"POutcome\": 0.0, \"Previous\": 0.0}, \"approximationError\": 0.0020136392035034127}]}}\n",
      "\n",
      "{\"instance\": {\"Month\": \"may\", \"Campaign\": \"1\", \"Housing\": \"yes\", \"Day\": \"8\", \"Duration\": \"285\", \"MaritalStatus\": \"divorced\", \"Balance\": \"7601\", \"Loan\": \"no\", \"Education\": \"primary\", \"Age\": \"60\", \"PDays\": \"-1\", \"Previous\": \"0\", \"POutcome\": \"unknown\", \"Contact\": \"unknown\", \"Default\": \"no\", \"Job\": \"blue-collar\"}, \"prediction\": {\"classes\": [\"1\", \"2\"], \"scores\": [0.9873180985450745, 0.012681912630796432]}, \"explanation\": {\"attributions\": [{\"outputName\": \"scores\", \"baselineOutputValue\": 0.9990845322608948, \"instanceOutputValue\": 0.9873180985450745, \"outputIndex\": [0], \"outputDisplayName\": \"1\", \"featureAttributions\": {\"Age\": 0.0001634657382965088, \"Balance\": -0.0031505624453226724, \"Campaign\": 0.0, \"Contact\": 0.0, \"Day\": 0.0009721964597702026, \"Default\": 0.0, \"Duration\": -0.0033260087172190347, \"Education\": -0.002433444062868754, \"Housing\": 0.0, \"Job\": 0.0, \"Loan\": 0.0, \"MaritalStatus\": -0.0039920806884765625, \"Month\": 0.0, \"PDays\": 0.0, \"POutcome\": 0.0, \"Previous\": 0.0}, \"approximationError\": 0.0065249071342391605}]}}\n",
      "\n",
      "{\"instance\": {\"PDays\": \"-1\", \"Balance\": \"1824\", \"Loan\": \"no\", \"Campaign\": \"1\", \"Education\": \"secondary\", \"Housing\": \"yes\", \"Contact\": \"unknown\", \"Job\": \"technician\", \"Age\": \"43\", \"Month\": \"may\", \"Duration\": \"296\", \"POutcome\": \"unknown\", \"Default\": \"no\", \"Previous\": \"0\", \"Day\": \"8\", \"MaritalStatus\": \"married\"}, \"prediction\": {\"scores\": [0.9955064058303833, 0.004493567161262035], \"classes\": [\"1\", \"2\"]}, \"explanation\": {\"attributions\": [{\"outputName\": \"scores\", \"baselineOutputValue\": 0.9990845322608948, \"instanceOutputValue\": 0.9955064058303833, \"outputIndex\": [0], \"outputDisplayName\": \"1\", \"featureAttributions\": {\"Age\": 0.00013884405295054117, \"Balance\": -0.00042205055554707843, \"Campaign\": 0.0, \"Contact\": 0.0, \"Day\": -0.0003768603006998698, \"Default\": 0.0, \"Duration\": -0.0023001283407211304, \"Education\": 0.0, \"Housing\": 0.0, \"Job\": -0.0006179312864939371, \"Loan\": 0.0, \"MaritalStatus\": 0.0, \"Month\": 0.0, \"PDays\": 0.0, \"POutcome\": 0.0, \"Previous\": 0.0}, \"approximationError\": 0.003484476431381341}]}}\n",
      "\n",
      "{\"instance\": {\"Duration\": \"206\", \"Housing\": \"yes\", \"Job\": \"blue-collar\", \"Campaign\": \"2\", \"Day\": \"8\", \"Default\": \"no\", \"Contact\": \"unknown\", \"Balance\": \"255\", \"PDays\": \"-1\", \"Education\": \"primary\", \"Month\": \"may\", \"Previous\": \"0\", \"Age\": \"53\", \"MaritalStatus\": \"divorced\", \"POutcome\": \"unknown\", \"Loan\": \"no\"}, \"prediction\": {\"scores\": [0.9972264170646667, 0.0027736457996070385], \"classes\": [\"1\", \"2\"]}, \"explanation\": {\"attributions\": [{\"outputName\": \"scores\", \"baselineOutputValue\": 0.9990845322608948, \"instanceOutputValue\": 0.9972264170646667, \"outputIndex\": [0], \"outputDisplayName\": \"1\", \"featureAttributions\": {\"Age\": 0.00023854772249857584, \"Balance\": -2.3444493611653645e-05, \"Campaign\": 0.00011634329954783122, \"Contact\": 0.0, \"Day\": 0.0001383274793624878, \"Default\": 0.0, \"Duration\": -5.6634346644083657e-05, \"Education\": -0.0009798308213551838, \"Housing\": 0.0, \"Job\": 0.0, \"Loan\": 0.0, \"MaritalStatus\": -0.001291424036026001, \"Month\": 0.0, \"PDays\": 0.0, \"POutcome\": 0.0, \"Previous\": 0.0}, \"approximationError\": 0.0050116426214531495}]}}\n",
      "\n",
      "{\"instance\": {\"PDays\": \"-1\", \"POutcome\": \"unknown\", \"Default\": \"no\", \"Month\": \"may\", \"Balance\": \"398\", \"Campaign\": \"1\", \"Day\": \"8\", \"Age\": \"35\", \"Loan\": \"no\", \"Housing\": \"yes\", \"MaritalStatus\": \"single\", \"Education\": \"primary\", \"Duration\": \"34\", \"Contact\": \"unknown\", \"Job\": \"blue-collar\", \"Previous\": \"0\"}, \"prediction\": {\"classes\": [\"1\", \"2\"], \"scores\": [0.9983551502227783, 0.001644801814109087]}, \"explanation\": {\"attributions\": [{\"outputName\": \"scores\", \"baselineOutputValue\": 0.9990845322608948, \"instanceOutputValue\": 0.9983551502227783, \"outputIndex\": [0], \"outputDisplayName\": \"1\", \"featureAttributions\": {\"Age\": 9.5367431640625e-06, \"Balance\": -4.862745602925619e-05, \"Campaign\": 0.0, \"Contact\": 0.0, \"Day\": -1.3296802838643392e-05, \"Default\": 0.0, \"Duration\": 0.0008507420619328817, \"Education\": -0.0003428409496943156, \"Housing\": 0.0, \"Job\": 0.0, \"Loan\": 0.0, \"MaritalStatus\": -0.001184895634651184, \"Month\": 0.0, \"PDays\": 0.0, \"POutcome\": 0.0, \"Previous\": 0.0}, \"approximationError\": 0.00352201437905425}]}}\n",
      "\n",
      "{\"instance\": {\"Housing\": \"yes\", \"MaritalStatus\": \"married\", \"Age\": \"31\", \"PDays\": \"-1\", \"Previous\": \"0\", \"Duration\": \"257\", \"Contact\": \"unknown\", \"Campaign\": \"3\", \"POutcome\": \"unknown\", \"Job\": \"blue-collar\", \"Education\": \"secondary\", \"Day\": \"8\", \"Loan\": \"no\", \"Default\": \"no\", \"Balance\": \"186\", \"Month\": \"may\"}, \"prediction\": {\"scores\": [0.9992235898971558, 0.0007763790199533105], \"classes\": [\"1\", \"2\"]}, \"explanation\": {\"attributions\": [{\"outputName\": \"scores\", \"baselineOutputValue\": 0.9990845322608948, \"instanceOutputValue\": 0.9992235898971558, \"outputIndex\": [0], \"outputDisplayName\": \"1\", \"featureAttributions\": {\"Age\": -0.00014263888200124106, \"Balance\": -7.947285970052084e-07, \"Campaign\": 0.000822568933169047, \"Contact\": 0.0, \"Day\": -0.00011453032493591309, \"Default\": 0.0, \"Duration\": -0.00042554736137390137, \"Education\": 0.0, \"Housing\": 0.0, \"Job\": 0.0, \"Loan\": 0.0, \"MaritalStatus\": 0.0, \"Month\": 0.0, \"PDays\": 0.0, \"POutcome\": 0.0, \"Previous\": 0.0}, \"approximationError\": 0.0018854643209781647}]}}\n",
      "\n",
      "{\"instance\": {\"Housing\": \"yes\", \"POutcome\": \"unknown\", \"Loan\": \"no\", \"Education\": \"unknown\", \"Duration\": \"297\", \"Campaign\": \"1\", \"Previous\": \"0\", \"MaritalStatus\": \"single\", \"Job\": \"blue-collar\", \"Day\": \"8\", \"Age\": \"38\", \"Default\": \"no\", \"Contact\": \"unknown\", \"PDays\": \"-1\", \"Balance\": \"495\", \"Month\": \"may\"}, \"prediction\": {\"classes\": [\"1\", \"2\"], \"scores\": [0.9933554530143738, 0.006644510664045811]}, \"explanation\": {\"attributions\": [{\"outputName\": \"scores\", \"baselineOutputValue\": 0.9990845322608948, \"instanceOutputValue\": 0.9933554530143738, \"outputIndex\": [0], \"outputDisplayName\": \"1\", \"featureAttributions\": {\"Age\": 2.294282118479411e-05, \"Balance\": -0.00017324090003967285, \"Campaign\": 0.0, \"Contact\": 0.0, \"Day\": -0.0005187888940175375, \"Default\": 0.0, \"Duration\": -0.0030463685592015586, \"Education\": 0.00012178222338358562, \"Housing\": 0.0, \"Job\": 0.0, \"Loan\": 0.0, \"MaritalStatus\": -0.002135405937830607, \"Month\": 0.0, \"PDays\": 0.0, \"POutcome\": 0.0, \"Previous\": 0.0}, \"approximationError\": 0.00430488190755783}]}}\n",
      "\n",
      "{\"instance\": {\"Contact\": \"unknown\", \"Education\": \"primary\", \"Housing\": \"yes\", \"Month\": \"may\", \"Balance\": \"1164\", \"Day\": \"8\", \"POutcome\": \"unknown\", \"Duration\": \"166\", \"Previous\": \"0\", \"PDays\": \"-1\", \"Default\": \"no\", \"Campaign\": \"2\", \"Job\": \"blue-collar\", \"Loan\": \"no\", \"Age\": \"50\", \"MaritalStatus\": \"married\"}, \"prediction\": {\"classes\": [\"1\", \"2\"], \"scores\": [0.9991434216499329, 0.0008565331809222698]}, \"explanation\": {\"attributions\": [{\"outputName\": \"scores\", \"baselineOutputValue\": 0.9990845322608948, \"instanceOutputValue\": 0.9991434216499329, \"outputIndex\": [0], \"outputDisplayName\": \"1\", \"featureAttributions\": {\"Age\": 0.0002457251151402791, \"Balance\": -9.48806603749593e-05, \"Campaign\": 0.0001389831304550171, \"Contact\": 0.0, \"Day\": -3.0443072319030762e-05, \"Default\": 0.0, \"Duration\": 0.0001293619473775228, \"Education\": -0.000329857071240743, \"Housing\": 0.0, \"Job\": 0.0, \"Loan\": 0.0, \"MaritalStatus\": 0.0, \"Month\": 0.0, \"PDays\": 0.0, \"POutcome\": 0.0, \"Previous\": 0.0}, \"approximationError\": 0.0018175730643555433}]}}\n",
      "\n",
      "{\"instance\": {\"Day\": \"8\", \"Campaign\": \"4\", \"PDays\": \"-1\", \"Balance\": \"289\", \"Duration\": \"23\", \"Education\": \"primary\", \"Month\": \"may\", \"POutcome\": \"unknown\", \"Contact\": \"unknown\", \"Previous\": \"0\", \"Loan\": \"no\", \"Job\": \"blue-collar\", \"Age\": \"32\", \"MaritalStatus\": \"married\", \"Default\": \"no\", \"Housing\": \"yes\"}, \"prediction\": {\"classes\": [\"1\", \"2\"], \"scores\": [0.9998001456260681, 0.00019980869546998292]}, \"explanation\": {\"attributions\": [{\"outputName\": \"scores\", \"baselineOutputValue\": 0.9990845322608948, \"instanceOutputValue\": 0.9998001456260681, \"outputIndex\": [0], \"outputDisplayName\": \"1\", \"featureAttributions\": {\"Age\": -4.5900543530782066e-05, \"Balance\": -1.0321537653605143e-05, \"Campaign\": 0.0006689478953679403, \"Contact\": 0.0, \"Day\": -1.1553366978963217e-05, \"Default\": 0.0, \"Duration\": 0.0002708832422892253, \"Education\": -0.00015644232432047525, \"Housing\": 0.0, \"Job\": 0.0, \"Loan\": 0.0, \"MaritalStatus\": 0.0, \"Month\": 0.0, \"PDays\": 0.0, \"POutcome\": 0.0, \"Previous\": 0.0}, \"approximationError\": 0.0027144069243779205}]}}\n",
      "\n",
      "{\"instance\": {\"Age\": \"57\", \"Month\": \"may\", \"Day\": \"8\", \"Job\": \"blue-collar\", \"Campaign\": \"1\", \"Default\": \"no\", \"POutcome\": \"unknown\", \"PDays\": \"-1\", \"Balance\": \"-176\", \"MaritalStatus\": \"divorced\", \"Duration\": \"275\", \"Housing\": \"yes\", \"Loan\": \"no\", \"Education\": \"primary\", \"Contact\": \"unknown\", \"Previous\": \"0\"}, \"prediction\": {\"scores\": [0.9944248199462891, 0.005575197283178568], \"classes\": [\"1\", \"2\"]}, \"explanation\": {\"attributions\": [{\"outputName\": \"scores\", \"baselineOutputValue\": 0.9990845322608948, \"instanceOutputValue\": 0.9944248199462891, \"outputIndex\": [0], \"outputDisplayName\": \"1\", \"featureAttributions\": {\"Age\": 0.00044679145018259686, \"Balance\": 1.1046727498372396e-05, \"Campaign\": 0.0, \"Contact\": 0.0, \"Day\": 2.0121534665425617e-05, \"Default\": 0.0, \"Duration\": -0.001958876848220825, \"Education\": -0.001118585467338562, \"Housing\": 0.0, \"Job\": 0.0, \"Loan\": 0.0, \"MaritalStatus\": -0.0020602097113927207, \"Month\": 0.0, \"PDays\": 0.0, \"POutcome\": 0.0, \"Previous\": 0.0}, \"approximationError\": 0.0044929189788438795}]}}\n",
      "\n",
      "{\"instance\": {\"Contact\": \"unknown\", \"Default\": \"no\", \"MaritalStatus\": \"married\", \"Previous\": \"0\", \"Housing\": \"yes\", \"Month\": \"may\", \"Day\": \"8\", \"POutcome\": \"unknown\", \"Age\": \"31\", \"Duration\": \"226\", \"Education\": \"primary\", \"Balance\": \"68\", \"Campaign\": \"1\", \"PDays\": \"-1\", \"Job\": \"blue-collar\", \"Loan\": \"no\"}, \"prediction\": {\"scores\": [0.998738169670105, 0.001261814497411251], \"classes\": [\"1\", \"2\"]}, \"explanation\": {\"attributions\": [{\"outputName\": \"scores\", \"baselineOutputValue\": 0.9990845322608948, \"instanceOutputValue\": 0.998738169670105, \"outputIndex\": [0], \"outputDisplayName\": \"1\", \"featureAttributions\": {\"Age\": -2.0111600557963055e-05, \"Balance\": 4.033247629801432e-05, \"Campaign\": 0.0, \"Contact\": 0.0, \"Day\": -6.891290346781413e-05, \"Default\": 0.0, \"Duration\": -0.00018158058325449625, \"Education\": -0.00011608997980753581, \"Housing\": 0.0, \"Job\": 0.0, \"Loan\": 0.0, \"MaritalStatus\": 0.0, \"Month\": 0.0, \"PDays\": 0.0, \"POutcome\": 0.0, \"Previous\": 0.0}, \"approximationError\": 0.006327673268870974}]}}\n",
      "\n",
      "{\"instance\": {\"Campaign\": \"2\", \"Job\": \"self-employed\", \"Education\": \"secondary\", \"Loan\": \"no\", \"Previous\": \"0\", \"Default\": \"no\", \"Month\": \"may\", \"Age\": \"58\", \"PDays\": \"-1\", \"MaritalStatus\": \"divorced\", \"POutcome\": \"unknown\", \"Housing\": \"yes\", \"Day\": \"8\", \"Duration\": \"154\", \"Balance\": \"613\", \"Contact\": \"unknown\"}, \"prediction\": {\"scores\": [0.9992649555206299, 0.0007350314408540726], \"classes\": [\"1\", \"2\"]}, \"explanation\": {\"attributions\": [{\"outputName\": \"scores\", \"baselineOutputValue\": 0.9990845322608948, \"instanceOutputValue\": 0.9992649555206299, \"outputIndex\": [0], \"outputDisplayName\": \"1\", \"featureAttributions\": {\"Age\": 0.00043391187985738117, \"Balance\": -4.118184248606364e-05, \"Campaign\": 0.00015239417552947998, \"Contact\": 0.0, \"Day\": -1.364449659983317e-05, \"Default\": 0.0, \"Duration\": 0.00028838713963826496, \"Education\": 0.0, \"Housing\": 0.0, \"Job\": -7.195274035135905e-05, \"Loan\": 0.0, \"MaritalStatus\": -0.0005674908558527628, \"Month\": 0.0, \"PDays\": 0.0, \"POutcome\": 0.0, \"Previous\": 0.0}, \"approximationError\": 0.002053192603955838}]}}\n",
      "\n",
      "{\"instance\": {\"Day\": \"8\", \"Default\": \"no\", \"Campaign\": \"2\", \"POutcome\": \"unknown\", \"PDays\": \"-1\", \"Balance\": \"48\", \"Age\": \"37\", \"Job\": \"blue-collar\", \"Loan\": \"no\", \"Duration\": \"133\", \"Contact\": \"unknown\", \"MaritalStatus\": \"divorced\", \"Education\": \"secondary\", \"Month\": \"may\", \"Previous\": \"0\", \"Housing\": \"yes\"}, \"prediction\": {\"scores\": [0.9991647005081177, 0.0008353642770089209], \"classes\": [\"1\", \"2\"]}, \"explanation\": {\"attributions\": [{\"outputName\": \"scores\", \"baselineOutputValue\": 0.9990845322608948, \"instanceOutputValue\": 0.9991647005081177, \"outputIndex\": [0], \"outputDisplayName\": \"1\", \"featureAttributions\": {\"Age\": -2.6484330495198567e-05, \"Balance\": 3.578265508015951e-05, \"Campaign\": 0.0002300788958867391, \"Contact\": 0.0, \"Day\": -6.666282812754314e-05, \"Default\": 0.0, \"Duration\": 0.00038278599580128986, \"Education\": 0.0, \"Housing\": 0.0, \"Job\": 0.0, \"Loan\": 0.0, \"MaritalStatus\": -0.0004753321409225464, \"Month\": 0.0, \"PDays\": 0.0, \"POutcome\": 0.0, \"Previous\": 0.0}, \"approximationError\": 0.003032727892212873}]}}\n",
      "\n",
      "{\"instance\": {\"Balance\": \"1164\", \"Campaign\": \"1\", \"Default\": \"no\", \"Contact\": \"unknown\", \"MaritalStatus\": \"single\", \"Housing\": \"yes\", \"Month\": \"may\", \"POutcome\": \"unknown\", \"Previous\": \"0\", \"Age\": \"49\", \"Job\": \"blue-collar\", \"Loan\": \"no\", \"PDays\": \"-1\", \"Duration\": \"72\", \"Day\": \"8\", \"Education\": \"primary\"}, \"prediction\": {\"scores\": [0.9980652332305908, 0.0019348043715581298], \"classes\": [\"1\", \"2\"]}, \"explanation\": {\"attributions\": [{\"outputName\": \"scores\", \"baselineOutputValue\": 0.9990845322608948, \"instanceOutputValue\": 0.998065173625946, \"outputIndex\": [0], \"outputDisplayName\": \"1\", \"featureAttributions\": {\"Age\": 0.00024116039276123047, \"Balance\": -0.00019683937231699625, \"Campaign\": 0.0, \"Contact\": 0.0, \"Day\": 5.5114428202311196e-05, \"Default\": 0.0, \"Duration\": 0.0008312910795211792, \"Education\": -0.0006312429904937744, \"Housing\": 0.0, \"Job\": 0.0, \"Loan\": 0.0, \"MaritalStatus\": -0.0013188421726226807, \"Month\": 0.0, \"PDays\": 0.0, \"POutcome\": 0.0, \"Previous\": 0.0}, \"approximationError\": 0.0037492142832243284}]}}\n",
      "\n",
      "{\"instance\": {\"Housing\": \"no\", \"Campaign\": \"1\", \"POutcome\": \"unknown\", \"Month\": \"may\", \"Age\": \"34\", \"Contact\": \"unknown\", \"Previous\": \"0\", \"PDays\": \"-1\", \"Balance\": \"2211\", \"Duration\": \"149\", \"MaritalStatus\": \"married\", \"Loan\": \"no\", \"Day\": \"8\", \"Job\": \"services\", \"Education\": \"secondary\", \"Default\": \"no\"}, \"prediction\": {\"classes\": [\"1\", \"2\"], \"scores\": [0.9975850582122803, 0.00241494900546968]}, \"explanation\": {\"attributions\": [{\"outputName\": \"scores\", \"baselineOutputValue\": 0.9990845322608948, \"instanceOutputValue\": 0.9975850582122803, \"outputIndex\": [0], \"outputDisplayName\": \"1\", \"featureAttributions\": {\"Age\": -0.00012550751368204752, \"Balance\": -0.00029620031515757245, \"Campaign\": 0.0, \"Contact\": 0.0, \"Day\": 4.735589027404785e-05, \"Default\": 0.0, \"Duration\": 0.0002723286549250285, \"Education\": 0.0, \"Housing\": -0.0013220508893330891, \"Job\": -7.539987564086914e-05, \"Loan\": 0.0, \"MaritalStatus\": 0.0, \"Month\": 0.0, \"PDays\": 0.0, \"POutcome\": 0.0, \"Previous\": 0.0}, \"approximationError\": 0.0017391562643330814}]}}\n",
      "\n",
      "{\"instance\": {\"Month\": \"may\", \"Duration\": \"298\", \"Age\": \"45\", \"Contact\": \"unknown\", \"MaritalStatus\": \"divorced\", \"Default\": \"no\", \"Balance\": \"984\", \"Housing\": \"yes\", \"Loan\": \"no\", \"POutcome\": \"unknown\", \"Education\": \"secondary\", \"Job\": \"admin.\", \"Previous\": \"0\", \"PDays\": \"-1\", \"Day\": \"8\", \"Campaign\": \"5\"}, \"prediction\": {\"classes\": [\"1\", \"2\"], \"scores\": [0.9972152709960938, 0.0027847145684063435]}, \"explanation\": {\"attributions\": [{\"outputName\": \"scores\", \"baselineOutputValue\": 0.9990845322608948, \"instanceOutputValue\": 0.9972152709960938, \"outputIndex\": [0], \"outputDisplayName\": \"1\", \"featureAttributions\": {\"Age\": 0.00020336111386617026, \"Balance\": -0.000245774785677592, \"Campaign\": 0.00442923108736674, \"Contact\": 0.0, \"Day\": -0.0005032370487848917, \"Default\": 0.0, \"Duration\": -0.003086542089780172, \"Education\": 0.0, \"Housing\": 0.0, \"Job\": -0.000966330369313558, \"Loan\": 0.0, \"MaritalStatus\": -0.0016999691724777222, \"Month\": 0.0, \"PDays\": 0.0, \"POutcome\": 0.0, \"Previous\": 0.0}, \"approximationError\": 0.005917712886788718}]}}\n",
      "\n",
      "{\"instance\": {\"Duration\": \"190\", \"PDays\": \"-1\", \"Balance\": \"2\", \"Campaign\": \"1\", \"Loan\": \"no\", \"Default\": \"no\", \"Job\": \"services\", \"Day\": \"8\", \"POutcome\": \"unknown\", \"MaritalStatus\": \"single\", \"Contact\": \"unknown\", \"Month\": \"may\", \"Housing\": \"no\", \"Education\": \"secondary\", \"Previous\": \"0\", \"Age\": \"29\"}, \"prediction\": {\"scores\": [0.9961651563644409, 0.003834748873487115], \"classes\": [\"1\", \"2\"]}, \"explanation\": {\"attributions\": [{\"outputName\": \"scores\", \"baselineOutputValue\": 0.9990845322608948, \"instanceOutputValue\": 0.9961651563644409, \"outputIndex\": [0], \"outputDisplayName\": \"1\", \"featureAttributions\": {\"Age\": -0.00024054944515228271, \"Balance\": 0.0001481125752131144, \"Campaign\": 0.0, \"Contact\": 0.0, \"Day\": 2.7279059092203777e-05, \"Default\": 0.0, \"Duration\": 0.00010191897551218669, \"Education\": 0.0, \"Housing\": -0.0016528020302454631, \"Job\": -5.124509334564209e-05, \"Loan\": 0.0, \"MaritalStatus\": -0.0012520899375279744, \"Month\": 0.0, \"PDays\": 0.0, \"POutcome\": 0.0, \"Previous\": 0.0}, \"approximationError\": 0.0017242301593459596}]}}\n",
      "\n",
      "{\"instance\": {\"MaritalStatus\": \"married\", \"Day\": \"8\", \"Contact\": \"unknown\", \"Previous\": \"0\", \"Age\": \"51\", \"Campaign\": \"5\", \"Housing\": \"no\", \"Loan\": \"no\", \"Job\": \"management\", \"Balance\": \"751\", \"Education\": \"tertiary\", \"Month\": \"may\", \"Duration\": \"261\", \"PDays\": \"-1\", \"POutcome\": \"unknown\", \"Default\": \"no\"}, \"prediction\": {\"scores\": [0.9994291663169861, 0.0005708264652639627], \"classes\": [\"1\", \"2\"]}, \"explanation\": {\"attributions\": [{\"outputName\": \"scores\", \"baselineOutputValue\": 0.9990845322608948, \"instanceOutputValue\": 0.9994291663169861, \"outputIndex\": [0], \"outputDisplayName\": \"1\", \"featureAttributions\": {\"Age\": 0.00039736926555633545, \"Balance\": -7.778406143188477e-05, \"Campaign\": 0.0011975616216659546, \"Contact\": 0.0, \"Day\": -0.00014288723468780518, \"Default\": 0.0, \"Duration\": -0.0005493462085723877, \"Education\": 9.507934252421062e-05, \"Housing\": -0.0004048695166905721, \"Job\": -0.00017048915227254233, \"Loan\": 0.0, \"MaritalStatus\": 0.0, \"Month\": 0.0, \"PDays\": 0.0, \"POutcome\": 0.0, \"Previous\": 0.0}, \"approximationError\": 0.004558698489360156}]}}\n",
      "\n",
      "{\"instance\": {\"Education\": \"secondary\", \"Duration\": \"81\", \"Default\": \"no\", \"PDays\": \"-1\", \"Campaign\": \"2\", \"Previous\": \"0\", \"Contact\": \"unknown\", \"Housing\": \"yes\", \"MaritalStatus\": \"married\", \"Job\": \"blue-collar\", \"Day\": \"8\", \"Month\": \"may\", \"Age\": \"33\", \"Balance\": \"527\", \"Loan\": \"yes\", \"POutcome\": \"unknown\"}, \"prediction\": {\"scores\": [0.9989632368087769, 0.001036744681186974], \"classes\": [\"1\", \"2\"]}, \"explanation\": {\"attributions\": [{\"outputName\": \"scores\", \"baselineOutputValue\": 0.9990845322608948, \"instanceOutputValue\": 0.9989632368087769, \"outputIndex\": [0], \"outputDisplayName\": \"1\", \"featureAttributions\": {\"Age\": -0.0001141279935836792, \"Balance\": -3.8718183835347496e-05, \"Campaign\": 0.00027754902839660645, \"Contact\": 0.0, \"Day\": -3.625452518463135e-05, \"Default\": 0.0, \"Duration\": 0.00047673781712849933, \"Education\": 0.0, \"Housing\": 0.0, \"Job\": 0.0, \"Loan\": -0.0006864815950393677, \"MaritalStatus\": 0.0, \"Month\": 0.0, \"PDays\": 0.0, \"POutcome\": 0.0, \"Previous\": 0.0}, \"approximationError\": 0.0030991076047288805}]}}\n",
      "\n",
      "{\"instance\": {\"Previous\": \"0\", \"Housing\": \"yes\", \"Loan\": \"no\", \"Day\": \"8\", \"POutcome\": \"unknown\", \"Campaign\": \"2\", \"Balance\": \"82\", \"PDays\": \"-1\", \"Month\": \"may\", \"Job\": \"blue-collar\", \"Age\": \"55\", \"MaritalStatus\": \"married\", \"Default\": \"no\", \"Duration\": \"292\", \"Contact\": \"unknown\", \"Education\": \"primary\"}, \"prediction\": {\"scores\": [0.9981433153152466, 0.0018566757207736373], \"classes\": [\"1\", \"2\"]}, \"explanation\": {\"attributions\": [{\"outputName\": \"scores\", \"baselineOutputValue\": 0.9990845322608948, \"instanceOutputValue\": 0.9981433153152466, \"outputIndex\": [0], \"outputDisplayName\": \"1\", \"featureAttributions\": {\"Age\": 0.0004887829224268595, \"Balance\": 6.145735581715901e-05, \"Campaign\": 0.0002739826838175456, \"Contact\": 0.0, \"Day\": -0.0001704096794128418, \"Default\": 0.0, \"Duration\": -0.001169284184773763, \"Education\": -0.00042574604352315265, \"Housing\": 0.0, \"Job\": 0.0, \"Loan\": 0.0, \"MaritalStatus\": 0.0, \"Month\": 0.0, \"PDays\": 0.0, \"POutcome\": 0.0, \"Previous\": 0.0}, \"approximationError\": 0.002336778585664215}]}}\n",
      "\n",
      "{\"instance\": {\"MaritalStatus\": \"single\", \"Default\": \"no\", \"Job\": \"student\", \"Duration\": \"229\", \"Balance\": \"-41\", \"POutcome\": \"unknown\", \"Campaign\": \"2\", \"Day\": \"8\", \"Education\": \"unknown\", \"Loan\": \"no\", \"Month\": \"may\", \"Previous\": \"0\", \"Contact\": \"unknown\", \"Age\": \"26\", \"PDays\": \"-1\", \"Housing\": \"yes\"}, \"prediction\": {\"classes\": [\"1\", \"2\"], \"scores\": [0.997233510017395, 0.002766444580629468]}, \"explanation\": {\"attributions\": [{\"outputName\": \"scores\", \"baselineOutputValue\": 0.9990845322608948, \"instanceOutputValue\": 0.997233510017395, \"outputIndex\": [0], \"outputDisplayName\": \"1\", \"featureAttributions\": {\"Age\": -7.4803829193115234e-06, \"Balance\": -3.5862127939860025e-06, \"Campaign\": 0.00038287540276845294, \"Contact\": 0.0, \"Day\": -0.0002387662728627523, \"Default\": 0.0, \"Duration\": -0.00040416419506073, \"Education\": -0.00011343757311503093, \"Housing\": 0.0, \"Job\": -0.00022080043951670328, \"Loan\": 0.0, \"MaritalStatus\": -0.0012456625699996948, \"Month\": 0.0, \"PDays\": 0.0, \"POutcome\": 0.0, \"Previous\": 0.0}, \"approximationError\": 0.003664331855903163}]}}\n",
      "\n",
      "{\"instance\": {\"Education\": \"tertiary\", \"Default\": \"no\", \"PDays\": \"-1\", \"Housing\": \"yes\", \"Month\": \"may\", \"Campaign\": \"2\", \"MaritalStatus\": \"single\", \"Previous\": \"0\", \"Job\": \"management\", \"Age\": \"39\", \"Day\": \"8\", \"Contact\": \"unknown\", \"Duration\": \"66\", \"POutcome\": \"unknown\", \"Loan\": \"no\", \"Balance\": \"375\"}, \"prediction\": {\"scores\": [0.9988592267036438, 0.0011407703859731555], \"classes\": [\"1\", \"2\"]}, \"explanation\": {\"attributions\": [{\"outputName\": \"scores\", \"baselineOutputValue\": 0.9990845322608948, \"instanceOutputValue\": 0.9988592267036438, \"outputIndex\": [0], \"outputDisplayName\": \"1\", \"featureAttributions\": {\"Age\": -1.4901161193847656e-08, \"Balance\": -3.2107035319010414e-05, \"Campaign\": 0.00022599597771962485, \"Contact\": 0.0, \"Day\": -0.00011448065439860026, \"Default\": 0.0, \"Duration\": 0.0008414238691329956, \"Education\": -3.843506177266439e-05, \"Housing\": 0.0, \"Job\": -9.645521640777588e-05, \"Loan\": 0.0, \"MaritalStatus\": -0.0010112325350443523, \"Month\": 0.0, \"PDays\": 0.0, \"POutcome\": 0.0, \"Previous\": 0.0}, \"approximationError\": 0.0037607919530207607}]}}\n",
      "\n",
      "{\"instance\": {\"Age\": \"32\", \"Month\": \"may\", \"Housing\": \"yes\", \"PDays\": \"-1\", \"Duration\": \"202\", \"Balance\": \"459\", \"Contact\": \"unknown\", \"Job\": \"services\", \"Loan\": \"no\", \"Day\": \"8\", \"Default\": \"no\", \"MaritalStatus\": \"single\", \"POutcome\": \"unknown\", \"Education\": \"secondary\", \"Previous\": \"0\", \"Campaign\": \"2\"}, \"prediction\": {\"scores\": [0.9979508519172668, 0.0020491278264671564], \"classes\": [\"1\", \"2\"]}, \"explanation\": {\"attributions\": [{\"outputName\": \"scores\", \"baselineOutputValue\": 0.9990845322608948, \"instanceOutputValue\": 0.9979508519172668, \"outputIndex\": [0], \"outputDisplayName\": \"1\", \"featureAttributions\": {\"Age\": -7.395446300506592e-05, \"Balance\": -5.173683166503906e-05, \"Campaign\": 0.00033237040042877197, \"Contact\": 0.0, \"Day\": -0.00013836721579233804, \"Default\": 0.0, \"Duration\": -1.1478861172993978e-05, \"Education\": 0.0, \"Housing\": 0.0, \"Job\": -0.00010730326175689697, \"Loan\": 0.0, \"MaritalStatus\": -0.0010832101106643677, \"Month\": 0.0, \"PDays\": 0.0, \"POutcome\": 0.0, \"Previous\": 0.0}, \"approximationError\": 0.0016680175493481567}]}}\n",
      "\n",
      "{\"instance\": {\"Day\": \"8\", \"PDays\": \"-1\", \"MaritalStatus\": \"married\", \"Month\": \"may\", \"POutcome\": \"unknown\", \"Previous\": \"0\", \"Job\": \"services\", \"Campaign\": \"3\", \"Duration\": \"209\", \"Contact\": \"unknown\", \"Education\": \"secondary\", \"Loan\": \"no\", \"Age\": \"45\", \"Balance\": \"22\", \"Default\": \"no\", \"Housing\": \"yes\"}, \"prediction\": {\"classes\": [\"1\", \"2\"], \"scores\": [0.9995753169059753, 0.0004246397584211081]}, \"explanation\": {\"attributions\": [{\"outputName\": \"scores\", \"baselineOutputValue\": 0.9990845322608948, \"instanceOutputValue\": 0.9995753169059753, \"outputIndex\": [0], \"outputDisplayName\": \"1\", \"featureAttributions\": {\"Age\": 0.00015269716580708823, \"Balance\": 2.5471051534016926e-05, \"Campaign\": 0.0005238652229309082, \"Contact\": 0.0, \"Day\": -7.245441277821858e-05, \"Default\": 0.0, \"Duration\": -4.112720489501953e-05, \"Education\": 0.0, \"Housing\": 0.0, \"Job\": -9.766717751820882e-05, \"Loan\": 0.0, \"MaritalStatus\": 0.0, \"Month\": 0.0, \"PDays\": 0.0, \"POutcome\": 0.0, \"Previous\": 0.0}, \"approximationError\": 0.0013753609669046318}]}}\n",
      "\n",
      "{\"instance\": {\"Duration\": \"2087\", \"Loan\": \"no\", \"Campaign\": \"2\", \"Job\": \"management\", \"PDays\": \"-1\", \"Day\": \"8\", \"Default\": \"no\", \"Previous\": \"0\", \"Education\": \"tertiary\", \"POutcome\": \"unknown\", \"Housing\": \"yes\", \"Age\": \"43\", \"Contact\": \"unknown\", \"MaritalStatus\": \"divorced\", \"Month\": \"may\", \"Balance\": \"388\"}, \"prediction\": {\"scores\": [0.32669901847839355, 0.6733009219169617], \"classes\": [\"1\", \"2\"]}, \"explanation\": {\"attributions\": [{\"outputName\": \"scores\", \"baselineOutputValue\": 0.0009154862491413951, \"instanceOutputValue\": 0.6733009219169617, \"outputIndex\": [1], \"outputDisplayName\": \"2\", \"featureAttributions\": {\"Age\": 0.0015960395394358784, \"Balance\": 0.007093333222049599, \"Campaign\": -0.0061505965180307, \"Contact\": 0.0, \"Day\": 0.002115893041870246, \"Default\": 0.0, \"Duration\": 0.6574965641242064, \"Education\": -0.002405052243072229, \"Housing\": 0.0, \"Job\": 0.0042377903931386145, \"Loan\": 0.0, \"MaritalStatus\": 0.008401464108222475, \"Month\": 0.0, \"PDays\": 0.0, \"POutcome\": 0.0, \"Previous\": 0.0}, \"approximationError\": 0.0005463694257903989}]}}\n",
      "\n",
      "{\"instance\": {\"Loan\": \"no\", \"Job\": \"admin.\", \"Contact\": \"unknown\", \"PDays\": \"-1\", \"MaritalStatus\": \"divorced\", \"Balance\": \"267\", \"Day\": \"8\", \"Previous\": \"0\", \"Age\": \"48\", \"Default\": \"no\", \"Education\": \"secondary\", \"Housing\": \"no\", \"Campaign\": \"1\", \"POutcome\": \"unknown\", \"Duration\": \"266\", \"Month\": \"may\"}, \"prediction\": {\"classes\": [\"1\", \"2\"], \"scores\": [0.9908930659294128, 0.009106856770813465]}, \"explanation\": {\"attributions\": [{\"outputName\": \"scores\", \"baselineOutputValue\": 0.9990845322608948, \"instanceOutputValue\": 0.9908930659294128, \"outputIndex\": [0], \"outputDisplayName\": \"1\", \"featureAttributions\": {\"Age\": 0.0005078365405400594, \"Balance\": -9.954969088236491e-05, \"Campaign\": 0.0, \"Contact\": 0.0, \"Day\": -0.000426982839902242, \"Default\": 0.0, \"Duration\": -0.0030863682428995767, \"Education\": 0.0, \"Housing\": -0.0019097874561945598, \"Job\": -0.0013519376516342163, \"Loan\": 0.0, \"MaritalStatus\": -0.0018246769905090332, \"Month\": 0.0, \"PDays\": 0.0, \"POutcome\": 0.0, \"Previous\": 0.0}, \"approximationError\": 0.004488560137490904}]}}\n",
      "\n",
      "{\"instance\": {\"Job\": \"entrepreneur\", \"Education\": \"unknown\", \"Duration\": \"10\", \"Day\": \"8\", \"Contact\": \"unknown\", \"Balance\": \"618\", \"Campaign\": \"7\", \"Previous\": \"0\", \"Age\": \"57\", \"Housing\": \"yes\", \"MaritalStatus\": \"married\", \"POutcome\": \"unknown\", \"Month\": \"may\", \"Default\": \"no\", \"PDays\": \"-1\", \"Loan\": \"no\"}, \"prediction\": {\"scores\": [0.999957263469696, 4.277144034858793e-05], \"classes\": [\"1\", \"2\"]}, \"explanation\": {\"attributions\": [{\"outputName\": \"scores\", \"baselineOutputValue\": 0.9990845322608948, \"instanceOutputValue\": 0.999957263469696, \"outputIndex\": [0], \"outputDisplayName\": \"1\", \"featureAttributions\": {\"Age\": 0.00036992629369099933, \"Balance\": -3.141164779663086e-05, \"Campaign\": 0.0005878557761510214, \"Contact\": 0.0, \"Day\": -3.4868717193603516e-05, \"Default\": 0.0, \"Duration\": 0.0001421670118967692, \"Education\": -3.185868263244629e-05, \"Housing\": 0.0, \"Job\": -0.0001290788253148397, \"Loan\": 0.0, \"MaritalStatus\": 0.0, \"Month\": 0.0, \"PDays\": 0.0, \"POutcome\": 0.0, \"Previous\": 0.0}, \"approximationError\": 0.0035507791306151706}]}}\n",
      "\n",
      "{\"instance\": {\"Education\": \"unknown\", \"Previous\": \"0\", \"Contact\": \"unknown\", \"Month\": \"may\", \"Default\": \"no\", \"Loan\": \"yes\", \"Day\": \"8\", \"POutcome\": \"unknown\", \"Duration\": \"63\", \"Balance\": \"185\", \"Housing\": \"yes\", \"MaritalStatus\": \"married\", \"Job\": \"technician\", \"PDays\": \"-1\", \"Age\": \"44\", \"Campaign\": \"1\"}, \"prediction\": {\"scores\": [0.9972571134567261, 0.0027429196052253246], \"classes\": [\"1\", \"2\"]}, \"explanation\": {\"attributions\": [{\"outputName\": \"scores\", \"baselineOutputValue\": 0.9990845322608948, \"instanceOutputValue\": 0.9972571134567261, \"outputIndex\": [0], \"outputDisplayName\": \"1\", \"featureAttributions\": {\"Age\": 0.00012855728467305502, \"Balance\": -3.427267074584961e-07, \"Campaign\": 0.0, \"Contact\": 0.0, \"Day\": -0.00022650758425394693, \"Default\": 0.0, \"Duration\": 0.0007007022698720297, \"Education\": -0.0005301684141159058, \"Housing\": 0.0, \"Job\": -0.0004514257113138835, \"Loan\": -0.001448233922322591, \"MaritalStatus\": 0.0, \"Month\": 0.0, \"PDays\": 0.0, \"POutcome\": 0.0, \"Previous\": 0.0}, \"approximationError\": 0.003984187854747013}]}}\n",
      "\n",
      "{\"instance\": {\"Previous\": \"0\", \"Housing\": \"yes\", \"Education\": \"secondary\", \"Month\": \"may\", \"MaritalStatus\": \"married\", \"Job\": \"blue-collar\", \"Campaign\": \"2\", \"Default\": \"no\", \"POutcome\": \"unknown\", \"Balance\": \"129\", \"Age\": \"34\", \"Contact\": \"unknown\", \"PDays\": \"-1\", \"Loan\": \"no\", \"Duration\": \"71\", \"Day\": \"8\"}, \"prediction\": {\"classes\": [\"1\", \"2\"], \"scores\": [0.9994872808456421, 0.0005126798641867936]}, \"explanation\": {\"attributions\": [{\"outputName\": \"scores\", \"baselineOutputValue\": 0.9990845322608948, \"instanceOutputValue\": 0.9994872808456421, \"outputIndex\": [0], \"outputDisplayName\": \"1\", \"featureAttributions\": {\"Age\": -9.339054425557454e-05, \"Balance\": 6.879369417826335e-06, \"Campaign\": 0.00022798776626586914, \"Contact\": 0.0, \"Day\": 1.9371509552001953e-07, \"Default\": 0.0, \"Duration\": 0.0002610782782236735, \"Education\": 0.0, \"Housing\": 0.0, \"Job\": 0.0, \"Loan\": 0.0, \"MaritalStatus\": 0.0, \"Month\": 0.0, \"PDays\": 0.0, \"POutcome\": 0.0, \"Previous\": 0.0}, \"approximationError\": 0.0016180993103955404}]}}\n",
      "\n",
      "{\"instance\": {\"Age\": \"39\", \"Education\": \"secondary\", \"Duration\": \"184\", \"Previous\": \"0\", \"PDays\": \"-1\", \"POutcome\": \"unknown\", \"Housing\": \"no\", \"Loan\": \"no\", \"Campaign\": \"1\", \"Day\": \"8\", \"Default\": \"no\", \"Job\": \"unemployed\", \"Balance\": \"6322\", \"Month\": \"may\", \"Contact\": \"unknown\", \"MaritalStatus\": \"divorced\"}, \"prediction\": {\"scores\": [0.9966864585876465, 0.0033135334961116314], \"classes\": [\"1\", \"2\"]}, \"explanation\": {\"attributions\": [{\"outputName\": \"scores\", \"baselineOutputValue\": 0.9990845322608948, \"instanceOutputValue\": 0.9966864585876465, \"outputIndex\": [0], \"outputDisplayName\": \"1\", \"featureAttributions\": {\"Age\": -6.243586540222168e-06, \"Balance\": -0.0007052222887674967, \"Campaign\": 0.0, \"Contact\": 0.0, \"Day\": -1.971423625946045e-05, \"Default\": 0.0, \"Duration\": 0.000245019793510437, \"Education\": 0.0, \"Housing\": -0.0008667757113774618, \"Job\": -0.0002540747324625651, \"Loan\": 0.0, \"MaritalStatus\": -0.0007910629113515218, \"Month\": 0.0, \"PDays\": 0.0, \"POutcome\": 0.0, \"Previous\": 0.0}, \"approximationError\": 0.002819064092251654}]}}\n",
      "\n",
      "{\"instance\": {\"Campaign\": \"2\", \"Education\": \"tertiary\", \"Default\": \"no\", \"Duration\": \"66\", \"Balance\": \"1786\", \"Age\": \"53\", \"Housing\": \"yes\", \"Loan\": \"no\", \"Previous\": \"0\", \"Job\": \"management\", \"Month\": \"may\", \"POutcome\": \"unknown\", \"MaritalStatus\": \"married\", \"Contact\": \"unknown\", \"PDays\": \"-1\", \"Day\": \"8\"}, \"prediction\": {\"scores\": [0.9996561408042908, 0.0003438279964029789], \"classes\": [\"1\", \"2\"]}, \"explanation\": {\"attributions\": [{\"outputName\": \"scores\", \"baselineOutputValue\": 0.9990845322608948, \"instanceOutputValue\": 0.9996561408042908, \"outputIndex\": [0], \"outputDisplayName\": \"1\", \"featureAttributions\": {\"Age\": 0.00028866032759348553, \"Balance\": -7.947285970052083e-05, \"Campaign\": 0.0001236647367477417, \"Contact\": 0.0, \"Day\": -5.768239498138428e-05, \"Default\": 0.0, \"Duration\": 0.0003349035978317261, \"Education\": 1.4871358871459961e-05, \"Housing\": 0.0, \"Job\": -5.3336222966512047e-05, \"Loan\": 0.0, \"MaritalStatus\": 0.0, \"Month\": 0.0, \"PDays\": 0.0, \"POutcome\": 0.0, \"Previous\": 0.0}, \"approximationError\": 0.003250254788189938}]}}\n",
      "\n",
      "{\"instance\": {\"Loan\": \"no\", \"Housing\": \"no\", \"MaritalStatus\": \"married\", \"Day\": \"8\", \"POutcome\": \"unknown\", \"Age\": \"30\", \"Duration\": \"181\", \"Default\": \"no\", \"Balance\": \"2850\", \"Contact\": \"unknown\", \"Education\": \"secondary\", \"Month\": \"may\", \"PDays\": \"-1\", \"Previous\": \"0\", \"Campaign\": \"2\", \"Job\": \"blue-collar\"}, \"prediction\": {\"classes\": [\"1\", \"2\"], \"scores\": [0.9977777004241943, 0.0022222434636205435]}, \"explanation\": {\"attributions\": [{\"outputName\": \"scores\", \"baselineOutputValue\": 0.9990845322608948, \"instanceOutputValue\": 0.9977777004241943, \"outputIndex\": [0], \"outputDisplayName\": \"1\", \"featureAttributions\": {\"Age\": -0.0002545018990834554, \"Balance\": -0.00037336846192677814, \"Campaign\": 0.00041855374972025555, \"Contact\": 0.0, \"Day\": 7.733702659606934e-05, \"Default\": 0.0, \"Duration\": 8.934239546457927e-05, \"Education\": 0.0, \"Housing\": -0.00126419464747111, \"Job\": 0.0, \"Loan\": 0.0, \"MaritalStatus\": 0.0, \"Month\": 0.0, \"PDays\": 0.0, \"POutcome\": 0.0, \"Previous\": 0.0}, \"approximationError\": 0.0021160361065110274}]}}\n",
      "\n",
      "{\"instance\": {\"PDays\": \"-1\", \"Campaign\": \"2\", \"Loan\": \"no\", \"Contact\": \"unknown\", \"Education\": \"tertiary\", \"Age\": \"40\", \"Balance\": \"-275\", \"MaritalStatus\": \"single\", \"Duration\": \"219\", \"Day\": \"8\", \"Previous\": \"0\", \"Job\": \"management\", \"Default\": \"no\", \"Month\": \"may\", \"Housing\": \"yes\", \"POutcome\": \"unknown\"}, \"prediction\": {\"classes\": [\"1\", \"2\"], \"scores\": [0.9970020055770874, 0.002997982781380415]}, \"explanation\": {\"attributions\": [{\"outputName\": \"scores\", \"baselineOutputValue\": 0.9990845322608948, \"instanceOutputValue\": 0.9970020055770874, \"outputIndex\": [0], \"outputDisplayName\": \"1\", \"featureAttributions\": {\"Age\": 0.0, \"Balance\": -7.177392641703288e-06, \"Campaign\": 0.00033072133858998615, \"Contact\": 0.0, \"Day\": -0.00024262070655822754, \"Default\": 0.0, \"Duration\": -0.0003384798765182495, \"Education\": -0.00012965500354766846, \"Housing\": 0.0, \"Job\": -0.00023798644542694092, \"Loan\": 0.0, \"MaritalStatus\": -0.0014573285977045696, \"Month\": 0.0, \"PDays\": 0.0, \"POutcome\": 0.0, \"Previous\": 0.0}, \"approximationError\": 0.0029125985198973883}]}}\n",
      "\n",
      "{\"instance\": {\"Balance\": \"1378\", \"POutcome\": \"unknown\", \"Age\": \"44\", \"Housing\": \"yes\", \"PDays\": \"-1\", \"Campaign\": \"2\", \"Duration\": \"257\", \"Contact\": \"unknown\", \"Previous\": \"0\", \"Loan\": \"no\", \"Day\": \"8\", \"Education\": \"secondary\", \"Job\": \"services\", \"Month\": \"may\", \"MaritalStatus\": \"single\", \"Default\": \"no\"}, \"prediction\": {\"scores\": [0.9957156181335449, 0.004284379072487354], \"classes\": [\"1\", \"2\"]}, \"explanation\": {\"attributions\": [{\"outputName\": \"scores\", \"baselineOutputValue\": 0.9990845322608948, \"instanceOutputValue\": 0.9957156181335449, \"outputIndex\": [0], \"outputDisplayName\": \"1\", \"featureAttributions\": {\"Age\": 0.00015766918659210205, \"Balance\": -0.00027621785799662274, \"Campaign\": 0.00043280919392903644, \"Contact\": 0.0, \"Day\": -0.0003344317277272542, \"Default\": 0.0, \"Duration\": -0.0014599015315373738, \"Education\": 0.0, \"Housing\": 0.0, \"Job\": -0.0003067106008529663, \"Loan\": 0.0, \"MaritalStatus\": -0.001582130789756775, \"Month\": 0.0, \"PDays\": 0.0, \"POutcome\": 0.0, \"Previous\": 0.0}, \"approximationError\": 0.0034016841541242735}]}}\n",
      "\n",
      "{\"instance\": {\"Housing\": \"yes\", \"MaritalStatus\": \"married\", \"Default\": \"no\", \"Month\": \"may\", \"Balance\": \"753\", \"PDays\": \"-1\", \"Job\": \"blue-collar\", \"Previous\": \"0\", \"POutcome\": \"unknown\", \"Education\": \"primary\", \"Campaign\": \"2\", \"Day\": \"8\", \"Contact\": \"unknown\", \"Duration\": \"151\", \"Age\": \"44\", \"Loan\": \"no\"}, \"prediction\": {\"classes\": [\"1\", \"2\"], \"scores\": [0.9991059899330139, 0.0008940394618548453]}, \"explanation\": {\"attributions\": [{\"outputName\": \"scores\", \"baselineOutputValue\": 0.9990845322608948, \"instanceOutputValue\": 0.9991059899330139, \"outputIndex\": [0], \"outputDisplayName\": \"1\", \"featureAttributions\": {\"Age\": 9.275972843170166e-05, \"Balance\": -6.528198719024658e-05, \"Campaign\": 0.00016771753629048666, \"Contact\": 0.0, \"Day\": -4.407266775767008e-05, \"Default\": 0.0, \"Duration\": 0.00017685691515604654, \"Education\": -0.00030652185281117755, \"Housing\": 0.0, \"Job\": 0.0, \"Loan\": 0.0, \"MaritalStatus\": 0.0, \"Month\": 0.0, \"PDays\": 0.0, \"POutcome\": 0.0, \"Previous\": 0.0}, \"approximationError\": 0.001676156888312507}]}}\n",
      "\n",
      "{\"instance\": {\"Duration\": \"128\", \"MaritalStatus\": \"married\", \"Housing\": \"yes\", \"Previous\": \"0\", \"Contact\": \"unknown\", \"Balance\": \"205\", \"Job\": \"blue-collar\", \"Default\": \"no\", \"Age\": \"47\", \"Campaign\": \"2\", \"POutcome\": \"unknown\", \"Education\": \"primary\", \"Day\": \"8\", \"PDays\": \"-1\", \"Loan\": \"no\", \"Month\": \"may\"}, \"prediction\": {\"scores\": [0.9992806911468506, 0.0007192430202849209], \"classes\": [\"1\", \"2\"]}, \"explanation\": {\"attributions\": [{\"outputName\": \"scores\", \"baselineOutputValue\": 0.9990845322608948, \"instanceOutputValue\": 0.9992806911468506, \"outputIndex\": [0], \"outputDisplayName\": \"1\", \"featureAttributions\": {\"Age\": 0.00017219781875610352, \"Balance\": -2.915660540262858e-06, \"Campaign\": 0.0001367280880610148, \"Contact\": 0.0, \"Day\": -3.007054328918457e-05, \"Default\": 0.0, \"Duration\": 0.000215838352839152, \"Education\": -0.0002956191698710124, \"Housing\": 0.0, \"Job\": 0.0, \"Loan\": 0.0, \"MaritalStatus\": 0.0, \"Month\": 0.0, \"PDays\": 0.0, \"POutcome\": 0.0, \"Previous\": 0.0}, \"approximationError\": 0.0017610284862228486}]}}\n",
      "\n",
      "{\"instance\": {\"Loan\": \"yes\", \"POutcome\": \"unknown\", \"Day\": \"8\", \"Duration\": \"453\", \"Age\": \"25\", \"MaritalStatus\": \"married\", \"Campaign\": \"2\", \"Default\": \"no\", \"PDays\": \"-1\", \"Balance\": \"37\", \"Housing\": \"yes\", \"Job\": \"entrepreneur\", \"Contact\": \"unknown\", \"Previous\": \"0\", \"Month\": \"may\", \"Education\": \"tertiary\"}, \"prediction\": {\"scores\": [0.9674590229988098, 0.032540954649448395], \"classes\": [\"1\", \"2\"]}, \"explanation\": {\"attributions\": [{\"outputName\": \"scores\", \"baselineOutputValue\": 0.9990845322608948, \"instanceOutputValue\": 0.9674590229988098, \"outputIndex\": [0], \"outputDisplayName\": \"1\", \"featureAttributions\": {\"Age\": 0.0008112837870915731, \"Balance\": 0.0012085487445195515, \"Campaign\": 0.0029929131269454956, \"Contact\": 0.0, \"Day\": -0.002542257308959961, \"Default\": 0.0, \"Duration\": -0.022953535119692486, \"Education\": -0.001093149185180664, \"Housing\": 0.0, \"Job\": 0.0006337165832519531, \"Loan\": -0.010683029890060425, \"MaritalStatus\": 0.0, \"Month\": 0.0, \"PDays\": 0.0, \"POutcome\": 0.0, \"Previous\": 0.0}, \"approximationError\": 0.004467234518138048}]}}\n",
      "\n",
      "{\"instance\": {\"Job\": \"technician\", \"Loan\": \"no\", \"Contact\": \"unknown\", \"Previous\": \"0\", \"Balance\": \"0\", \"Housing\": \"no\", \"POutcome\": \"unknown\", \"Day\": \"8\", \"Campaign\": \"2\", \"Month\": \"may\", \"Default\": \"no\", \"Education\": \"unknown\", \"Duration\": \"345\", \"Age\": \"33\", \"PDays\": \"-1\", \"MaritalStatus\": \"married\"}, \"prediction\": {\"scores\": [0.9916519522666931, 0.008347985334694386], \"classes\": [\"1\", \"2\"]}, \"explanation\": {\"attributions\": [{\"outputName\": \"scores\", \"baselineOutputValue\": 0.9990845322608948, \"instanceOutputValue\": 0.9916519522666931, \"outputIndex\": [0], \"outputDisplayName\": \"1\", \"featureAttributions\": {\"Age\": -9.763240814208984e-05, \"Balance\": 0.0006328423817952474, \"Campaign\": 0.0011766900618871052, \"Contact\": 0.0, \"Day\": -0.0004965861638387045, \"Default\": 0.0, \"Duration\": -0.004531338810920715, \"Education\": -0.0003593216339747111, \"Housing\": -0.0026571800311406455, \"Job\": -0.0011000533898671467, \"Loan\": 0.0, \"MaritalStatus\": 0.0, \"Month\": 0.0, \"PDays\": 0.0, \"POutcome\": 0.0, \"Previous\": 0.0}, \"approximationError\": 0.0035644153651946653}]}}\n",
      "\n",
      "{\"instance\": {\"MaritalStatus\": \"married\", \"Housing\": \"yes\", \"Duration\": \"477\", \"Contact\": \"unknown\", \"Day\": \"8\", \"Age\": \"32\", \"Job\": \"management\", \"Loan\": \"yes\", \"Balance\": \"644\", \"Previous\": \"0\", \"Default\": \"no\", \"Education\": \"tertiary\", \"Month\": \"may\", \"PDays\": \"-1\", \"Campaign\": \"2\", \"POutcome\": \"unknown\"}, \"prediction\": {\"classes\": [\"1\", \"2\"], \"scores\": [0.9381769299507141, 0.061823032796382904]}, \"explanation\": {\"attributions\": [{\"outputName\": \"scores\", \"baselineOutputValue\": 0.9990845322608948, \"instanceOutputValue\": 0.9381769299507141, \"outputIndex\": [0], \"outputDisplayName\": \"1\", \"featureAttributions\": {\"Age\": 0.0007191598415374756, \"Balance\": -0.0018851359685262044, \"Campaign\": 0.004006147384643555, \"Contact\": 0.0, \"Day\": -0.0046199460824330645, \"Default\": 0.0, \"Duration\": -0.0383849044640859, \"Education\": -0.002789075175921122, \"Housing\": 0.0, \"Job\": -0.00040216247240702313, \"Loan\": -0.017551685372988384, \"MaritalStatus\": 0.0, \"Month\": 0.0, \"PDays\": 0.0, \"POutcome\": 0.0, \"Previous\": 0.0}, \"approximationError\": 0.00482258168954733}]}}\n",
      "\n",
      "100\n"
     ]
    }
   ],
   "source": [
    "import tensorflow as tf\n",
    "import pandas as pd\n",
    "\n",
    "bp_iter_outputs = batch_predict_job.iter_outputs()\n",
    "\n",
    "explanation_results = list()\n",
    "for blob in bp_iter_outputs:\n",
    "    if blob.name.split(\"/\")[-1].startswith(\"explanation\"):\n",
    "        explanation_results.append(blob.name)\n",
    "\n",
    "df = pd.DataFrame() \n",
    "        \n",
    "tags = list()\n",
    "for explanation_result in explanation_results:\n",
    "    gfile_name = f\"gs://{bp_iter_outputs.bucket.name}/{explanation_result}\"\n",
    "    with tf.io.gfile.GFile(name=gfile_name, mode=\"r\") as gfile:\n",
    "        for line in gfile.readlines():\n",
    "            print(line)\n",
    "        \n",
    "    temp_df = pd.DataFrame(gfile.readlines())    \n",
    "    df = df.append(temp_df)\n",
    "              \n",
    "print(len(df))\n",
    "df.to_csv(\"explanation_results.csv\")"
   ]
  },
  {
   "cell_type": "markdown",
   "metadata": {
    "id": "cleanup:mbsdk"
   },
   "source": [
    "# Cleaning up\n",
    "\n",
    "To clean up all Google Cloud resources used in this project, you can [delete the Google Cloud\n",
    "project](https://cloud.google.com/resource-manager/docs/creating-managing-projects#shutting_down_projects) you used for the tutorial.\n",
    "\n",
    "Otherwise, you can delete the individual resources you created in this tutorial."
   ]
  },
  {
   "cell_type": "code",
   "execution_count": null,
   "metadata": {
    "id": "vWghldkXxsNg"
   },
   "outputs": [],
   "source": [
    "# Set this to true only if you'd like to delete your bucket\n",
    "delete_bucket = False\n",
    "\n",
    "dataset.delete()\n",
    "model.delete()\n",
    "batch_predict_job.delete()\n",
    "\n",
    "if delete_bucket or os.getenv(\"IS_TESTING\"):\n",
    "    ! gsutil rm -r $BUCKET_URI"
   ]
  }
 ],
 "metadata": {
  "colab": {
   "name": "sdk_automl_tabular_binary_classification_batch_explain.ipynb",
   "provenance": [],
   "toc_visible": true
  },
  "environment": {
   "kernel": "python3",
   "name": "tf2-gpu.2-8.m95",
   "type": "gcloud",
   "uri": "gcr.io/deeplearning-platform-release/tf2-gpu.2-8:m95"
  },
  "kernelspec": {
   "display_name": "Python 3",
   "language": "python",
   "name": "python3"
  },
  "language_info": {
   "codemirror_mode": {
    "name": "ipython",
    "version": 3
   },
   "file_extension": ".py",
   "mimetype": "text/x-python",
   "name": "python",
   "nbconvert_exporter": "python",
   "pygments_lexer": "ipython3",
   "version": "3.7.12"
  }
 },
 "nbformat": 4,
 "nbformat_minor": 4
}
