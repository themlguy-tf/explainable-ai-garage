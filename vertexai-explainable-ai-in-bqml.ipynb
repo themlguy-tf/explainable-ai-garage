{
 "cells": [
  {
   "cell_type": "code",
   "execution_count": null,
   "metadata": {
    "id": "copyright"
   },
   "outputs": [],
   "source": [
    "# Copyright 2022 Google LLC\n",
    "#\n",
    "# Licensed under the Apache License, Version 2.0 (the \"License\");\n",
    "# you may not use this file except in compliance with the License.\n",
    "# You may obtain a copy of the License at\n",
    "#\n",
    "#     https://www.apache.org/licenses/LICENSE-2.0\n",
    "#\n",
    "# Unless required by applicable law or agreed to in writing, software\n",
    "# distributed under the License is distributed on an \"AS IS\" BASIS,\n",
    "# WITHOUT WARRANTIES OR CONDITIONS OF ANY KIND, either express or implied.\n",
    "# See the License for the specific language governing permissions and\n",
    "# limitations under the License."
   ]
  },
  {
   "cell_type": "markdown",
   "metadata": {
    "id": "overview:mlops"
   },
   "source": [
    "## Overview\n",
    "\n",
    "\n",
    "This tutorial demonstrates how to use Vertex AI for E2E MLOps on Google Cloud in production. This tutorial covers formalization: get started with BigQuery ML pipeline components."
   ]
  },
  {
   "cell_type": "markdown",
   "metadata": {
    "id": "objective:mlops,stage3,get_started_bqml_pipeline_components"
   },
   "source": [
    "### Objective\n",
    "\n",
    "In this tutorial, you learn how to use prebuilt `Google Cloud Pipeline Components` for `BigQuery ML`.\n",
    "\n",
    "This tutorial uses the following Google Cloud ML services:\n",
    "\n",
    "- `BigQuery ML`\n",
    "- `Google Cloud Pipeline Components`\n",
    "- `Vertex AI, Model and Endpoint` resources\n",
    "\n",
    "\n",
    "The steps performed include:\n",
    "\n",
    "- Construct a pipeline for:\n",
    "    - Training BigQuery ML model.\n",
    "    - Evaluating the BigQuery ML model.\n",
    "    - Exporting the BigQuery ML model.\n",
    "    - Importing the BigQuery ML model to a Vertex AI model.\n",
    "    - Deploy the Vertex AI model.\n"
   ]
  },
  {
   "cell_type": "markdown",
   "metadata": {
    "id": "dataset:penguins,lcn,bq"
   },
   "source": [
    "### Dataset\n",
    "\n",
    "The dataset used for this tutorial is the available in github https://github.com/themlguy-tf/explainable-ai-garage.git"
   ]
  },
  {
   "cell_type": "markdown",
   "metadata": {
    "id": "0c997d8d92ce"
   },
   "source": [
    "### Costs\n",
    "This tutorial uses billable components of Google Cloud:\n",
    "\n",
    "- Vertex AI\n",
    "- Cloud Storage\n",
    "- BigQuery\n",
    "\n",
    "Learn about [Vertex AI pricing](https://cloud.google.com/vertex-ai/pricing), [Cloud Storage pricing](https://cloud.google.com/storage/pricing) and [BigQuery pricing](https://cloud.google.com/bigquery/pricing) and use the [Pricing Calculator](https://cloud.google.com/products/calculator/) to generate a cost estimate based on your projected usage."
   ]
  },
  {
   "cell_type": "markdown",
   "metadata": {
    "id": "install_mlops"
   },
   "source": [
    "## Installations\n",
    "\n",
    "Install the packages required for executing the notebook."
   ]
  },
  {
   "cell_type": "markdown",
   "metadata": {
    "id": "BF1j6f9HApxa"
   },
   "source": [
    "## Before you begin\n",
    "\n",
    "### Set up your Google Cloud project\n",
    "\n",
    "**The following steps are required, regardless of your notebook environment.**\n",
    "\n",
    "1. [Select or create a Google Cloud project](https://console.cloud.google.com/cloud-resource-manager). When you first create an account, you get a $300 free credit towards your compute/storage costs.\n",
    "\n",
    "1. [Make sure that billing is enabled for your project](https://cloud.google.com/billing/docs/how-to/modify-project).\n",
    "\n",
    "1. [Enable the Vertex AI API](https://console.cloud.google.com/flows/enableapi?apiid=aiplatform.googleapis.com,dataflow.googleapis.com).\n",
    "\n",
    "1. If you are running this notebook locally, you need to install the [Cloud SDK](https://cloud.google.com/sdk).\n",
    "\n",
    "1. Enter your project ID in the cell below. Then run the cell to make sure the\n",
    "Cloud SDK uses the right project for all the commands in this notebook.\n",
    "\n",
    "**Note**: Jupyter runs lines prefixed with `!` as shell commands, and it interpolates Python variables prefixed with `$` into these commands."
   ]
  },
  {
   "cell_type": "markdown",
   "metadata": {
    "id": "project_id"
   },
   "source": [
    "#### Set your project ID\n",
    "\n",
    "**If you don't know your project ID**, you may be able to get your project ID using `gcloud`."
   ]
  },
  {
   "cell_type": "code",
   "execution_count": 2,
   "metadata": {
    "id": "set_project_id"
   },
   "outputs": [],
   "source": [
    "#PROJECT_ID = \"prj-ai-ml-auto\"  # @param {type:\"string\"}\n",
    "PROJECT_ID = \"[your-project-id]\" #<ENTER YOUR PROJECT ID"
   ]
  },
  {
   "cell_type": "code",
   "execution_count": null,
   "metadata": {},
   "outputs": [],
   "source": [
    "#Enter a user id - could be your name too or Qwiklab_user name without the @domain.com   ; see example below\n",
    "\n",
    "USER_NAME = \"<enter a user id>\" \n",
    "\n",
    "#e.g.\n",
    "USER_NAME = \"google\"\n"
   ]
  },
  {
   "cell_type": "code",
   "execution_count": 3,
   "metadata": {
    "id": "autoset_project_id"
   },
   "outputs": [
    {
     "name": "stdout",
     "output_type": "stream",
     "text": [
      "Project ID: ai-ml-meta-auto\n",
      "Project ID: ai-ml-meta-auto\n"
     ]
    }
   ],
   "source": [
    "if PROJECT_ID == \"\" or PROJECT_ID is None or PROJECT_ID == \"[your-project-id]\":\n",
    "    # Get your GCP project id from gcloud\n",
    "    shell_output = ! gcloud config list --format 'value(core.project)' 2>/dev/null\n",
    "    PROJECT_ID = shell_output[0]\n",
    "    print(\"Project ID:\", PROJECT_ID)\n",
    "\n",
    "print(\"Project ID:\", PROJECT_ID)"
   ]
  },
  {
   "cell_type": "markdown",
   "metadata": {
    "id": "set_gcloud_project_id"
   },
   "source": [
    "! gcloud config set project $PROJECT_ID"
   ]
  },
  {
   "cell_type": "markdown",
   "metadata": {
    "id": "region"
   },
   "source": [
    "#### Region\n",
    "\n",
    "You can also change the `REGION` variable, which is used for operations\n",
    "throughout the rest of this notebook.  Below are regions supported for Vertex AI. We recommend that you choose the region closest to you.\n",
    "\n",
    "- Americas: `us-central1`\n",
    "- Europe: `europe-west4`\n",
    "- Asia Pacific: `asia-east1`\n",
    "\n",
    "You may not use a multi-regional bucket for training with Vertex AI. Not all regions provide support for all Vertex AI services.\n",
    "\n",
    "Learn more about [Vertex AI regions](https://cloud.google.com/vertex-ai/docs/general/locations)."
   ]
  },
  {
   "cell_type": "code",
   "execution_count": 3,
   "metadata": {
    "id": "c1Rim3ogJ39j"
   },
   "outputs": [],
   "source": [
    "REGION = \"us-central1\"  # @param {type:\"string\"}\n",
    "if REGION == \"[your-region]\":\n",
    "    REGION = \"us-central1\""
   ]
  },
  {
   "cell_type": "markdown",
   "metadata": {
    "id": "timestamp"
   },
   "source": [
    "#### Timestamp\n",
    "\n",
    "If you are in a live tutorial session, you might be using a shared test account or project. To avoid name collisions between users on resources created, you create a timestamp for each instance session, and append the timestamp onto the name of resources you create in this tutorial."
   ]
  },
  {
   "cell_type": "code",
   "execution_count": 4,
   "metadata": {
    "id": "hdkr5x2jJ39k"
   },
   "outputs": [],
   "source": [
    "from datetime import datetime\n",
    "\n",
    "TIMESTAMP = datetime.now().strftime(\"%Y%m%d%H%M%S\")"
   ]
  },
  {
   "cell_type": "markdown",
   "metadata": {
    "id": "bucket:mbsdk"
   },
   "source": [
    "### Create a Cloud Storage bucket\n",
    "\n",
    "**The following steps are required, regardless of your notebook environment.**\n",
    "\n",
    "When you initialize the Vertex SDK for Python, you specify a Cloud Storage staging bucket. The staging bucket is where all the data associated with your dataset and model resources are retained across sessions.\n",
    "\n",
    "Set the name of your Cloud Storage bucket below. Bucket names must be globally unique across all Google Cloud projects, including those outside of your organization."
   ]
  },
  {
   "cell_type": "code",
   "execution_count": null,
   "metadata": {
    "id": "bucket"
   },
   "outputs": [],
   "source": [
    "BUCKET_NAME = \"\"+USER_NAME+\"_\"+TIMESTAMP # @param {type:\"string\"} \n",
    "BUCKET_URI = f\"gs://{BUCKET_NAME}\"\n",
    "\n",
    "\n",
    "print(\"BUCKET_NAME: \",BUCKET_NAME)\n",
    "print(\"BUCKET_URI: \",BUCKET_URI)"
   ]
  },
  {
   "cell_type": "code",
   "execution_count": 6,
   "metadata": {
    "id": "autoset_bucket"
   },
   "outputs": [],
   "source": [
    "if BUCKET_URI == \"\" or BUCKET_URI is None or BUCKET_URI == \"gs://[your-bucket-name]\":\n",
    "    BUCKET_URI = \"gs://\" + PROJECT_ID + \"aip-\" + TIMESTAMP"
   ]
  },
  {
   "cell_type": "markdown",
   "metadata": {
    "id": "create_bucket"
   },
   "source": [
    "**Only if your bucket doesn't already exist**: Run the following cell to create your Cloud Storage bucket."
   ]
  },
  {
   "cell_type": "code",
   "execution_count": null,
   "metadata": {
    "id": "V97jQQuiJ39m"
   },
   "outputs": [],
   "source": [
    "! gsutil mb -l $REGION $BUCKET_URI"
   ]
  },
  {
   "cell_type": "code",
   "execution_count": null,
   "metadata": {},
   "outputs": [],
   "source": [
    "!gsutil cp ./feat_mortgage_data.csv $BUCKET_URI"
   ]
  },
  {
   "cell_type": "markdown",
   "metadata": {
    "id": "validate_bucket"
   },
   "source": [
    "Finally, validate access to your Cloud Storage bucket by examining its contents:"
   ]
  },
  {
   "cell_type": "code",
   "execution_count": 7,
   "metadata": {
    "id": "7PN6kSQtJ39m"
   },
   "outputs": [
    {
     "name": "stdout",
     "output_type": "stream",
     "text": [
      "         0  2022-09-07T01:15:57Z  gs://ai-ml-meta-auto-vertexai/bqml/#1662513357028893  metageneration=1\n",
      " 135458194  2022-09-07T02:28:22Z  gs://ai-ml-meta-auto-vertexai/bqml/feat_mortgage_data.csv#1662517702860012  metageneration=1\n",
      "    120575  2022-09-07T17:59:16Z  gs://ai-ml-meta-auto-vertexai/bqml/import_file.csv#1662573556324394  metageneration=1\n",
      "                                 gs://ai-ml-meta-auto-vertexai/bqml/bq_query/\n",
      "                                 gs://ai-ml-meta-auto-vertexai/bqml/bqmodel/\n",
      "TOTAL: 3 objects, 135578769 bytes (129.3 MiB)\n"
     ]
    }
   ],
   "source": [
    "! gsutil ls -al $BUCKET_URI"
   ]
  },
  {
   "cell_type": "markdown",
   "metadata": {
    "id": "set_service_account"
   },
   "source": [
    "#### Service Account\n",
    "\n",
    "**If you don't know your service account**, try to get your service account using `gcloud` command by executing the second cell below.\n",
    "\n",
    "*Note:* The code for automatically finding your service account works on a user-managed Workbench AI noteboook. If you are using a fully-managed notebook, you will need to manually enter your service account."
   ]
  },
  {
   "cell_type": "code",
   "execution_count": 8,
   "metadata": {
    "id": "M4WZi4CDJ39n",
    "tags": []
   },
   "outputs": [],
   "source": [
    "#Enter the service account copied earlier; see example below\n",
    "SERVICE_ACCOUNT = '<Enter >'  # @param {type:\"string\"}\n",
    "\n",
    "#e.g.\n",
    "SERVICE_ACCOUNT = '670723894630-compute@developer.gserviceaccount.com'  # @param {type:\"string\"}\n"
   ]
  },
  {
   "cell_type": "code",
   "execution_count": 5,
   "metadata": {},
   "outputs": [],
   "source": [
    "SERVICE_ACCOUNT = \"[your-service-account]\""
   ]
  },
  {
   "cell_type": "markdown",
   "metadata": {
    "id": "set_service_account:pipelines"
   },
   "source": [
    "#### Set service account access for Vertex AI Pipelines\n",
    "\n",
    "Run the following commands to grant your service account access to read and write pipeline artifacts in the bucket that you created in the previous step -- you only need to run these once per service account."
   ]
  },
  {
   "cell_type": "code",
   "execution_count": 10,
   "metadata": {
    "id": "mI3IJONMJ39n"
   },
   "outputs": [
    {
     "name": "stdout",
     "output_type": "stream",
     "text": [
      "Omitting prefix \"gs://ai-ml-meta-auto-vertexai/bqml/\". (Did you mean to do iam -r?)\n",
      "CommandException: No URLs matched. Do the files you're operating on exist?\n",
      "Omitting prefix \"gs://ai-ml-meta-auto-vertexai/bqml/\". (Did you mean to do iam -r?)\n",
      "CommandException: No URLs matched. Do the files you're operating on exist?\n"
     ]
    }
   ],
   "source": [
    "! gsutil iam -r ch serviceAccount:{SERVICE_ACCOUNT}:roles/storage.objectCreator $BUCKET_URI\n",
    "\n",
    "! gsutil iam -r ch serviceAccount:{SERVICE_ACCOUNT}:roles/storage.objectViewer $BUCKET_URI"
   ]
  },
  {
   "cell_type": "markdown",
   "metadata": {},
   "source": [
    "## BigQuery Data Load\n",
    "Load the feat_mortgage_data in the BigQuery.\n",
    "To verify this, please open BigQuery from the Google Console - the main Google Console"
   ]
  },
  {
   "cell_type": "code",
   "execution_count": 50,
   "metadata": {},
   "outputs": [
    {
     "name": "stdout",
     "output_type": "stream",
     "text": [
      "Loaded 1000 rows.\n"
     ]
    }
   ],
   "source": [
    "from google.cloud import bigquery\n",
    "\n",
    "# Construct a BigQuery client object.\n",
    "client = bigquery.Client()\n",
    "\n",
    "# TODO(developer): Set table_id to the ID of the table to create.\n",
    "table_id =  PROJECT_ID + \".bqml.feat_mortgage_data\"\n",
    "\n",
    "job_config = bigquery.LoadJobConfig(\n",
    "    autodetect=True,\n",
    "    skip_leading_rows=1,\n",
    "    # The source format defaults to CSV, so the line below is optional.\n",
    "    source_format=bigquery.SourceFormat.CSV,\n",
    ")\n",
    "uri = BUCKET_URI+\"/feat_mortgage_data.csv\"\n",
    "\n",
    "load_job = client.load_table_from_uri(\n",
    "    uri, table_id, job_config=job_config\n",
    ")  # Make an API request.\n",
    "\n",
    "load_job.result()  # Waits for the job to complete.\n",
    "\n",
    "destination_table = client.get_table(table_id)  # Make an API request.\n",
    "print(\"Loaded {} rows in BigQuery.\".format(destination_table.num_rows))"
   ]
  },
  {
   "cell_type": "markdown",
   "metadata": {
    "id": "setup_vars"
   },
   "source": [
    "### Set up variables\n",
    "\n",
    "Next, set up some variables used throughout the tutorial.\n",
    "### Import libraries and define constants"
   ]
  },
  {
   "cell_type": "code",
   "execution_count": 12,
   "metadata": {
    "id": "import_aip:mbsdk"
   },
   "outputs": [],
   "source": [
    "import google.cloud.aiplatform as aip"
   ]
  },
  {
   "cell_type": "code",
   "execution_count": 13,
   "metadata": {
    "id": "import_kfp"
   },
   "outputs": [],
   "source": [
    "import json\n",
    "import os\n",
    "from kfp import dsl\n",
    "from kfp.v2 import compiler\n",
    "from kfp.v2.dsl import HTML, Artifact, Condition, Input, Output, component\n"
   ]
  },
  {
   "cell_type": "markdown",
   "metadata": {
    "id": "import_bq"
   },
   "source": [
    "#### Import BigQuery\n",
    "\n",
    "Import the BigQuery package into your Python environment."
   ]
  },
  {
   "cell_type": "code",
   "execution_count": 14,
   "metadata": {
    "id": "r7p4Iv8_J39o"
   },
   "outputs": [],
   "source": [
    "from google.cloud import bigquery"
   ]
  },
  {
   "cell_type": "markdown",
   "metadata": {
    "id": "import_tf"
   },
   "source": [
    "#### Import TensorFlow\n",
    "\n",
    "Import the TensorFlow package into your Python environment."
   ]
  },
  {
   "cell_type": "code",
   "execution_count": 15,
   "metadata": {
    "id": "_K5tP8oJJ39p"
   },
   "outputs": [],
   "source": [
    "import tensorflow as tf"
   ]
  },
  {
   "cell_type": "markdown",
   "metadata": {
    "id": "init_aip:mbsdk,all"
   },
   "source": [
    "### Initialize Vertex AI SDK for Python\n",
    "\n",
    "Initialize the Vertex AI SDK for Python for your project and corresponding bucket."
   ]
  },
  {
   "cell_type": "code",
   "execution_count": 16,
   "metadata": {
    "id": "uAnLpS9cJ39p"
   },
   "outputs": [],
   "source": [
    "aip.init(project=PROJECT_ID, location=REGION, staging_bucket=BUCKET_URI)"
   ]
  },
  {
   "cell_type": "markdown",
   "metadata": {
    "id": "init_bq"
   },
   "source": [
    "### Create BigQuery client\n",
    "\n",
    "Create the BigQuery client."
   ]
  },
  {
   "cell_type": "code",
   "execution_count": 17,
   "metadata": {
    "id": "I9RloZo9J39p"
   },
   "outputs": [],
   "source": [
    "bqclient = bigquery.Client()"
   ]
  },
  {
   "cell_type": "markdown",
   "metadata": {
    "id": "accelerators:prediction,mbsdk"
   },
   "source": [
    "#### Set hardware accelerators\n",
    "\n",
    "You can set hardware accelerators for prediction.\n",
    "\n",
    "Set the variable `DEPLOY_GPU/DEPLOY_NGPU` to use a container image supporting a GPU and the number of GPUs allocated to the virtual machine (VM) instance. For example, to use a GPU container image with 4 Nvidia Telsa K80 GPUs allocated to each VM, you would specify:\n",
    "\n",
    "    (aip.AcceleratorType.NVIDIA_TESLA_K80, 4)\n",
    "\n",
    "Otherwise specify `(None, None)` to use a container image to run on a CPU.\n",
    "\n",
    "Learn more [here](https://cloud.google.com/vertex-ai/docs/general/locations#accelerators) hardware accelerator support for your region"
   ]
  },
  {
   "cell_type": "code",
   "execution_count": 18,
   "metadata": {
    "id": "1-mE_7kXJ39p"
   },
   "outputs": [],
   "source": [
    "if os.getenv(\"IS_TESTING_DEPLOY_GPU\"):\n",
    "    DEPLOY_GPU, DEPLOY_NGPU = (\n",
    "        aip.gapic.AcceleratorType.NVIDIA_TESLA_K80,\n",
    "        int(os.getenv(\"IS_TESTING_DEPLOY_GPU\")),\n",
    "    )\n",
    "else:\n",
    "    DEPLOY_GPU, DEPLOY_NGPU = (aip.gapic.AcceleratorType.NVIDIA_TESLA_K80, 1)"
   ]
  },
  {
   "cell_type": "markdown",
   "metadata": {
    "id": "container:prediction"
   },
   "source": [
    "#### Set pre-built containers\n",
    "\n",
    "Set the pre-built Docker container image for prediction.\n",
    "\n",
    "- Set the variable `TF` to the TensorFlow version of the container image. For example, `2-1` would be version 2.1, and `1-15` would be version 1.15. The following list shows some of the pre-built images available:\n",
    "\n",
    "\n",
    "For the latest list, see [Pre-built containers for prediction](https://cloud.google.com/ai-platform-unified/docs/predictions/pre-built-containers)."
   ]
  },
  {
   "cell_type": "code",
   "execution_count": 33,
   "metadata": {
    "id": "AmHM8whxJ39q"
   },
   "outputs": [
    {
     "name": "stdout",
     "output_type": "stream",
     "text": [
      "Deployment: us-docker.pkg.dev/vertex-ai/prediction/tf2-gpu.2-5:latest AcceleratorType.NVIDIA_TESLA_K80\n"
     ]
    }
   ],
   "source": [
    "if os.getenv(\"IS_TESTING_TF\"):\n",
    "    TF = os.getenv(\"IS_TESTING_TF\")\n",
    "else:\n",
    "    TF = \"2.5\".replace(\".\", \"-\")\n",
    "\n",
    "if TF[0] == \"2\":\n",
    "    if DEPLOY_GPU:\n",
    "        DEPLOY_VERSION = \"tf2-gpu.{}\".format(TF)\n",
    "    else:\n",
    "        DEPLOY_VERSION = \"tf2-cpu.{}\".format(TF)\n",
    "else:\n",
    "    if DEPLOY_GPU:\n",
    "        DEPLOY_VERSION = \"tf-gpu.{}\".format(TF)\n",
    "    else:\n",
    "        DEPLOY_VERSION = \"tf-cpu.{}\".format(TF)\n",
    "\n",
    "DEPLOY_IMAGE = \"{}-docker.pkg.dev/vertex-ai/prediction/{}:latest\".format(\n",
    "    REGION.split(\"-\")[0], DEPLOY_VERSION\n",
    ")\n",
    "\n",
    "print(\"Deployment:\", DEPLOY_IMAGE, DEPLOY_GPU)"
   ]
  },
  {
   "cell_type": "markdown",
   "metadata": {
    "id": "import_file:u_dataset,bq"
   },
   "source": [
    "#### Location of BigQuery training data.\n",
    "\n",
    "Now set the variable `IMPORT_FILE`, `BQ_TABLE`, and the `EXPLAIN_TABLE` to the location of the data table in BigQuery."
   ]
  },
  {
   "cell_type": "code",
   "execution_count": 38,
   "metadata": {
    "id": "import_file:penguins,bq,lcn"
   },
   "outputs": [],
   "source": [
    "IMPORT_FILE = PROJECT_ID + \".bqml.feat_mortgage_data\"\n",
    "BQ_TABLE = PROJECT_ID + \".bqml.feat_mortgage_data\"\n",
    "explain_table = \"explain_table_\"+TIMESTAMP"
   ]
  },
  {
   "cell_type": "code",
   "execution_count": 90,
   "metadata": {},
   "outputs": [],
   "source": [
    "## Set up pipeline variable"
   ]
  },
  {
   "cell_type": "code",
   "execution_count": 20,
   "metadata": {},
   "outputs": [],
   "source": [
    "DATA_PATH = \"data\"\n",
    "KFP_COMPONENTS_PATH = \"components\"\n",
    "PIPELINES_PATH = \"pipelines\"\n",
    "\n",
    "! mkdir -m 777 -p {KFP_COMPONENTS_PATH}\n",
    "! mkdir -m 777 -p {PIPELINES_PATH}\n",
    "! mkdir -m 777 -p {KFP_COMPONENTS_PATH}/custom_components"
   ]
  },
  {
   "cell_type": "code",
   "execution_count": 21,
   "metadata": {},
   "outputs": [],
   "source": [
    "\n",
    "! mkdir -m 777 -p {KFP_COMPONENTS_PATH}/custom_components"
   ]
  },
  {
   "cell_type": "code",
   "execution_count": 29,
   "metadata": {},
   "outputs": [],
   "source": [
    "from typing import NamedTuple\n",
    "\n",
    "\n",
    "@component(\n",
    "    base_image=\"python:3.8-slim\",\n",
    "    packages_to_install=[\"jinja2\", \"pandas\", \"matplotlib\"],\n",
    "    output_component_file=f\"{KFP_COMPONENTS_PATH}/custom_components/build_bq_evaluate_metrics.yaml\",\n",
    ")\n",
    "def get_model_evaluation_metrics(\n",
    "    metrics_in: Input[Artifact]\n",
    ") -> NamedTuple(\"Outputs\", [(\"accuracy\", float)]):\n",
    "    \"\"\"\n",
    "    Get the accuracy from the metrics\n",
    "    Args:\n",
    "        metrics_in: metrics artifact\n",
    "    Returns:\n",
    "        accuracy: accuracy\n",
    "    \"\"\"\n",
    "\n",
    "    import pandas as pd\n",
    "\n",
    "\n",
    "    def get_column_names(header):\n",
    "        \"\"\"\n",
    "        Helper function to get the column names from the metrics table.\n",
    "        Args:\n",
    "            header: header\n",
    "        Returns:\n",
    "            column_names: column names\n",
    "        \"\"\"\n",
    "        header_clean = header.replace(\"_\", \" \")\n",
    "        header_abbrev = \"\".join([h[0].upper() for h in header_clean.split()])\n",
    "        header_prettied = f\"{header_clean} ({header_abbrev})\"\n",
    "        return header_prettied\n",
    "\n",
    "    # Extract rows and schema from metrics artifact\n",
    "    rows = metrics_in.metadata[\"rows\"]\n",
    "    schema = metrics_in.metadata[\"schema\"]\n",
    "\n",
    "    # Convert into a tabular format\n",
    "    columns = [metrics[\"name\"] for metrics in schema[\"fields\"] if \"name\" in metrics]\n",
    "    records = []\n",
    "    for row in rows:\n",
    "        records.append([dl[\"v\"] for dl in row[\"f\"]])\n",
    "    metrics = (\n",
    "        pd.DataFrame.from_records(records, columns=columns)\n",
    "        .astype(float)\n",
    "        .round(3)\n",
    "    )\n",
    "    metrics = metrics.reset_index()\n",
    "\n",
    "    # Create the HTML artifact for the metrics\n",
    "    pretty_columns = list(\n",
    "        map(\n",
    "            lambda h: get_column_names(h)\n",
    "            if h != columns[0]\n",
    "            else h.replace(\"_\", \" \").capitalize(),\n",
    "            columns,\n",
    "        )\n",
    "    )\n",
    "\n",
    "    # Create metrics dictionary for the model\n",
    "    accuracy = round(float(metrics.accuracy), 3)\n",
    "    component_outputs = NamedTuple(\"Outputs\", [(\"accuracy\", float)])\n",
    "\n",
    "    return component_outputs(accuracy)\n"
   ]
  },
  {
   "cell_type": "code",
   "execution_count": 52,
   "metadata": {},
   "outputs": [
    {
     "name": "stdout",
     "output_type": "stream",
     "text": [
      "\u001b[31mERROR: pip's dependency resolver does not currently take into account all the packages that are installed. This behaviour is the source of the following dependency conflicts.\n",
      "apache-beam 2.40.0 requires dill<0.3.2,>=0.3.1.1, but you have dill 0.3.5.1 which is incompatible.\n",
      "apache-beam 2.40.0 requires pyarrow<8.0.0,>=0.15.1, but you have pyarrow 9.0.0 which is incompatible.\u001b[0m\u001b[31m\n",
      "\u001b[0m"
     ]
    }
   ],
   "source": [
    "! pip3 install --upgrade google-cloud-pipeline-components $USER_FLAG -q"
   ]
  },
  {
   "cell_type": "markdown",
   "metadata": {
    "id": "create_bqml_pipeline:tabular",
    "tags": []
   },
   "source": [
    "### Construct pipeline for BigQuery ML training, exporting and deployment\n",
    "\n",
    "Next, construct the pipeline with the following tasks:\n",
    "\n",
    "- Create a BigQuery schema for the dataset.\n",
    "- Train a BigQuery ML model.\n",
    "- Evaluate the BigQuery ML model.\n",
    "- Make a batch prediction with the BigQuery ML model. *Note:* The same data (table) is used for both training and prediction.\n",
    "- Export the BigQuery ML model.\n",
    "- Import the exported model artifacts to a Vertex AI Model resource.\n",
    "- Deploy the Vertex AI Model resource to a Vertex AI Endpoint resource."
   ]
  },
  {
   "cell_type": "code",
   "execution_count": 42,
   "metadata": {
    "id": "LvND7iTpJ39r"
   },
   "outputs": [],
   "source": [
    "PIPELINE_ROOT = f\"{BUCKET_URI}/bq_query\"\n",
    "PERF_THRESHOLD = .97\n",
    "\n",
    "@dsl.pipeline(name=\"mortgage-data-pipeline-new\", pipeline_root=PIPELINE_ROOT)\n",
    "def pipeline(\n",
    "    bq_table: str,\n",
    "    label: str,\n",
    "    dataset: str,\n",
    "    model: str,\n",
    "    artifact_uri: str,\n",
    "    num_trials: int,\n",
    "    deploy_image: str,\n",
    "    machine_type: str,\n",
    "    min_replica_count: int,\n",
    "    max_replica_count: int,\n",
    "    display_name: str,\n",
    "    accelerator_type: str,\n",
    "    accelerator_count: int,\n",
    "    project: str = PROJECT_ID,\n",
    "    location: str = \"US\",\n",
    "    region: str = \"us-central1\",\n",
    "):\n",
    "    #from google_cloud_pipeline_components.types import artifact_types\n",
    "    \n",
    "    from google_cloud_pipeline_components.v1.bigquery import (\n",
    "        BigqueryCreateModelJobOp, BigqueryEvaluateModelJobOp,\n",
    "        BigqueryExportModelJobOp, BigqueryPredictModelJobOp,\n",
    "        BigqueryQueryJobOp, BigqueryExplainPredictModelJobOp)\n",
    "    from google_cloud_pipeline_components.v1.endpoint import (EndpointCreateOp,\n",
    "                                                              ModelDeployOp)\n",
    "    from google_cloud_pipeline_components.v1.model import ModelUploadOp\n",
    "    from kfp.v2.components import importer_node\n",
    "\n",
    "    # bq_dataset = BigqueryQueryJobOp(\n",
    "    #     project=project, location=\"US\", query=f\"CREATE SCHEMA {dataset}\"\n",
    "    # )\n",
    "\n",
    "    bq_train_model_op = BigqueryCreateModelJobOp(\n",
    "        project=project,\n",
    "        location=\"us-central1\",\n",
    "        query= f\"\"\"\n",
    "            CREATE OR REPLACE MODEL `{dataset}.{model}`    \n",
    "            OPTIONS(\n",
    "              MODEL_TYPE=\\'LOGISTIC_REG\\',\n",
    "              input_label_cols=[\\'approved\\'],\n",
    "              model_registry=\\'vertex_ai\\',\n",
    "              vertex_ai_model_version_aliases=[\\'logistic_reg\\', \\'experimental\\']\n",
    "            ) AS\n",
    "\n",
    "            SELECT\n",
    "              * EXCEPT(int64_field_0)\n",
    "            FROM\n",
    "               `{bq_table}`\n",
    "            \"\"\"\n",
    "    ) \n",
    "    _ = BigqueryExplainPredictModelJobOp (\n",
    "        project = PROJECT_ID, location=\"us-central1\", model=bq_train_model_op.outputs[\"model\"],\n",
    "        query_statement = f\"\"\"\n",
    "        SELECT * \n",
    "        FROM\n",
    "          ML.EXPLAIN_PREDICT(MODEL `ai-ml-meta-auto.bqml.feat_mortgage_model-new`, \n",
    "            (SELECT\n",
    "              * EXCEPT(int64_field_0)\n",
    "            FROM  `{bq_table}`\n",
    "          )\n",
    "          )\n",
    "            \n",
    "        \"\"\",\n",
    "        job_configuration_query={\n",
    "            \"destinationTable\": {\n",
    "                \"projectId\": PROJECT_ID,\n",
    "                \"datasetId\": \"bqml\",\n",
    "                \"tableId\": explain_table,\n",
    "            }\n",
    "        },\n",
    "    )\n",
    "\n",
    "    bq_evaluate_model_op = BigqueryEvaluateModelJobOp(\n",
    "        project=PROJECT_ID, location=\"us-central1\", model=bq_train_model_op.outputs[\"model\"]\n",
    "    ).after(bq_train_model_op)\n",
    "       # Evaluate model\n",
    "\n",
    "    # Plot model metrics\n",
    "    get_evaluation_model_metrics_op = (\n",
    "        get_model_evaluation_metrics(\n",
    "            bq_evaluate_model_op.outputs[\"evaluation_metrics\"]\n",
    "        )\n",
    "        .after(bq_evaluate_model_op)\n",
    "        .set_display_name(\"plot evaluation metrics\")\n",
    "    )\n",
    "\n",
    "    # Check the model performance.\n",
    "    with Condition(\n",
    "        get_evaluation_model_metrics_op.outputs[\"accuracy\"]\n",
    "        < PERF_THRESHOLD,\n",
    "        name=\"accuracy is above threshold\",\n",
    "    ):\n",
    "\n",
    "\n",
    "        bq_export = BigqueryExportModelJobOp(\n",
    "            project=project,\n",
    "            location=location,\n",
    "            model=bq_train_model_op.outputs[\"model\"],\n",
    "            model_destination_path=artifact_uri,\n",
    "        ).after(get_evaluation_model_metrics_op)\n",
    "\n",
    "        import_unmanaged_model_task = importer_node.importer(\n",
    "            artifact_uri=artifact_uri,\n",
    "            artifact_class=\"\",\n",
    "            metadata={\n",
    "                \"containerSpec\": {\n",
    "                    \"imageUri\": DEPLOY_IMAGE,\n",
    "                },\n",
    "            },\n",
    "        ).after(bq_export)\n",
    "\n",
    "        model_upload = ModelUploadOp(\n",
    "            project=project,\n",
    "            display_name=display_name,\n",
    "            unmanaged_container_model=import_unmanaged_model_task.outputs[\"artifact\"],\n",
    "        ).after(import_unmanaged_model_task)\n",
    "\n",
    "        endpoint = EndpointCreateOp(\n",
    "            project=project,\n",
    "            location=region,\n",
    "            display_name=display_name,\n",
    "        ).after(model_upload)\n",
    "\n",
    "        _ = ModelDeployOp(\n",
    "            model=model_upload.outputs[\"model\"],\n",
    "            endpoint=endpoint.outputs[\"endpoint\"],\n",
    "            dedicated_resources_min_replica_count=min_replica_count,\n",
    "            dedicated_resources_max_replica_count=max_replica_count,\n",
    "            dedicated_resources_machine_type=machine_type,\n",
    "            #accelerator_type=accelerator_type,\n",
    "            dedicated_resources_accelerator_type=accelerator_type,\n",
    "            dedicated_resources_accelerator_count=accelerator_count,\n",
    "            traffic_split={\"0\": 100},\n",
    "        )"
   ]
  },
  {
   "cell_type": "markdown",
   "metadata": {
    "id": "run_pipeline:bqml"
   },
   "source": [
    "### Compile and execute the BigQuery ML train, export and deploy pipeline\n",
    "\n",
    "Next, you compile the pipeline and then execute it. The pipeline takes the following parameters, which are passed as the dictionary `parameter_values`:\n",
    "\n",
    "- `bq_table`: The BigQuery dataset to train on.\n",
    "- `label`: The corresponding label for the BigQuery dataset.\n",
    "- `dataset`: The BigQuery dataset component name.\n",
    "- `model`: The BigQuery model component name.\n",
    "- `artifact_uri`: The Cloud Storage location to export the BigQuery model artifacts.\n",
    "- `num_trials`: If greater than one, will perform hyperparameter tuning for the specified number of trials using the Vertex AI Vizier service.\n",
    "- `deploy_image`: The container image for serving predictions.\n",
    "- `machine_type`: The VM for serving predictions.\n",
    "- `min_replica_count`/`max_replica_count`: The number of virtual machines for auto-scaling predictions.\n",
    "- `accelerator_type`: The type of HW accelerators -- if any.\n",
    "- `accelerator_count`: The number of HW accelerators -- if any.\n",
    "- `display_name`: Display name for Vertex AI Model and Endpoint resources.\n",
    "- `project`: The project ID\n",
    "- `location`: The location"
   ]
  },
  {
   "cell_type": "code",
   "execution_count": 43,
   "metadata": {},
   "outputs": [
    {
     "data": {
      "text/plain": [
       "'ai-ml-meta-auto.bqml.feat_mortgage_data'"
      ]
     },
     "execution_count": 43,
     "metadata": {},
     "output_type": "execute_result"
    }
   ],
   "source": [
    "BQ_TABLE"
   ]
  },
  {
   "cell_type": "code",
   "execution_count": 44,
   "metadata": {
    "id": "l2FMs74-J39r"
   },
   "outputs": [
    {
     "name": "stdout",
     "output_type": "stream",
     "text": [
      "gpu= NVIDIA_TESLA_K80\n",
      "accelerator_count= 1\n"
     ]
    }
   ],
   "source": [
    "# If DEPLOY_GPU is None, keeping gpu as no accelerator and accelerator_count as 0\n",
    "accelerator_count = 0\n",
    "if DEPLOY_GPU:\n",
    "    gpu = DEPLOY_GPU.name\n",
    "    accelerator_count = 1\n",
    "else:\n",
    "    gpu = \"ACCELERATOR_TYPE_UNSPECIFIED\"  # Unspecified accelerator type, which means no accelerator.\n",
    "    accelerator_count = 0\n",
    "\n",
    "print(\"gpu=\", gpu)\n",
    "print(\"accelerator_count=\", accelerator_count)\n",
    "\n",
    "MODEL_DIR = BUCKET_URI + \"/bqmodel\"\n",
    "\n",
    "compiler.Compiler().compile(pipeline_func=pipeline, package_path=\"bqml.json\")\n",
    "\n",
    "pipeline = aip.PipelineJob(\n",
    "    display_name=\"bqml\",\n",
    "    template_path=\"bqml.json\",\n",
    "    pipeline_root=PIPELINE_ROOT,\n",
    "    parameter_values={\n",
    "        \"bq_table\": BQ_TABLE,\n",
    "        \"label\": \"approved\",\n",
    "        \"dataset\": \"bqml\",\n",
    "        \"model\": \"feat_mortgage_model-new\",\n",
    "        \"artifact_uri\": MODEL_DIR,\n",
    "        \"num_trials\": 2,\n",
    "        \"deploy_image\": DEPLOY_IMAGE,\n",
    "        \"display_name\": \"feat_mortgage_pipeline-new\",\n",
    "        \"machine_type\": \"n1-standard-4\",\n",
    "        \"min_replica_count\": 1,\n",
    "        \"max_replica_count\": 1,\n",
    "        \"accelerator_type\": gpu,\n",
    "        \"accelerator_count\": accelerator_count,\n",
    "        \"project\": PROJECT_ID,\n",
    "        \"location\": \"us-central1\",\n",
    "    },\n",
    "    enable_caching=False,\n",
    ")\n",
    "\n",
    "#pipeline.run()\n",
    "\n",
    "# ! rm -rf bqml.json"
   ]
  },
  {
   "cell_type": "code",
   "execution_count": 45,
   "metadata": {},
   "outputs": [
    {
     "name": "stdout",
     "output_type": "stream",
     "text": [
      "Creating PipelineJob\n",
      "PipelineJob created. Resource name: projects/670723894630/locations/us-central1/pipelineJobs/mortgage-data-pipeline-new-20220929005920\n",
      "To use this PipelineJob in another session:\n",
      "pipeline_job = aiplatform.PipelineJob.get('projects/670723894630/locations/us-central1/pipelineJobs/mortgage-data-pipeline-new-20220929005920')\n",
      "View Pipeline Job:\n",
      "https://console.cloud.google.com/vertex-ai/locations/us-central1/pipelines/runs/mortgage-data-pipeline-new-20220929005920?project=670723894630\n",
      "PipelineJob projects/670723894630/locations/us-central1/pipelineJobs/mortgage-data-pipeline-new-20220929005920 current state:\n",
      "PipelineState.PIPELINE_STATE_RUNNING\n",
      "PipelineJob projects/670723894630/locations/us-central1/pipelineJobs/mortgage-data-pipeline-new-20220929005920 current state:\n",
      "PipelineState.PIPELINE_STATE_RUNNING\n",
      "PipelineJob projects/670723894630/locations/us-central1/pipelineJobs/mortgage-data-pipeline-new-20220929005920 current state:\n",
      "PipelineState.PIPELINE_STATE_RUNNING\n",
      "PipelineJob projects/670723894630/locations/us-central1/pipelineJobs/mortgage-data-pipeline-new-20220929005920 current state:\n",
      "PipelineState.PIPELINE_STATE_RUNNING\n",
      "PipelineJob projects/670723894630/locations/us-central1/pipelineJobs/mortgage-data-pipeline-new-20220929005920 current state:\n",
      "PipelineState.PIPELINE_STATE_RUNNING\n",
      "PipelineJob projects/670723894630/locations/us-central1/pipelineJobs/mortgage-data-pipeline-new-20220929005920 current state:\n",
      "PipelineState.PIPELINE_STATE_RUNNING\n",
      "PipelineJob run completed. Resource name: projects/670723894630/locations/us-central1/pipelineJobs/mortgage-data-pipeline-new-20220929005920\n"
     ]
    }
   ],
   "source": [
    "pipeline.run()\n"
   ]
  },
  {
   "cell_type": "code",
   "execution_count": null,
   "metadata": {},
   "outputs": [],
   "source": [
    "bqml_pipeline = vertex_ai.PipelineJob(\n",
    "    display_name=f\"{PIPELINE_NAME}-job\",\n",
    "    template_path=PIPELINE_PACKAGE,\n",
    "    pipeline_root=PIPELINE_ROOT,\n",
    "    enable_caching=False,\n",
    ")\n",
    "\n",
    "bqml_pipeline.run()"
   ]
  },
  {
   "cell_type": "markdown",
   "metadata": {
    "id": "view_pipleline_results:bqml"
   },
   "source": [
    "### View the BigQuery ML pipeline results"
   ]
  },
  {
   "cell_type": "code",
   "execution_count": null,
   "metadata": {
    "id": "2OM8zzJXJ39s"
   },
   "outputs": [],
   "source": [
    "PROJECT_NUMBER = pipeline.gca_resource.name.split(\"/\")[1]\n",
    "print(PROJECT_NUMBER)\n",
    "\n",
    "\n",
    "def print_pipeline_output(job, output_task_name):\n",
    "    JOB_ID = job.name\n",
    "    print(JOB_ID)\n",
    "    for _ in range(len(job.gca_resource.job_detail.task_details)):\n",
    "        TASK_ID = job.gca_resource.job_detail.task_details[_].task_id\n",
    "        EXECUTE_OUTPUT = (\n",
    "            PIPELINE_ROOT\n",
    "            + \"/\"\n",
    "            + PROJECT_NUMBER\n",
    "            + \"/\"\n",
    "            + JOB_ID\n",
    "            + \"/\"\n",
    "            + output_task_name\n",
    "            + \"_\"\n",
    "            + str(TASK_ID)\n",
    "            + \"/executor_output.json\"\n",
    "        )\n",
    "        GCP_RESOURCES = (\n",
    "            PIPELINE_ROOT\n",
    "            + \"/\"\n",
    "            + PROJECT_NUMBER\n",
    "            + \"/\"\n",
    "            + JOB_ID\n",
    "            + \"/\"\n",
    "            + output_task_name\n",
    "            + \"_\"\n",
    "            + str(TASK_ID)\n",
    "            + \"/gcp_resources\"\n",
    "        )\n",
    "        EVAL_METRICS = (\n",
    "            PIPELINE_ROOT\n",
    "            + \"/\"\n",
    "            + PROJECT_NUMBER\n",
    "            + \"/\"\n",
    "            + JOB_ID\n",
    "            + \"/\"\n",
    "            + output_task_name\n",
    "            + \"_\"\n",
    "            + str(TASK_ID)\n",
    "            + \"/evaluation_metrics\"\n",
    "        )\n",
    "        if tf.io.gfile.exists(EXECUTE_OUTPUT):\n",
    "            ! gsutil cat $EXECUTE_OUTPUT\n",
    "            return EXECUTE_OUTPUT\n",
    "        elif tf.io.gfile.exists(GCP_RESOURCES):\n",
    "            ! gsutil cat $GCP_RESOURCES\n",
    "            return GCP_RESOURCES\n",
    "        elif tf.io.gfile.exists(EVAL_METRICS):\n",
    "            ! gsutil cat $EVAL_METRICS\n",
    "            return EVAL_METRICS\n",
    "\n",
    "    return None\n",
    "\n",
    "\n",
    "print(\"bigquery-query-job\")\n",
    "artifacts = print_pipeline_output(pipeline, \"bigquery-query-job\")\n",
    "print(\"\\n\\n\")\n",
    "print(\"bigquery-create-model-job\")\n",
    "artifacts = print_pipeline_output(pipeline, \"bigquery-create-model-job\")\n",
    "print(\"\\n\\n\")\n",
    "print(\"bigquery-evaluate-model-job\")\n",
    "artifacts = print_pipeline_output(pipeline, \"bigquery-evaluate-model-job\")\n",
    "print(\"\\n\\n\")\n",
    "print(\"bigquery-predict-model-job\")\n",
    "artifacts = print_pipeline_output(pipeline, \"bigquery-predict-model-job\")\n",
    "print(\"\\n\\n\")\n",
    "print(\"bigquery-export-model-job\")\n",
    "artifacts = print_pipeline_output(pipeline, \"bigquery-export-model-job\")\n",
    "print(\"\\n\\n\")\n",
    "print(\"model-upload\")\n",
    "artifacts = print_pipeline_output(pipeline, \"model-upload\")\n",
    "output = !gsutil cat $artifacts\n",
    "output = json.loads(output[0])\n",
    "model_id = output[\"artifacts\"][\"model\"][\"artifacts\"][0][\"metadata\"][\"resourceName\"]\n",
    "print(\"\\n\\n\")\n",
    "print(\"endpoint-create\")\n",
    "artifacts = print_pipeline_output(pipeline, \"endpoint-create\")\n",
    "print(\"\\n\\n\")\n",
    "output = !gsutil cat $artifacts\n",
    "output = json.loads(output[0])\n",
    "endpoint_id = output[\"artifacts\"][\"endpoint\"][\"artifacts\"][0][\"metadata\"][\n",
    "    \"resourceName\"\n",
    "]\n",
    "print(\"\\n\")\n",
    "print(endpoint_id)\n",
    "print(\"\\n\")\n",
    "print(\"model-deploy\")\n",
    "artifacts = print_pipeline_output(pipeline, \"model-deploy\")\n",
    "print(\"\\n\\n\")"
   ]
  },
  {
   "cell_type": "markdown",
   "metadata": {
    "id": "delete_pipeline"
   },
   "source": [
    "### Delete a pipeline job\n",
    "\n",
    "After a pipeline job is completed, you can delete the pipeline job with the method `delete()`.  Prior to completion, a pipeline job can be canceled with the method `cancel()`."
   ]
  },
  {
   "cell_type": "code",
   "execution_count": null,
   "metadata": {
    "id": "1UTEiNi9J39s"
   },
   "outputs": [],
   "source": [
    "pipeline.delete()"
   ]
  },
  {
   "cell_type": "markdown",
   "metadata": {
    "id": "endpoint_load:mbsdk"
   },
   "source": [
    "#### Load an endpoint\n",
    "\n",
    "The 'Endpoint' initializer will load an endpoint from an endpoint identifier."
   ]
  },
  {
   "cell_type": "code",
   "execution_count": null,
   "metadata": {
    "id": "gPEt5GMAJ39s"
   },
   "outputs": [],
   "source": [
    "endpoint = aip.Endpoint(endpoint_id)"
   ]
  },
  {
   "cell_type": "markdown",
   "metadata": {
    "id": "make_test_items:bqml,penguins"
   },
   "source": [
    "#### Make prediction instances\n",
    "\n",
    "Next, you prepare a prediction request using a synthetic example. The format for making a prediction request to an export BigQuery ML model is dependent on the exported model format. In the case where `model_type=DNN_CLASSIFIER`, the exported model format is a TensorFlow estimator format. For this format, you use the `raw_predict()`, with the following request format:\n",
    "\n",
    "    http_body -> {\n",
    "        'signature_name' : serving_signature,\n",
    "        'instances': [ {instance_1}, {instance_2}, ... ]\n",
    "    }\n",
    "\n",
    "    instance -> { 'feature_1': value_1, 'feature_2': value_2, ... }\n",
    "\n",
    "    serving_signature -> \"predict\"\n",
    "\n",
    "Below is a partial list of mapping BigQuery ML model types to their corresponding exported model format:\n",
    "\n",
    "'LINEAR_REG'<br/>\n",
    "'LOGISTIC_REG' -> TensorFlow SavedFormat\n",
    "\n",
    "'AUTOML_CLASSIFIER'<br/>\n",
    "'AUTOML_REGRESSOR' -> TensorFlow SavedFormat\n",
    "\n",
    "'BOOSTED_TREE_CLASSIFIER'<br/>\n",
    "'BOOSTED_TREE_REGRESSOR' -> XGBoost format\n",
    "\n",
    "'DNN_CLASSIFIER'<br/>\n",
    "'DNN_REGRESSOR'<br/>\n",
    "'DNN_LINEAR_COMBINED_CLASSIFIER'<br/>\n",
    "'DNN_LINEAR_COMBINED_REGRESSOR' -> TensorFlow Estimator"
   ]
  },
  {
   "cell_type": "code",
   "execution_count": null,
   "metadata": {
    "id": "sesK_MSdJ39t"
   },
   "outputs": [],
   "source": [
    "import json\n",
    "\n",
    "from google.api import httpbody_pb2\n",
    "from google.cloud import aiplatform_v1\n",
    "\n",
    "DATA = {\n",
    "    \"signature_name\": \"predict\",\n",
    "    \"instances\": [\n",
    "        {\n",
    "            \"island\": \"DREAM\",\n",
    "            \"culmen_length_mm\": 36.6,\n",
    "            \"culmen_depth_mm\": 18.4,\n",
    "            \"flipper_length_mm\": 184.0,\n",
    "            \"body_mass_g\": 3475.0,\n",
    "            \"sex\": \"FEMALE\",\n",
    "        }\n",
    "    ],\n",
    "}\n",
    "\n",
    "http_body = httpbody_pb2.HttpBody(\n",
    "    data=json.dumps(DATA).encode(\"utf-8\"),\n",
    "    content_type=\"application/json\",\n",
    ")\n",
    "\n",
    "req = aiplatform_v1.RawPredictRequest(http_body=http_body, endpoint=endpoint_id)"
   ]
  },
  {
   "cell_type": "markdown",
   "metadata": {
    "id": "endpoint_predict:mbsdk"
   },
   "source": [
    "### Make a prediction\n",
    "\n",
    "Finally, you make the prediction request using Vertex AI Prediction service."
   ]
  },
  {
   "cell_type": "code",
   "execution_count": null,
   "metadata": {
    "id": "u5_cgdKQJ39t"
   },
   "outputs": [],
   "source": [
    "API_ENDPOINT = \"{}-aiplatform.googleapis.com\".format(REGION)\n",
    "client_options = {\"api_endpoint\": API_ENDPOINT}\n",
    "\n",
    "pred_client = aip.gapic.PredictionServiceClient(client_options=client_options)\n",
    "\n",
    "response = pred_client.raw_predict(req)\n",
    "print(response)"
   ]
  },
  {
   "cell_type": "markdown",
   "metadata": {
    "id": "delete:bqml,penguins"
   },
   "source": [
    "#### Delete the BigQuery model and dataset\n",
    "\n",
    "Next, delete the BigQuery model and dataset."
   ]
  },
  {
   "cell_type": "code",
   "execution_count": null,
   "metadata": {
    "id": "W0rhdoHmJ39t"
   },
   "outputs": [],
   "source": [
    "try:\n",
    "    job = bqclient.delete_model(f\"{PROJECT_ID}.bqml_tutorial.penguins_model\")\n",
    "except:\n",
    "    pass\n",
    "job = bqclient.delete_dataset(f\"{PROJECT_ID}.bqml_tutorial\", delete_contents=True)"
   ]
  },
  {
   "cell_type": "markdown",
   "metadata": {
    "id": "e776f9a3bdc4"
   },
   "source": [
    "#### Delete the Vertex AI Model and Endpoint resources\n",
    "\n",
    "Next, undelpoy and delete the Vertex AI Model and Endpoint resources."
   ]
  },
  {
   "cell_type": "code",
   "execution_count": 46,
   "metadata": {
    "id": "63462e0480f0"
   },
   "outputs": [
    {
     "ename": "NameError",
     "evalue": "name 'endpoint' is not defined",
     "output_type": "error",
     "traceback": [
      "\u001b[0;31m---------------------------------------------------------------------------\u001b[0m",
      "\u001b[0;31mNameError\u001b[0m                                 Traceback (most recent call last)",
      "\u001b[0;32m/tmp/ipykernel_5777/946645765.py\u001b[0m in \u001b[0;36m<module>\u001b[0;34m\u001b[0m\n\u001b[0;32m----> 1\u001b[0;31m \u001b[0mendpoint\u001b[0m\u001b[0;34m.\u001b[0m\u001b[0mundeploy_all\u001b[0m\u001b[0;34m(\u001b[0m\u001b[0;34m)\u001b[0m\u001b[0;34m\u001b[0m\u001b[0;34m\u001b[0m\u001b[0m\n\u001b[0m\u001b[1;32m      2\u001b[0m \u001b[0mendpoint\u001b[0m\u001b[0;34m.\u001b[0m\u001b[0mdelete\u001b[0m\u001b[0;34m(\u001b[0m\u001b[0;34m)\u001b[0m\u001b[0;34m\u001b[0m\u001b[0;34m\u001b[0m\u001b[0m\n\u001b[1;32m      3\u001b[0m \u001b[0;34m\u001b[0m\u001b[0m\n\u001b[1;32m      4\u001b[0m \u001b[0mmodel\u001b[0m \u001b[0;34m=\u001b[0m \u001b[0maip\u001b[0m\u001b[0;34m.\u001b[0m\u001b[0mModel\u001b[0m\u001b[0;34m(\u001b[0m\u001b[0mmodel_id\u001b[0m\u001b[0;34m)\u001b[0m\u001b[0;34m\u001b[0m\u001b[0;34m\u001b[0m\u001b[0m\n\u001b[1;32m      5\u001b[0m \u001b[0mmodel\u001b[0m\u001b[0;34m.\u001b[0m\u001b[0mdelete\u001b[0m\u001b[0;34m(\u001b[0m\u001b[0;34m)\u001b[0m\u001b[0;34m\u001b[0m\u001b[0;34m\u001b[0m\u001b[0m\n",
      "\u001b[0;31mNameError\u001b[0m: name 'endpoint' is not defined"
     ]
    }
   ],
   "source": [
    "endpoint.undeploy_all()\n",
    "endpoint.delete()\n",
    "\n",
    "model = aip.Model(model_id)\n",
    "model.delete()"
   ]
  },
  {
   "cell_type": "markdown",
   "metadata": {
    "id": "cleanup:mbsdk"
   },
   "source": [
    "# Cleaning up\n",
    "\n",
    "To clean up all Google Cloud resources used in this project, you can [delete the Google Cloud\n",
    "project](https://cloud.google.com/resource-manager/docs/creating-managing-projects#shutting_down_projects) you used for the tutorial.\n",
    "\n",
    "Otherwise, you can delete the individual resources you created in this tutorial:"
   ]
  },
  {
   "cell_type": "code",
   "execution_count": null,
   "metadata": {
    "id": "ufWUEbnZJ39u"
   },
   "outputs": [],
   "source": [
    "# Set this to true only if you'd like to delete your bucket\n",
    "delete_bucket = False\n",
    "\n",
    "if delete_bucket or os.getenv(\"IS_TESTING\"):\n",
    "    ! gsutil rm -r $BUCKET_URI"
   ]
  },
  {
   "cell_type": "code",
   "execution_count": 5,
   "metadata": {},
   "outputs": [],
   "source": [
    "BUCKET_NAME = \"ai-ml-meta-auto-vertexai\"  # @param {type:\"string\"}\n",
    "BUCKET_URI = f\"gs://{BUCKET_NAME}\""
   ]
  },
  {
   "cell_type": "code",
   "execution_count": null,
   "metadata": {},
   "outputs": [
    {
     "name": "stdout",
     "output_type": "stream",
     "text": [
      "CommandException: No URLs matched: ./home/jupyter/myCode/simplify-mlops-garage/feat_mortgage_data.csv\n"
     ]
    }
   ],
   "source": [
    "!cd /home/jupyter/myCode/simplify-mlops-garage\n",
    "!gsutil cp ./feat_mortgage_data.csv $BUCKET_URI/bqml"
   ]
  },
  {
   "cell_type": "code",
   "execution_count": 8,
   "metadata": {},
   "outputs": [
    {
     "name": "stdout",
     "output_type": "stream",
     "text": [
      "/home/jupyter/myCode/BQML\n"
     ]
    }
   ],
   "source": [
    "!pwd"
   ]
  },
  {
   "cell_type": "code",
   "execution_count": null,
   "metadata": {},
   "outputs": [],
   "source": []
  }
 ],
 "metadata": {
  "colab": {
   "name": "get_started_with_bqml_pipeline_components.ipynb",
   "toc_visible": true
  },
  "environment": {
   "kernel": "python3",
   "name": "tf2-gpu.2-8.m95",
   "type": "gcloud",
   "uri": "gcr.io/deeplearning-platform-release/tf2-gpu.2-8:m95"
  },
  "kernelspec": {
   "display_name": "Python 3",
   "language": "python",
   "name": "python3"
  },
  "language_info": {
   "codemirror_mode": {
    "name": "ipython",
    "version": 3
   },
   "file_extension": ".py",
   "mimetype": "text/x-python",
   "name": "python",
   "nbconvert_exporter": "python",
   "pygments_lexer": "ipython3",
   "version": "3.7.12"
  }
 },
 "nbformat": 4,
 "nbformat_minor": 4
}
